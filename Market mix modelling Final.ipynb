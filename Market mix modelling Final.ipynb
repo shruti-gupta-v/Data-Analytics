{
 "cells": [
  {
   "cell_type": "markdown",
   "metadata": {},
   "source": [
    "# MARKET MIX MODELLING"
   ]
  },
  {
   "cell_type": "markdown",
   "metadata": {},
   "source": [
    "## Importing Python Libraries"
   ]
  },
  {
   "cell_type": "code",
   "execution_count": 1,
   "metadata": {},
   "outputs": [],
   "source": [
    "# importing libraries\n",
    "import pandas as pd\n",
    "import numpy as np\n",
    "import matplotlib.pyplot as plt\n",
    "import seaborn as sns\n",
    "\n",
    "# visualization\n",
    "from matplotlib.pyplot import xticks\n",
    "%matplotlib inline\n",
    "\n",
    "pd.set_option('display.max_columns',None)"
   ]
  },
  {
   "cell_type": "markdown",
   "metadata": {},
   "source": [
    "## Import Data set"
   ]
  },
  {
   "cell_type": "code",
   "execution_count": 2,
   "metadata": {},
   "outputs": [
    {
     "name": "stderr",
     "output_type": "stream",
     "text": [
      "/Users/venramam/anaconda3/lib/python3.7/site-packages/IPython/core/interactiveshell.py:3049: DtypeWarning: Columns (6,12,13) have mixed types. Specify dtype option on import or set low_memory=False.\n",
      "  interactivity=interactivity, compiler=compiler, result=result)\n"
     ]
    },
    {
     "data": {
      "text/html": [
       "<div>\n",
       "<style scoped>\n",
       "    .dataframe tbody tr th:only-of-type {\n",
       "        vertical-align: middle;\n",
       "    }\n",
       "\n",
       "    .dataframe tbody tr th {\n",
       "        vertical-align: top;\n",
       "    }\n",
       "\n",
       "    .dataframe thead th {\n",
       "        text-align: right;\n",
       "    }\n",
       "</style>\n",
       "<table border=\"1\" class=\"dataframe\">\n",
       "  <thead>\n",
       "    <tr style=\"text-align: right;\">\n",
       "      <th></th>\n",
       "      <th>fsn_id</th>\n",
       "      <th>order_date</th>\n",
       "      <th>Year</th>\n",
       "      <th>Month</th>\n",
       "      <th>order_id</th>\n",
       "      <th>order_item_id</th>\n",
       "      <th>gmv</th>\n",
       "      <th>units</th>\n",
       "      <th>deliverybdays</th>\n",
       "      <th>deliverycdays</th>\n",
       "      <th>s1_fact.order_payment_type</th>\n",
       "      <th>sla</th>\n",
       "      <th>cust_id</th>\n",
       "      <th>pincode</th>\n",
       "      <th>product_analytic_super_category</th>\n",
       "      <th>product_analytic_category</th>\n",
       "      <th>product_analytic_sub_category</th>\n",
       "      <th>product_analytic_vertical</th>\n",
       "      <th>product_mrp</th>\n",
       "      <th>product_procurement_sla</th>\n",
       "    </tr>\n",
       "  </thead>\n",
       "  <tbody>\n",
       "    <tr>\n",
       "      <th>0</th>\n",
       "      <td>ACCCX3S58G7B5F6P</td>\n",
       "      <td>2015-10-17 15:11:54</td>\n",
       "      <td>2015</td>\n",
       "      <td>10</td>\n",
       "      <td>3.419301e+15</td>\n",
       "      <td>3.419301e+15</td>\n",
       "      <td>6400</td>\n",
       "      <td>1</td>\n",
       "      <td>\\N</td>\n",
       "      <td>\\N</td>\n",
       "      <td>COD</td>\n",
       "      <td>5</td>\n",
       "      <td>-1.01299130778588E+018</td>\n",
       "      <td>-7.79175582905735E+018</td>\n",
       "      <td>CE</td>\n",
       "      <td>CameraAccessory</td>\n",
       "      <td>CameraAccessory</td>\n",
       "      <td>CameraTripod</td>\n",
       "      <td>7190</td>\n",
       "      <td>0</td>\n",
       "    </tr>\n",
       "    <tr>\n",
       "      <th>1</th>\n",
       "      <td>ACCCX3S58G7B5F6P</td>\n",
       "      <td>2015-10-19 10:07:22</td>\n",
       "      <td>2015</td>\n",
       "      <td>10</td>\n",
       "      <td>1.420831e+15</td>\n",
       "      <td>1.420831e+15</td>\n",
       "      <td>6900</td>\n",
       "      <td>1</td>\n",
       "      <td>\\N</td>\n",
       "      <td>\\N</td>\n",
       "      <td>COD</td>\n",
       "      <td>7</td>\n",
       "      <td>-8.99032457905512E+018</td>\n",
       "      <td>7.33541149097431E+018</td>\n",
       "      <td>CE</td>\n",
       "      <td>CameraAccessory</td>\n",
       "      <td>CameraAccessory</td>\n",
       "      <td>CameraTripod</td>\n",
       "      <td>7190</td>\n",
       "      <td>0</td>\n",
       "    </tr>\n",
       "    <tr>\n",
       "      <th>2</th>\n",
       "      <td>ACCCX3S5AHMF55FV</td>\n",
       "      <td>2015-10-20 15:45:56</td>\n",
       "      <td>2015</td>\n",
       "      <td>10</td>\n",
       "      <td>2.421913e+15</td>\n",
       "      <td>2.421913e+15</td>\n",
       "      <td>1990</td>\n",
       "      <td>1</td>\n",
       "      <td>\\N</td>\n",
       "      <td>\\N</td>\n",
       "      <td>COD</td>\n",
       "      <td>10</td>\n",
       "      <td>-1.0404429420466E+018</td>\n",
       "      <td>-7.47768776228657E+018</td>\n",
       "      <td>CE</td>\n",
       "      <td>CameraAccessory</td>\n",
       "      <td>CameraAccessory</td>\n",
       "      <td>CameraTripod</td>\n",
       "      <td>2099</td>\n",
       "      <td>3</td>\n",
       "    </tr>\n",
       "    <tr>\n",
       "      <th>3</th>\n",
       "      <td>ACCCX3S5AHMF55FV</td>\n",
       "      <td>2015-10-14 12:05:15</td>\n",
       "      <td>2015</td>\n",
       "      <td>10</td>\n",
       "      <td>4.416592e+15</td>\n",
       "      <td>4.416592e+15</td>\n",
       "      <td>1690</td>\n",
       "      <td>1</td>\n",
       "      <td>\\N</td>\n",
       "      <td>\\N</td>\n",
       "      <td>Prepaid</td>\n",
       "      <td>4</td>\n",
       "      <td>-7.60496084352714E+018</td>\n",
       "      <td>-5.83593163877661E+018</td>\n",
       "      <td>CE</td>\n",
       "      <td>CameraAccessory</td>\n",
       "      <td>CameraAccessory</td>\n",
       "      <td>CameraTripod</td>\n",
       "      <td>2099</td>\n",
       "      <td>3</td>\n",
       "    </tr>\n",
       "    <tr>\n",
       "      <th>4</th>\n",
       "      <td>ACCCX3S5AHMF55FV</td>\n",
       "      <td>2015-10-17 21:25:03</td>\n",
       "      <td>2015</td>\n",
       "      <td>10</td>\n",
       "      <td>4.419525e+15</td>\n",
       "      <td>4.419525e+15</td>\n",
       "      <td>1618</td>\n",
       "      <td>1</td>\n",
       "      <td>\\N</td>\n",
       "      <td>\\N</td>\n",
       "      <td>Prepaid</td>\n",
       "      <td>6</td>\n",
       "      <td>2.8945572083453E+018</td>\n",
       "      <td>5.34735360997242E+017</td>\n",
       "      <td>CE</td>\n",
       "      <td>CameraAccessory</td>\n",
       "      <td>CameraAccessory</td>\n",
       "      <td>CameraTripod</td>\n",
       "      <td>2099</td>\n",
       "      <td>3</td>\n",
       "    </tr>\n",
       "  </tbody>\n",
       "</table>\n",
       "</div>"
      ],
      "text/plain": [
       "             fsn_id           order_date  Year  Month      order_id  \\\n",
       "0  ACCCX3S58G7B5F6P  2015-10-17 15:11:54  2015     10  3.419301e+15   \n",
       "1  ACCCX3S58G7B5F6P  2015-10-19 10:07:22  2015     10  1.420831e+15   \n",
       "2  ACCCX3S5AHMF55FV  2015-10-20 15:45:56  2015     10  2.421913e+15   \n",
       "3  ACCCX3S5AHMF55FV  2015-10-14 12:05:15  2015     10  4.416592e+15   \n",
       "4  ACCCX3S5AHMF55FV  2015-10-17 21:25:03  2015     10  4.419525e+15   \n",
       "\n",
       "   order_item_id   gmv  units deliverybdays deliverycdays  \\\n",
       "0   3.419301e+15  6400      1            \\N            \\N   \n",
       "1   1.420831e+15  6900      1            \\N            \\N   \n",
       "2   2.421913e+15  1990      1            \\N            \\N   \n",
       "3   4.416592e+15  1690      1            \\N            \\N   \n",
       "4   4.419525e+15  1618      1            \\N            \\N   \n",
       "\n",
       "  s1_fact.order_payment_type  sla                 cust_id  \\\n",
       "0                        COD    5  -1.01299130778588E+018   \n",
       "1                        COD    7  -8.99032457905512E+018   \n",
       "2                        COD   10   -1.0404429420466E+018   \n",
       "3                    Prepaid    4  -7.60496084352714E+018   \n",
       "4                    Prepaid    6    2.8945572083453E+018   \n",
       "\n",
       "                  pincode product_analytic_super_category  \\\n",
       "0  -7.79175582905735E+018                              CE   \n",
       "1   7.33541149097431E+018                              CE   \n",
       "2  -7.47768776228657E+018                              CE   \n",
       "3  -5.83593163877661E+018                              CE   \n",
       "4   5.34735360997242E+017                              CE   \n",
       "\n",
       "  product_analytic_category product_analytic_sub_category  \\\n",
       "0           CameraAccessory               CameraAccessory   \n",
       "1           CameraAccessory               CameraAccessory   \n",
       "2           CameraAccessory               CameraAccessory   \n",
       "3           CameraAccessory               CameraAccessory   \n",
       "4           CameraAccessory               CameraAccessory   \n",
       "\n",
       "  product_analytic_vertical  product_mrp  product_procurement_sla  \n",
       "0              CameraTripod         7190                        0  \n",
       "1              CameraTripod         7190                        0  \n",
       "2              CameraTripod         2099                        3  \n",
       "3              CameraTripod         2099                        3  \n",
       "4              CameraTripod         2099                        3  "
      ]
     },
     "execution_count": 2,
     "metadata": {},
     "output_type": "execute_result"
    }
   ],
   "source": [
    "ecom_data=pd.read_csv(\"ConsumerElectronics.csv\")\n",
    "ecom_data.head()"
   ]
  },
  {
   "cell_type": "code",
   "execution_count": 3,
   "metadata": {},
   "outputs": [],
   "source": [
    "# make a copy of imported data frame\n",
    "ecom_data_copy=ecom_data.copy()"
   ]
  },
  {
   "cell_type": "markdown",
   "metadata": {},
   "source": [
    "## Inspecting the data frame"
   ]
  },
  {
   "cell_type": "code",
   "execution_count": 4,
   "metadata": {},
   "outputs": [
    {
     "data": {
      "text/plain": [
       "(1648824, 20)"
      ]
     },
     "execution_count": 4,
     "metadata": {},
     "output_type": "execute_result"
    }
   ],
   "source": [
    "ecom_data_copy.shape"
   ]
  },
  {
   "cell_type": "code",
   "execution_count": 5,
   "metadata": {},
   "outputs": [
    {
     "name": "stdout",
     "output_type": "stream",
     "text": [
      "<class 'pandas.core.frame.DataFrame'>\n",
      "RangeIndex: 1648824 entries, 0 to 1648823\n",
      "Data columns (total 20 columns):\n",
      "fsn_id                             1648824 non-null object\n",
      "order_date                         1648824 non-null object\n",
      "Year                               1648824 non-null int64\n",
      "Month                              1648824 non-null int64\n",
      "order_id                           1648824 non-null float64\n",
      "order_item_id                      1648824 non-null float64\n",
      "gmv                                1648824 non-null object\n",
      "units                              1648824 non-null int64\n",
      "deliverybdays                      1648824 non-null object\n",
      "deliverycdays                      1648824 non-null object\n",
      "s1_fact.order_payment_type         1648824 non-null object\n",
      "sla                                1648824 non-null int64\n",
      "cust_id                            1648824 non-null object\n",
      "pincode                            1648824 non-null object\n",
      "product_analytic_super_category    1648824 non-null object\n",
      "product_analytic_category          1648824 non-null object\n",
      "product_analytic_sub_category      1648824 non-null object\n",
      "product_analytic_vertical          1648824 non-null object\n",
      "product_mrp                        1648824 non-null int64\n",
      "product_procurement_sla            1648824 non-null int64\n",
      "dtypes: float64(2), int64(6), object(12)\n",
      "memory usage: 251.6+ MB\n"
     ]
    }
   ],
   "source": [
    "ecom_data_copy.info()"
   ]
  },
  {
   "cell_type": "markdown",
   "metadata": {},
   "source": [
    "## Data Cleaning"
   ]
  },
  {
   "cell_type": "markdown",
   "metadata": {},
   "source": [
    "### Dropping irrelevent columns "
   ]
  },
  {
   "cell_type": "code",
   "execution_count": 6,
   "metadata": {},
   "outputs": [],
   "source": [
    "# Dropping irrelevent columns\n",
    "col_irrelevent=['fsn_id','order_id','order_item_id','cust_id','pincode','product_analytic_super_category', 'product_analytic_category','product_analytic_vertical']\n",
    "ecom_data_copy=ecom_data_copy.drop(col_irrelevent, axis=1)"
   ]
  },
  {
   "cell_type": "code",
   "execution_count": 7,
   "metadata": {},
   "outputs": [
    {
     "data": {
      "text/plain": [
       "Index(['order_date', 'Year', 'Month', 'gmv', 'units', 'deliverybdays',\n",
       "       'deliverycdays', 's1_fact.order_payment_type', 'sla',\n",
       "       'product_analytic_sub_category', 'product_mrp',\n",
       "       'product_procurement_sla'],\n",
       "      dtype='object')"
      ]
     },
     "execution_count": 7,
     "metadata": {},
     "output_type": "execute_result"
    }
   ],
   "source": [
    "ecom_data_copy.columns"
   ]
  },
  {
   "cell_type": "markdown",
   "metadata": {},
   "source": [
    "### Changing data type"
   ]
  },
  {
   "cell_type": "code",
   "execution_count": 8,
   "metadata": {},
   "outputs": [],
   "source": [
    "# converting gmv from object to numeric and any non numeric value to NAN\n",
    "ecom_data_copy['gmv']=pd.to_numeric(ecom_data_copy['gmv'], errors='coerce')"
   ]
  },
  {
   "cell_type": "markdown",
   "metadata": {},
   "source": [
    "### Missing value treatment"
   ]
  },
  {
   "cell_type": "code",
   "execution_count": 9,
   "metadata": {},
   "outputs": [],
   "source": [
    "# deliverybdays and deliverycdays columns have many values as \\N .\n",
    "# It is actually NAN value lets replace it with NAN\n",
    "ecom_data_copy[['deliverybdays','deliverycdays']]=ecom_data_copy[['deliverybdays','deliverycdays']].replace('\\\\N', np.nan)"
   ]
  },
  {
   "cell_type": "code",
   "execution_count": 10,
   "metadata": {},
   "outputs": [
    {
     "data": {
      "text/plain": [
       "deliverycdays                    79.63\n",
       "deliverybdays                    79.63\n",
       "gmv                               0.30\n",
       "product_procurement_sla           0.00\n",
       "product_mrp                       0.00\n",
       "product_analytic_sub_category     0.00\n",
       "sla                               0.00\n",
       "s1_fact.order_payment_type        0.00\n",
       "units                             0.00\n",
       "Month                             0.00\n",
       "Year                              0.00\n",
       "order_date                        0.00\n",
       "dtype: float64"
      ]
     },
     "execution_count": 10,
     "metadata": {},
     "output_type": "execute_result"
    }
   ],
   "source": [
    "# finding % of missing values in all columns\n",
    "(ecom_data_copy.isna().mean().round(4) * 100).sort_values(ascending=False)"
   ]
  },
  {
   "cell_type": "code",
   "execution_count": 11,
   "metadata": {},
   "outputs": [],
   "source": [
    "# 80% values are null in deliverycdays, deliverybdays coloumns lets drop them\n",
    "ecom_data_copy=ecom_data_copy.drop(['deliverycdays','deliverybdays'], axis=1)"
   ]
  },
  {
   "cell_type": "code",
   "execution_count": 12,
   "metadata": {},
   "outputs": [],
   "source": [
    "# filtering the rows having NAN in gmv columns\n",
    "ecom_data_copy = ecom_data_copy[ecom_data_copy['gmv'].notna()]"
   ]
  },
  {
   "cell_type": "code",
   "execution_count": 13,
   "metadata": {},
   "outputs": [
    {
     "data": {
      "text/plain": [
       "(1643920, 10)"
      ]
     },
     "execution_count": 13,
     "metadata": {},
     "output_type": "execute_result"
    }
   ],
   "source": [
    "ecom_data_copy.shape"
   ]
  },
  {
   "cell_type": "markdown",
   "metadata": {},
   "source": [
    "### Identifying and treating outliers"
   ]
  },
  {
   "cell_type": "code",
   "execution_count": 14,
   "metadata": {},
   "outputs": [
    {
     "data": {
      "text/plain": [
       "<matplotlib.axes._subplots.AxesSubplot at 0x1a19978b00>"
      ]
     },
     "execution_count": 14,
     "metadata": {},
     "output_type": "execute_result"
    },
    {
     "data": {
      "image/png": "[encoded data removed]",
      "text/plain": [
       "<Figure size 1440x864 with 5 Axes>"
      ]
     },
     "metadata": {
      "needs_background": "light"
     },
     "output_type": "display_data"
    }
   ],
   "source": [
    "# Detecting and treating outliers\n",
    "# for this we are taking here 5 numeric columns gmv, product_mrp,units, sla, product_procurement_sla\n",
    "plt.figure(figsize=(20, 12))\n",
    "plt.subplot(2,3,1)\n",
    "sns.boxplot(x=ecom_data_copy['gmv'])\n",
    "plt.subplot(2,3,2)\n",
    "sns.boxplot(x=ecom_data_copy['product_mrp'])\n",
    "plt.subplot(2,3,3)\n",
    "sns.boxplot(x=ecom_data_copy['units'])\n",
    "plt.subplot(2,3,4)\n",
    "sns.boxplot(x=ecom_data_copy['sla'])\n",
    "plt.subplot(2,3,5)\n",
    "sns.boxplot(x=ecom_data_copy['product_procurement_sla'])\n",
    "\n"
   ]
  },
  {
   "cell_type": "code",
   "execution_count": 15,
   "metadata": {},
   "outputs": [
    {
     "data": {
      "text/plain": [
       "(1643920, 10)"
      ]
     },
     "execution_count": 15,
     "metadata": {},
     "output_type": "execute_result"
    }
   ],
   "source": [
    "# columns sla, product_procurement_sla have outliers present \n",
    "Q1 = ecom_data_copy[['sla', 'product_procurement_sla']].quantile(0.25)\n",
    "Q3 = ecom_data_copy[['sla', 'product_procurement_sla']].quantile(0.75)\n",
    "\n",
    "IQR=Q3-Q1\n",
    "\n",
    "# shape of application_data before removing outliers\n",
    "ecom_data_copy.shape"
   ]
  },
  {
   "cell_type": "code",
   "execution_count": 16,
   "metadata": {},
   "outputs": [
    {
     "data": {
      "text/plain": [
       "(1571157, 10)"
      ]
     },
     "execution_count": 16,
     "metadata": {},
     "output_type": "execute_result"
    }
   ],
   "source": [
    "# removing outliers from above mentioned 2 columns\n",
    "ecom_data_copy= ecom_data_copy[~((ecom_data_copy[['sla', 'product_procurement_sla']] < (Q1 - 1.5 * IQR)) |(ecom_data_copy[['sla', 'product_procurement_sla']] > (Q3 + 1.5 * IQR))).any(axis=1)]\n",
    "ecom_data_copy.shape"
   ]
  },
  {
   "cell_type": "code",
   "execution_count": 17,
   "metadata": {},
   "outputs": [
    {
     "data": {
      "text/plain": [
       "<matplotlib.axes._subplots.AxesSubplot at 0x1a1dbbef28>"
      ]
     },
     "execution_count": 17,
     "metadata": {},
     "output_type": "execute_result"
    },
    {
     "data": {
      "image/png": "[encoded data removed]",
      "text/plain": [
       "<Figure size 432x288 with 2 Axes>"
      ]
     },
     "metadata": {
      "needs_background": "light"
     },
     "output_type": "display_data"
    }
   ],
   "source": [
    "# checking both the variables again after removing outliers:\n",
    "plt.subplot(2,3,1)\n",
    "sns.boxplot(x=ecom_data_copy['sla'])\n",
    "plt.subplot(2,3,2)\n",
    "sns.boxplot(x=ecom_data_copy['product_procurement_sla'])"
   ]
  },
  {
   "cell_type": "markdown",
   "metadata": {},
   "source": [
    "### UNIVARIATE ANALYSIS"
   ]
  },
  {
   "cell_type": "markdown",
   "metadata": {},
   "source": [
    "#### Categorical features\n"
   ]
  },
  {
   "cell_type": "code",
   "execution_count": 18,
   "metadata": {
    "scrolled": true
   },
   "outputs": [
    {
     "data": {
      "image/png": "[encoded data removed]",
      "text/plain": [
       "<Figure size 1440x720 with 4 Axes>"
      ]
     },
     "metadata": {
      "needs_background": "light"
     },
     "output_type": "display_data"
    }
   ],
   "source": [
    "# s1_fact.order_payment_type,product_analytic_sub_category\n",
    "categorical_features = ['s1_fact.order_payment_type','product_analytic_sub_category','Month','Year']\n",
    "plt.rcParams[\"figure.figsize\"] = [20,10]\n",
    "plt.subplots_adjust(left=None, bottom=None, right=None, top=None, wspace=None, hspace=1.5)\n",
    "for i, categorical_feature in enumerate(ecom_data_copy[categorical_features]):\n",
    "    plt.subplot(2,2,i+1)\n",
    "    (100*ecom_data_copy[categorical_feature].value_counts()/len(ecom_data_copy.index)).plot(kind='bar').set_title(categorical_feature)"
   ]
  },
  {
   "cell_type": "markdown",
   "metadata": {},
   "source": [
    "#### Observations:\n",
    "#### 1) 75% orders are cash on delivery and only 25% are prepaid\n",
    "#### 2) Camera accessory,gaming accesory and home audio contribute almost 33% in total orders \n",
    "#### 3) highest number of orders are in September and October months then sale is decreasing constantly\n",
    "#### 4) In terms of orders company is progressing as orders in 2016 are higher than 2015"
   ]
  },
  {
   "cell_type": "markdown",
   "metadata": {},
   "source": [
    "#### Numerical variable"
   ]
  },
  {
   "cell_type": "code",
   "execution_count": 19,
   "metadata": {},
   "outputs": [
    {
     "data": {
      "image/png": "[encoded data removed]",
      "text/plain": [
       "<Figure size 1440x720 with 5 Axes>"
      ]
     },
     "metadata": {
      "needs_background": "light"
     },
     "output_type": "display_data"
    }
   ],
   "source": [
    "# gmv, product_procurement_sla, product_mrp,sla,units     \n",
    "numerical_features = ['gmv', 'product_procurement_sla', 'product_mrp','sla','units']\n",
    "\n",
    "plt.rcParams[\"figure.figsize\"] = [20,10]\n",
    "for i, numerical_feature in enumerate(ecom_data_copy[numerical_features]):\n",
    "    plt.subplot(2,3,i+1)\n",
    "    ecom_data_copy[numerical_feature].plot.hist().set_title(numerical_feature)"
   ]
  },
  {
   "cell_type": "code",
   "execution_count": 20,
   "metadata": {},
   "outputs": [
    {
     "data": {
      "text/plain": [
       "(1496262, 10)"
      ]
     },
     "execution_count": 20,
     "metadata": {},
     "output_type": "execute_result"
    }
   ],
   "source": [
    "# few rows have negative values in product_procurement_sla which is invalid lets drop such rows\n",
    "ecom_data_copy=ecom_data_copy.loc[ecom_data_copy.product_procurement_sla>=0]\n",
    "ecom_data_copy.shape"
   ]
  },
  {
   "cell_type": "markdown",
   "metadata": {},
   "source": [
    "### Bivariate analysis"
   ]
  },
  {
   "cell_type": "code",
   "execution_count": 21,
   "metadata": {},
   "outputs": [
    {
     "data": {
      "image/png": "[encoded data removed]",
      "text/plain": [
       "<Figure size 1440x720 with 2 Axes>"
      ]
     },
     "metadata": {
      "needs_background": "light"
     },
     "output_type": "display_data"
    }
   ],
   "source": [
    "corr=ecom_data_copy.corr()\n",
    "ax = sns.heatmap(\n",
    "    corr, \n",
    "    vmin=-1, vmax=1, center=0,\n",
    "    cmap=sns.diverging_palette(20, 220, n=200),\n",
    "    square=True\n",
    ")\n",
    "ax.set_xticklabels(\n",
    "    ax.get_xticklabels(),\n",
    "    rotation=45,\n",
    "    horizontalalignment='right'\n",
    ");"
   ]
  },
  {
   "cell_type": "markdown",
   "metadata": {},
   "source": [
    "gmv is highly correlated with product_mrp so product_mrp is most important KPI\n",
    "other important KPIs are holiday_flag and sla as they are also loosly related with gmv"
   ]
  },
  {
   "cell_type": "markdown",
   "metadata": {},
   "source": [
    "## Data Preparation"
   ]
  },
  {
   "cell_type": "code",
   "execution_count": 22,
   "metadata": {},
   "outputs": [],
   "source": [
    "# Converting order_date to datetime format\n",
    "ecom_data_copy['order_date'] = pd.to_datetime(ecom_data_copy['order_date'])\n",
    "\n",
    "# extracting week from order_date\n",
    "ecom_data_copy['order_week']=ecom_data_copy['order_date'].dt.week"
   ]
  },
  {
   "cell_type": "code",
   "execution_count": 23,
   "metadata": {},
   "outputs": [
    {
     "data": {
      "text/html": [
       "<div>\n",
       "<style scoped>\n",
       "    .dataframe tbody tr th:only-of-type {\n",
       "        vertical-align: middle;\n",
       "    }\n",
       "\n",
       "    .dataframe tbody tr th {\n",
       "        vertical-align: top;\n",
       "    }\n",
       "\n",
       "    .dataframe thead th {\n",
       "        text-align: right;\n",
       "    }\n",
       "</style>\n",
       "<table border=\"1\" class=\"dataframe\">\n",
       "  <thead>\n",
       "    <tr style=\"text-align: right;\">\n",
       "      <th></th>\n",
       "      <th>order_date</th>\n",
       "      <th>Year</th>\n",
       "      <th>Month</th>\n",
       "      <th>gmv</th>\n",
       "      <th>units</th>\n",
       "      <th>s1_fact.order_payment_type</th>\n",
       "      <th>sla</th>\n",
       "      <th>product_analytic_sub_category</th>\n",
       "      <th>product_mrp</th>\n",
       "      <th>product_procurement_sla</th>\n",
       "      <th>order_week</th>\n",
       "    </tr>\n",
       "  </thead>\n",
       "  <tbody>\n",
       "    <tr>\n",
       "      <th>0</th>\n",
       "      <td>2015-10-17 15:11:54</td>\n",
       "      <td>2015</td>\n",
       "      <td>10</td>\n",
       "      <td>6400.0</td>\n",
       "      <td>1</td>\n",
       "      <td>COD</td>\n",
       "      <td>5</td>\n",
       "      <td>CameraAccessory</td>\n",
       "      <td>7190</td>\n",
       "      <td>0</td>\n",
       "      <td>42</td>\n",
       "    </tr>\n",
       "    <tr>\n",
       "      <th>1</th>\n",
       "      <td>2015-10-19 10:07:22</td>\n",
       "      <td>2015</td>\n",
       "      <td>10</td>\n",
       "      <td>6900.0</td>\n",
       "      <td>1</td>\n",
       "      <td>COD</td>\n",
       "      <td>7</td>\n",
       "      <td>CameraAccessory</td>\n",
       "      <td>7190</td>\n",
       "      <td>0</td>\n",
       "      <td>43</td>\n",
       "    </tr>\n",
       "    <tr>\n",
       "      <th>2</th>\n",
       "      <td>2015-10-20 15:45:56</td>\n",
       "      <td>2015</td>\n",
       "      <td>10</td>\n",
       "      <td>1990.0</td>\n",
       "      <td>1</td>\n",
       "      <td>COD</td>\n",
       "      <td>10</td>\n",
       "      <td>CameraAccessory</td>\n",
       "      <td>2099</td>\n",
       "      <td>3</td>\n",
       "      <td>43</td>\n",
       "    </tr>\n",
       "    <tr>\n",
       "      <th>3</th>\n",
       "      <td>2015-10-14 12:05:15</td>\n",
       "      <td>2015</td>\n",
       "      <td>10</td>\n",
       "      <td>1690.0</td>\n",
       "      <td>1</td>\n",
       "      <td>Prepaid</td>\n",
       "      <td>4</td>\n",
       "      <td>CameraAccessory</td>\n",
       "      <td>2099</td>\n",
       "      <td>3</td>\n",
       "      <td>42</td>\n",
       "    </tr>\n",
       "    <tr>\n",
       "      <th>4</th>\n",
       "      <td>2015-10-17 21:25:03</td>\n",
       "      <td>2015</td>\n",
       "      <td>10</td>\n",
       "      <td>1618.0</td>\n",
       "      <td>1</td>\n",
       "      <td>Prepaid</td>\n",
       "      <td>6</td>\n",
       "      <td>CameraAccessory</td>\n",
       "      <td>2099</td>\n",
       "      <td>3</td>\n",
       "      <td>42</td>\n",
       "    </tr>\n",
       "  </tbody>\n",
       "</table>\n",
       "</div>"
      ],
      "text/plain": [
       "           order_date  Year  Month     gmv  units s1_fact.order_payment_type  \\\n",
       "0 2015-10-17 15:11:54  2015     10  6400.0      1                        COD   \n",
       "1 2015-10-19 10:07:22  2015     10  6900.0      1                        COD   \n",
       "2 2015-10-20 15:45:56  2015     10  1990.0      1                        COD   \n",
       "3 2015-10-14 12:05:15  2015     10  1690.0      1                    Prepaid   \n",
       "4 2015-10-17 21:25:03  2015     10  1618.0      1                    Prepaid   \n",
       "\n",
       "   sla product_analytic_sub_category  product_mrp  product_procurement_sla  \\\n",
       "0    5               CameraAccessory         7190                        0   \n",
       "1    7               CameraAccessory         7190                        0   \n",
       "2   10               CameraAccessory         2099                        3   \n",
       "3    4               CameraAccessory         2099                        3   \n",
       "4    6               CameraAccessory         2099                        3   \n",
       "\n",
       "   order_week  \n",
       "0          42  \n",
       "1          43  \n",
       "2          43  \n",
       "3          42  \n",
       "4          42  "
      ]
     },
     "execution_count": 23,
     "metadata": {},
     "output_type": "execute_result"
    }
   ],
   "source": [
    "ecom_data_copy.head()"
   ]
  },
  {
   "cell_type": "code",
   "execution_count": 24,
   "metadata": {},
   "outputs": [],
   "source": [
    "# Deriving new coloumn for holiday flag and pay day flag\n",
    "# from the special sale day data we got holidays list as below\n",
    "holidays=[\"2015-07-18\",\"2015-07-19\",\"2015-08-15\",\"2015-08-16\",\"2015-08-17\",\"2015-08-28\",\"2015-08-29\",\"2015-08-30\",\"2015-10-15\",\n",
    "          \"2015-10-16\",\"2015-10-17\",\"2015-11-07\",\"2015-11-08\",\"2015-11-09\",\"2015-11-10\",\"2015-11-11\",\"2015-11-12\",\"2015-11-13\",\n",
    "          \"2015-11-14\",\"2015-12-25\",\"2015-12-26\",\"2015-12-27\",\"2015-12-28\",\"2015-12-29\",\"2015-12-30\",\"2016-01-01\",\"2016-01-02\",\n",
    "          \"2016-01-03\",\"2016-01-20\",\"2016-01-21\",\"2016-01-22\",\"2016-02-01\",\"2016-02-02\",\"2016-02-20\",\"2016-02-21\",\"2016-02-14\",\n",
    "          \"2016-02-15\",\"2016-03-07\",\"2016-03-08\",\"2016-03-09\",\"2016-05-25\",\"2016-05-26\",\"2016-05-27\"]\n",
    "from datetime import datetime\n",
    "holidays_list = [datetime.strptime(date, '%Y-%m-%d').date() for date in holidays]\n",
    "\n",
    "ecom_data_copy['holiday_flag'] = [1 if x in holidays_list else 0 for x in ecom_data_copy['order_date'].dt.date] \n",
    "\n",
    "ecom_data_copy['payday_flag']=[1 if d in [1,15] else 0 for d in ecom_data_copy['order_date'].dt.day]"
   ]
  },
  {
   "cell_type": "code",
   "execution_count": 25,
   "metadata": {},
   "outputs": [],
   "source": [
    "# drop coloumn order_date\n",
    "ecom_data_copy=ecom_data_copy.drop(['order_date'], axis=1)\n"
   ]
  },
  {
   "cell_type": "markdown",
   "metadata": {},
   "source": [
    "### Creating 3 separate file for selected sub categories"
   ]
  },
  {
   "cell_type": "code",
   "execution_count": 26,
   "metadata": {},
   "outputs": [],
   "source": [
    "# creating 3 data frames for 3 different sub categories - camera accessory, home audio and gaming accessory\n",
    "CameraAccessory_df=ecom_data_copy.loc[ecom_data_copy['product_analytic_sub_category']=='CameraAccessory']\n",
    "HomeAudio_df=ecom_data_copy.loc[ecom_data_copy['product_analytic_sub_category']=='HomeAudio']\n",
    "GamingAccessory_df=ecom_data_copy.loc[ecom_data_copy['product_analytic_sub_category']=='GamingAccessory']"
   ]
  },
  {
   "cell_type": "code",
   "execution_count": 27,
   "metadata": {},
   "outputs": [],
   "source": [
    "# now drop product_analytic_sub_category from all three data frames\n",
    "CameraAccessory_df=CameraAccessory_df.drop(['product_analytic_sub_category'], axis=1)\n",
    "HomeAudio_df=HomeAudio_df.drop(['product_analytic_sub_category'], axis=1)\n",
    "GamingAccessory_df=GamingAccessory_df.drop(['product_analytic_sub_category'], axis=1)\n"
   ]
  },
  {
   "cell_type": "markdown",
   "metadata": {},
   "source": [
    "### Converting data to weekly basis"
   ]
  },
  {
   "cell_type": "code",
   "execution_count": 28,
   "metadata": {},
   "outputs": [
    {
     "data": {
      "text/plain": [
       "Index(['Year', 'Month', 'gmv', 'units', 's1_fact.order_payment_type', 'sla',\n",
       "       'product_mrp', 'product_procurement_sla', 'order_week', 'holiday_flag',\n",
       "       'payday_flag'],\n",
       "      dtype='object')"
      ]
     },
     "execution_count": 28,
     "metadata": {},
     "output_type": "execute_result"
    }
   ],
   "source": [
    "CameraAccessory_df.columns"
   ]
  },
  {
   "cell_type": "code",
   "execution_count": 29,
   "metadata": {},
   "outputs": [
    {
     "data": {
      "text/html": [
       "<div>\n",
       "<style scoped>\n",
       "    .dataframe tbody tr th:only-of-type {\n",
       "        vertical-align: middle;\n",
       "    }\n",
       "\n",
       "    .dataframe tbody tr th {\n",
       "        vertical-align: top;\n",
       "    }\n",
       "\n",
       "    .dataframe thead th {\n",
       "        text-align: right;\n",
       "    }\n",
       "</style>\n",
       "<table border=\"1\" class=\"dataframe\">\n",
       "  <thead>\n",
       "    <tr style=\"text-align: right;\">\n",
       "      <th></th>\n",
       "      <th></th>\n",
       "      <th>Month</th>\n",
       "      <th>gmv</th>\n",
       "      <th>units</th>\n",
       "      <th>s1_fact.order_payment_type</th>\n",
       "      <th>sla</th>\n",
       "      <th>product_mrp</th>\n",
       "      <th>product_procurement_sla</th>\n",
       "      <th>holiday_flag</th>\n",
       "      <th>payday_flag</th>\n",
       "    </tr>\n",
       "    <tr>\n",
       "      <th>Year</th>\n",
       "      <th>order_week</th>\n",
       "      <th></th>\n",
       "      <th></th>\n",
       "      <th></th>\n",
       "      <th></th>\n",
       "      <th></th>\n",
       "      <th></th>\n",
       "      <th></th>\n",
       "      <th></th>\n",
       "      <th></th>\n",
       "    </tr>\n",
       "  </thead>\n",
       "  <tbody>\n",
       "    <tr>\n",
       "      <th rowspan=\"5\" valign=\"top\">2015</th>\n",
       "      <th>26</th>\n",
       "      <td>6</td>\n",
       "      <td>350.0</td>\n",
       "      <td>1</td>\n",
       "      <td>COD</td>\n",
       "      <td>5.000000</td>\n",
       "      <td>399.000000</td>\n",
       "      <td>3.000000</td>\n",
       "      <td>0</td>\n",
       "      <td>0</td>\n",
       "    </tr>\n",
       "    <tr>\n",
       "      <th>27</th>\n",
       "      <td>7</td>\n",
       "      <td>15526.0</td>\n",
       "      <td>25</td>\n",
       "      <td>Prepaid</td>\n",
       "      <td>1.840000</td>\n",
       "      <td>1458.040000</td>\n",
       "      <td>2.920000</td>\n",
       "      <td>0</td>\n",
       "      <td>0</td>\n",
       "    </tr>\n",
       "    <tr>\n",
       "      <th>28</th>\n",
       "      <td>7</td>\n",
       "      <td>3702743.0</td>\n",
       "      <td>2653</td>\n",
       "      <td>COD</td>\n",
       "      <td>6.302637</td>\n",
       "      <td>2567.004723</td>\n",
       "      <td>2.672176</td>\n",
       "      <td>0</td>\n",
       "      <td>0</td>\n",
       "    </tr>\n",
       "    <tr>\n",
       "      <th>29</th>\n",
       "      <td>7</td>\n",
       "      <td>4203216.0</td>\n",
       "      <td>2957</td>\n",
       "      <td>COD</td>\n",
       "      <td>5.999651</td>\n",
       "      <td>2519.958871</td>\n",
       "      <td>2.694667</td>\n",
       "      <td>1</td>\n",
       "      <td>1</td>\n",
       "    </tr>\n",
       "    <tr>\n",
       "      <th>30</th>\n",
       "      <td>7</td>\n",
       "      <td>4141102.0</td>\n",
       "      <td>2978</td>\n",
       "      <td>COD</td>\n",
       "      <td>6.095905</td>\n",
       "      <td>2493.424221</td>\n",
       "      <td>2.737137</td>\n",
       "      <td>0</td>\n",
       "      <td>0</td>\n",
       "    </tr>\n",
       "  </tbody>\n",
       "</table>\n",
       "</div>"
      ],
      "text/plain": [
       "                 Month        gmv  units s1_fact.order_payment_type       sla  \\\n",
       "Year order_week                                                                 \n",
       "2015 26              6      350.0      1                        COD  5.000000   \n",
       "     27              7    15526.0     25                    Prepaid  1.840000   \n",
       "     28              7  3702743.0   2653                        COD  6.302637   \n",
       "     29              7  4203216.0   2957                        COD  5.999651   \n",
       "     30              7  4141102.0   2978                        COD  6.095905   \n",
       "\n",
       "                 product_mrp  product_procurement_sla  holiday_flag  \\\n",
       "Year order_week                                                       \n",
       "2015 26           399.000000                 3.000000             0   \n",
       "     27          1458.040000                 2.920000             0   \n",
       "     28          2567.004723                 2.672176             0   \n",
       "     29          2519.958871                 2.694667             1   \n",
       "     30          2493.424221                 2.737137             0   \n",
       "\n",
       "                 payday_flag  \n",
       "Year order_week               \n",
       "2015 26                    0  \n",
       "     27                    0  \n",
       "     28                    0  \n",
       "     29                    1  \n",
       "     30                    0  "
      ]
     },
     "execution_count": 29,
     "metadata": {},
     "output_type": "execute_result"
    }
   ],
   "source": [
    "weekly_CameraAccessory_df=CameraAccessory_df.groupby(['Year','order_week']).agg({'Month':lambda x:x.value_counts().index[0],\n",
    "                         'gmv':'sum', \n",
    "                         'units':'sum', \n",
    "                         's1_fact.order_payment_type':lambda x:x.value_counts().index[0],\n",
    "                         'sla'  :'mean',\n",
    "                         'product_mrp':'mean',\n",
    "                         'product_procurement_sla':'mean',\n",
    "                         'holiday_flag':lambda x: 1 if (x==1).any() else 0,                            \n",
    "                         'payday_flag':lambda x: 1 if (x==1).any() else 0})\n",
    "\n",
    "weekly_CameraAccessory_df.head()"
   ]
  },
  {
   "cell_type": "code",
   "execution_count": 30,
   "metadata": {},
   "outputs": [
    {
     "data": {
      "text/html": [
       "<div>\n",
       "<style scoped>\n",
       "    .dataframe tbody tr th:only-of-type {\n",
       "        vertical-align: middle;\n",
       "    }\n",
       "\n",
       "    .dataframe tbody tr th {\n",
       "        vertical-align: top;\n",
       "    }\n",
       "\n",
       "    .dataframe thead th {\n",
       "        text-align: right;\n",
       "    }\n",
       "</style>\n",
       "<table border=\"1\" class=\"dataframe\">\n",
       "  <thead>\n",
       "    <tr style=\"text-align: right;\">\n",
       "      <th></th>\n",
       "      <th></th>\n",
       "      <th>Month</th>\n",
       "      <th>gmv</th>\n",
       "      <th>units</th>\n",
       "      <th>s1_fact.order_payment_type</th>\n",
       "      <th>sla</th>\n",
       "      <th>product_mrp</th>\n",
       "      <th>product_procurement_sla</th>\n",
       "      <th>holiday_flag</th>\n",
       "      <th>payday_flag</th>\n",
       "    </tr>\n",
       "    <tr>\n",
       "      <th>Year</th>\n",
       "      <th>order_week</th>\n",
       "      <th></th>\n",
       "      <th></th>\n",
       "      <th></th>\n",
       "      <th></th>\n",
       "      <th></th>\n",
       "      <th></th>\n",
       "      <th></th>\n",
       "      <th></th>\n",
       "      <th></th>\n",
       "    </tr>\n",
       "  </thead>\n",
       "  <tbody>\n",
       "    <tr>\n",
       "      <th rowspan=\"5\" valign=\"top\">2015</th>\n",
       "      <th>21</th>\n",
       "      <td>5</td>\n",
       "      <td>3.149000e+03</td>\n",
       "      <td>1</td>\n",
       "      <td>COD</td>\n",
       "      <td>6.000000</td>\n",
       "      <td>6990.000000</td>\n",
       "      <td>4.000000</td>\n",
       "      <td>0</td>\n",
       "      <td>0</td>\n",
       "    </tr>\n",
       "    <tr>\n",
       "      <th>26</th>\n",
       "      <td>6</td>\n",
       "      <td>2.800000e+03</td>\n",
       "      <td>1</td>\n",
       "      <td>COD</td>\n",
       "      <td>11.000000</td>\n",
       "      <td>3000.000000</td>\n",
       "      <td>3.000000</td>\n",
       "      <td>0</td>\n",
       "      <td>0</td>\n",
       "    </tr>\n",
       "    <tr>\n",
       "      <th>27</th>\n",
       "      <td>7</td>\n",
       "      <td>1.067560e+05</td>\n",
       "      <td>38</td>\n",
       "      <td>Prepaid</td>\n",
       "      <td>2.789474</td>\n",
       "      <td>4642.473684</td>\n",
       "      <td>3.605263</td>\n",
       "      <td>0</td>\n",
       "      <td>1</td>\n",
       "    </tr>\n",
       "    <tr>\n",
       "      <th>28</th>\n",
       "      <td>7</td>\n",
       "      <td>3.931992e+06</td>\n",
       "      <td>1756</td>\n",
       "      <td>COD</td>\n",
       "      <td>6.302926</td>\n",
       "      <td>3463.745841</td>\n",
       "      <td>2.865175</td>\n",
       "      <td>0</td>\n",
       "      <td>0</td>\n",
       "    </tr>\n",
       "    <tr>\n",
       "      <th>29</th>\n",
       "      <td>7</td>\n",
       "      <td>4.809561e+06</td>\n",
       "      <td>2162</td>\n",
       "      <td>COD</td>\n",
       "      <td>6.202143</td>\n",
       "      <td>3577.937587</td>\n",
       "      <td>2.730787</td>\n",
       "      <td>1</td>\n",
       "      <td>1</td>\n",
       "    </tr>\n",
       "  </tbody>\n",
       "</table>\n",
       "</div>"
      ],
      "text/plain": [
       "                 Month           gmv  units s1_fact.order_payment_type  \\\n",
       "Year order_week                                                          \n",
       "2015 21              5  3.149000e+03      1                        COD   \n",
       "     26              6  2.800000e+03      1                        COD   \n",
       "     27              7  1.067560e+05     38                    Prepaid   \n",
       "     28              7  3.931992e+06   1756                        COD   \n",
       "     29              7  4.809561e+06   2162                        COD   \n",
       "\n",
       "                       sla  product_mrp  product_procurement_sla  \\\n",
       "Year order_week                                                    \n",
       "2015 21           6.000000  6990.000000                 4.000000   \n",
       "     26          11.000000  3000.000000                 3.000000   \n",
       "     27           2.789474  4642.473684                 3.605263   \n",
       "     28           6.302926  3463.745841                 2.865175   \n",
       "     29           6.202143  3577.937587                 2.730787   \n",
       "\n",
       "                 holiday_flag  payday_flag  \n",
       "Year order_week                             \n",
       "2015 21                     0            0  \n",
       "     26                     0            0  \n",
       "     27                     0            1  \n",
       "     28                     0            0  \n",
       "     29                     1            1  "
      ]
     },
     "execution_count": 30,
     "metadata": {},
     "output_type": "execute_result"
    }
   ],
   "source": [
    "weekly_HomeAudio_df=HomeAudio_df.groupby(['Year','order_week']).agg({'Month':lambda x:x.value_counts().index[0],\n",
    "                         'gmv':'sum', \n",
    "                         'units':'sum', \n",
    "                         's1_fact.order_payment_type':lambda x:x.value_counts().index[0],\n",
    "                         'sla'  :'mean',\n",
    "                         'product_mrp':'mean',\n",
    "                         'product_procurement_sla':'mean',\n",
    "                         'holiday_flag':lambda x:1 if (x==1).any() else 0,                            \n",
    "                         'payday_flag':lambda x: 1 if (x==1).any() else 0})\n",
    "weekly_HomeAudio_df.head()"
   ]
  },
  {
   "cell_type": "code",
   "execution_count": 31,
   "metadata": {},
   "outputs": [
    {
     "data": {
      "text/html": [
       "<div>\n",
       "<style scoped>\n",
       "    .dataframe tbody tr th:only-of-type {\n",
       "        vertical-align: middle;\n",
       "    }\n",
       "\n",
       "    .dataframe tbody tr th {\n",
       "        vertical-align: top;\n",
       "    }\n",
       "\n",
       "    .dataframe thead th {\n",
       "        text-align: right;\n",
       "    }\n",
       "</style>\n",
       "<table border=\"1\" class=\"dataframe\">\n",
       "  <thead>\n",
       "    <tr style=\"text-align: right;\">\n",
       "      <th></th>\n",
       "      <th></th>\n",
       "      <th>Month</th>\n",
       "      <th>gmv</th>\n",
       "      <th>units</th>\n",
       "      <th>s1_fact.order_payment_type</th>\n",
       "      <th>sla</th>\n",
       "      <th>product_mrp</th>\n",
       "      <th>product_procurement_sla</th>\n",
       "      <th>holiday_flag</th>\n",
       "      <th>payday_flag</th>\n",
       "    </tr>\n",
       "    <tr>\n",
       "      <th>Year</th>\n",
       "      <th>order_week</th>\n",
       "      <th></th>\n",
       "      <th></th>\n",
       "      <th></th>\n",
       "      <th></th>\n",
       "      <th></th>\n",
       "      <th></th>\n",
       "      <th></th>\n",
       "      <th></th>\n",
       "      <th></th>\n",
       "    </tr>\n",
       "  </thead>\n",
       "  <tbody>\n",
       "    <tr>\n",
       "      <th rowspan=\"5\" valign=\"top\">2015</th>\n",
       "      <th>27</th>\n",
       "      <td>7</td>\n",
       "      <td>3.688800e+04</td>\n",
       "      <td>29</td>\n",
       "      <td>Prepaid</td>\n",
       "      <td>2.758621</td>\n",
       "      <td>1850.275862</td>\n",
       "      <td>2.586207</td>\n",
       "      <td>0</td>\n",
       "      <td>1</td>\n",
       "    </tr>\n",
       "    <tr>\n",
       "      <th>28</th>\n",
       "      <td>7</td>\n",
       "      <td>2.553872e+06</td>\n",
       "      <td>2852</td>\n",
       "      <td>COD</td>\n",
       "      <td>5.043655</td>\n",
       "      <td>1480.089900</td>\n",
       "      <td>3.153903</td>\n",
       "      <td>0</td>\n",
       "      <td>0</td>\n",
       "    </tr>\n",
       "    <tr>\n",
       "      <th>29</th>\n",
       "      <td>7</td>\n",
       "      <td>2.166214e+06</td>\n",
       "      <td>2842</td>\n",
       "      <td>COD</td>\n",
       "      <td>5.174701</td>\n",
       "      <td>1295.536444</td>\n",
       "      <td>2.596606</td>\n",
       "      <td>1</td>\n",
       "      <td>1</td>\n",
       "    </tr>\n",
       "    <tr>\n",
       "      <th>30</th>\n",
       "      <td>7</td>\n",
       "      <td>2.505570e+06</td>\n",
       "      <td>2462</td>\n",
       "      <td>COD</td>\n",
       "      <td>5.331075</td>\n",
       "      <td>1673.855631</td>\n",
       "      <td>2.439881</td>\n",
       "      <td>0</td>\n",
       "      <td>0</td>\n",
       "    </tr>\n",
       "    <tr>\n",
       "      <th>31</th>\n",
       "      <td>7</td>\n",
       "      <td>1.770605e+06</td>\n",
       "      <td>1678</td>\n",
       "      <td>COD</td>\n",
       "      <td>5.719773</td>\n",
       "      <td>1861.376574</td>\n",
       "      <td>2.394207</td>\n",
       "      <td>0</td>\n",
       "      <td>1</td>\n",
       "    </tr>\n",
       "  </tbody>\n",
       "</table>\n",
       "</div>"
      ],
      "text/plain": [
       "                 Month           gmv  units s1_fact.order_payment_type  \\\n",
       "Year order_week                                                          \n",
       "2015 27              7  3.688800e+04     29                    Prepaid   \n",
       "     28              7  2.553872e+06   2852                        COD   \n",
       "     29              7  2.166214e+06   2842                        COD   \n",
       "     30              7  2.505570e+06   2462                        COD   \n",
       "     31              7  1.770605e+06   1678                        COD   \n",
       "\n",
       "                      sla  product_mrp  product_procurement_sla  holiday_flag  \\\n",
       "Year order_week                                                                 \n",
       "2015 27          2.758621  1850.275862                 2.586207             0   \n",
       "     28          5.043655  1480.089900                 3.153903             0   \n",
       "     29          5.174701  1295.536444                 2.596606             1   \n",
       "     30          5.331075  1673.855631                 2.439881             0   \n",
       "     31          5.719773  1861.376574                 2.394207             0   \n",
       "\n",
       "                 payday_flag  \n",
       "Year order_week               \n",
       "2015 27                    1  \n",
       "     28                    0  \n",
       "     29                    1  \n",
       "     30                    0  \n",
       "     31                    1  "
      ]
     },
     "execution_count": 31,
     "metadata": {},
     "output_type": "execute_result"
    }
   ],
   "source": [
    "weekly_GamingAccessory_df=GamingAccessory_df.groupby(['Year','order_week']).agg({'Month':lambda x:x.value_counts().index[0],\n",
    "                         'gmv':'sum', \n",
    "                         'units':'sum', \n",
    "                         's1_fact.order_payment_type':lambda x:x.value_counts().index[0],\n",
    "                         'sla'  :'mean',\n",
    "                         'product_mrp':'mean',\n",
    "                         'product_procurement_sla':'mean',\n",
    "                         'holiday_flag':lambda x:1 if (x==1).any() else 0,                            \n",
    "                         'payday_flag':lambda x:1 if (x==1).any() else 0})\n",
    "\n",
    "weekly_GamingAccessory_df.head()\n",
    "\n"
   ]
  },
  {
   "cell_type": "markdown",
   "metadata": {},
   "source": [
    "### Importing investment data"
   ]
  },
  {
   "cell_type": "code",
   "execution_count": 32,
   "metadata": {},
   "outputs": [
    {
     "data": {
      "text/html": [
       "<div>\n",
       "<style scoped>\n",
       "    .dataframe tbody tr th:only-of-type {\n",
       "        vertical-align: middle;\n",
       "    }\n",
       "\n",
       "    .dataframe tbody tr th {\n",
       "        vertical-align: top;\n",
       "    }\n",
       "\n",
       "    .dataframe thead th {\n",
       "        text-align: right;\n",
       "    }\n",
       "</style>\n",
       "<table border=\"1\" class=\"dataframe\">\n",
       "  <thead>\n",
       "    <tr style=\"text-align: right;\">\n",
       "      <th></th>\n",
       "      <th>Year</th>\n",
       "      <th>Month</th>\n",
       "      <th>Total Investment</th>\n",
       "      <th>TV</th>\n",
       "      <th>Digital</th>\n",
       "      <th>Sponsorship</th>\n",
       "      <th>Content Marketing</th>\n",
       "      <th>Online marketing</th>\n",
       "      <th>Affiliates</th>\n",
       "      <th>SEM</th>\n",
       "      <th>NPS</th>\n",
       "      <th>Stock Index</th>\n",
       "    </tr>\n",
       "  </thead>\n",
       "  <tbody>\n",
       "    <tr>\n",
       "      <th>0</th>\n",
       "      <td>2015</td>\n",
       "      <td>7</td>\n",
       "      <td>17.061775</td>\n",
       "      <td>0.215330</td>\n",
       "      <td>2.533014</td>\n",
       "      <td>7.414270</td>\n",
       "      <td>0.000933</td>\n",
       "      <td>1.327278</td>\n",
       "      <td>0.547254</td>\n",
       "      <td>5.023697</td>\n",
       "      <td>54.599588</td>\n",
       "      <td>1177</td>\n",
       "    </tr>\n",
       "    <tr>\n",
       "      <th>1</th>\n",
       "      <td>2015</td>\n",
       "      <td>8</td>\n",
       "      <td>5.064306</td>\n",
       "      <td>0.006438</td>\n",
       "      <td>1.278074</td>\n",
       "      <td>1.063332</td>\n",
       "      <td>0.000006</td>\n",
       "      <td>0.129244</td>\n",
       "      <td>0.073684</td>\n",
       "      <td>2.513528</td>\n",
       "      <td>59.987101</td>\n",
       "      <td>1206</td>\n",
       "    </tr>\n",
       "    <tr>\n",
       "      <th>2</th>\n",
       "      <td>2015</td>\n",
       "      <td>9</td>\n",
       "      <td>96.254380</td>\n",
       "      <td>3.879504</td>\n",
       "      <td>1.356528</td>\n",
       "      <td>62.787651</td>\n",
       "      <td>0.610292</td>\n",
       "      <td>16.379990</td>\n",
       "      <td>5.038266</td>\n",
       "      <td>6.202149</td>\n",
       "      <td>46.925419</td>\n",
       "      <td>1101</td>\n",
       "    </tr>\n",
       "    <tr>\n",
       "      <th>3</th>\n",
       "      <td>2015</td>\n",
       "      <td>10</td>\n",
       "      <td>170.156297</td>\n",
       "      <td>6.144711</td>\n",
       "      <td>12.622480</td>\n",
       "      <td>84.672532</td>\n",
       "      <td>3.444075</td>\n",
       "      <td>24.371778</td>\n",
       "      <td>6.973711</td>\n",
       "      <td>31.927011</td>\n",
       "      <td>44.398389</td>\n",
       "      <td>1210</td>\n",
       "    </tr>\n",
       "    <tr>\n",
       "      <th>4</th>\n",
       "      <td>2015</td>\n",
       "      <td>11</td>\n",
       "      <td>51.216220</td>\n",
       "      <td>4.220630</td>\n",
       "      <td>1.275469</td>\n",
       "      <td>14.172116</td>\n",
       "      <td>0.168633</td>\n",
       "      <td>19.561574</td>\n",
       "      <td>6.595767</td>\n",
       "      <td>5.222032</td>\n",
       "      <td>47.000000</td>\n",
       "      <td>1233</td>\n",
       "    </tr>\n",
       "  </tbody>\n",
       "</table>\n",
       "</div>"
      ],
      "text/plain": [
       "   Year  Month  Total Investment        TV    Digital  Sponsorship  \\\n",
       "0  2015      7         17.061775  0.215330   2.533014     7.414270   \n",
       "1  2015      8          5.064306  0.006438   1.278074     1.063332   \n",
       "2  2015      9         96.254380  3.879504   1.356528    62.787651   \n",
       "3  2015     10        170.156297  6.144711  12.622480    84.672532   \n",
       "4  2015     11         51.216220  4.220630   1.275469    14.172116   \n",
       "\n",
       "   Content Marketing  Online marketing   Affiliates        SEM        NPS  \\\n",
       "0           0.000933          1.327278     0.547254   5.023697  54.599588   \n",
       "1           0.000006          0.129244     0.073684   2.513528  59.987101   \n",
       "2           0.610292         16.379990     5.038266   6.202149  46.925419   \n",
       "3           3.444075         24.371778     6.973711  31.927011  44.398389   \n",
       "4           0.168633         19.561574     6.595767   5.222032  47.000000   \n",
       "\n",
       "   Stock Index  \n",
       "0         1177  \n",
       "1         1206  \n",
       "2         1101  \n",
       "3         1210  \n",
       "4         1233  "
      ]
     },
     "execution_count": 32,
     "metadata": {},
     "output_type": "execute_result"
    }
   ],
   "source": [
    "# excluding columns radio and other as it has many null values\n",
    "investment_df = pd.read_excel ('Investment clubbed.xlsx',\n",
    "                               sheet_name='Media Investment',\n",
    "                              skiprows=[0],\n",
    "                               usecols = \"B:K,N,O\",\n",
    "                              header=[1],\n",
    "                               )\n",
    "investment_df.head()"
   ]
  },
  {
   "cell_type": "markdown",
   "metadata": {},
   "source": [
    "#### EDA on Investment data"
   ]
  },
  {
   "cell_type": "code",
   "execution_count": 33,
   "metadata": {},
   "outputs": [
    {
     "data": {
      "text/plain": [
       "(12, 12)"
      ]
     },
     "execution_count": 33,
     "metadata": {},
     "output_type": "execute_result"
    }
   ],
   "source": [
    "investment_df.shape"
   ]
  },
  {
   "cell_type": "code",
   "execution_count": 34,
   "metadata": {},
   "outputs": [
    {
     "name": "stdout",
     "output_type": "stream",
     "text": [
      "<class 'pandas.core.frame.DataFrame'>\n",
      "RangeIndex: 12 entries, 0 to 11\n",
      "Data columns (total 12 columns):\n",
      "Year                 12 non-null int64\n",
      "Month                12 non-null int64\n",
      "Total Investment     12 non-null float64\n",
      "TV                   12 non-null float64\n",
      "Digital              12 non-null float64\n",
      "Sponsorship          12 non-null float64\n",
      "Content Marketing    12 non-null float64\n",
      "Online marketing     12 non-null float64\n",
      " Affiliates          12 non-null float64\n",
      "SEM                  12 non-null float64\n",
      "NPS                  12 non-null float64\n",
      "Stock Index          12 non-null int64\n",
      "dtypes: float64(9), int64(3)\n",
      "memory usage: 1.2 KB\n"
     ]
    }
   ],
   "source": [
    "investment_df.info()"
   ]
  },
  {
   "cell_type": "markdown",
   "metadata": {},
   "source": [
    "No missing value"
   ]
  },
  {
   "cell_type": "code",
   "execution_count": 35,
   "metadata": {},
   "outputs": [
    {
     "data": {
      "text/plain": [
       "Index(['Year', 'Month', 'Total Investment', 'TV', 'Digital', 'Sponsorship',\n",
       "       'Content Marketing', 'Online marketing', 'Affiliates', 'SEM', 'NPS',\n",
       "       'Stock Index'],\n",
       "      dtype='object')"
      ]
     },
     "execution_count": 35,
     "metadata": {},
     "output_type": "execute_result"
    }
   ],
   "source": [
    "# column Affiliates has space at begining, lets remove space from begining\n",
    "investment_df.rename(columns=lambda x: x.strip(), inplace=True)\n",
    "investment_df.columns"
   ]
  },
  {
   "cell_type": "markdown",
   "metadata": {},
   "source": [
    "#### Finding correlation between various KPIs"
   ]
  },
  {
   "cell_type": "code",
   "execution_count": 36,
   "metadata": {},
   "outputs": [
    {
     "data": {
      "image/png": "[encoded data removed]",
      "text/plain": [
       "<Figure size 1440x720 with 2 Axes>"
      ]
     },
     "metadata": {
      "needs_background": "light"
     },
     "output_type": "display_data"
    }
   ],
   "source": [
    "corr = investment_df.drop(['Year', 'Month'], axis=1).corr()\n",
    "\n",
    "\n",
    "ax = sns.heatmap(\n",
    "    corr, \n",
    "    vmin=-1, vmax=1, center=0,\n",
    "    cmap=sns.diverging_palette(20, 220, n=200),\n",
    "    square=True\n",
    ")\n",
    "ax.set_xticklabels(\n",
    "    ax.get_xticklabels(),\n",
    "    rotation=45,\n",
    "    horizontalalignment='right'\n",
    ");"
   ]
  },
  {
   "cell_type": "code",
   "execution_count": 37,
   "metadata": {},
   "outputs": [
    {
     "data": {
      "text/plain": [
       "Online marketing   Affiliates           0.989232\n",
       "Digital            SEM                  0.971979\n",
       "Content Marketing  SEM                  0.959735\n",
       "Digital            Content Marketing    0.901355\n",
       "Total Investment   Sponsorship          0.899030\n",
       "Online marketing   NPS                  0.885533\n",
       "Affiliates         NPS                  0.863585\n",
       "Total Investment   Content Marketing    0.856087\n",
       "                   NPS                  0.818619\n",
       "                   SEM                  0.810724\n",
       "dtype: float64"
      ]
     },
     "execution_count": 37,
     "metadata": {},
     "output_type": "execute_result"
    }
   ],
   "source": [
    "# Finding top 10 correlations\n",
    "def get_redundant_pairs(df):\n",
    "    '''Get diagonal and lower triangular pairs of correlation matrix'''\n",
    "    pairs_to_drop = set()\n",
    "    cols = df.columns\n",
    "    for i in range(0, df.shape[1]):\n",
    "        for j in range(0, i+1):\n",
    "            pairs_to_drop.add((cols[i], cols[j]))\n",
    "    return pairs_to_drop\n",
    "def get_top_abs_correlations(df, n):\n",
    "    au_corr = df.corr().abs().unstack()\n",
    "    labels_to_drop = get_redundant_pairs(df)\n",
    "    au_corr = au_corr.drop(labels=labels_to_drop).sort_values(ascending=False)\n",
    "    return au_corr[0:n]\n",
    "\n",
    "get_top_abs_correlations(investment_df.drop(['Year', 'Month'], axis=1), 10)"
   ]
  },
  {
   "cell_type": "code",
   "execution_count": 38,
   "metadata": {},
   "outputs": [
    {
     "data": {
      "text/plain": [
       "Index(['Year', 'Month', 'Total Investment', 'TV', 'Digital', 'Sponsorship',\n",
       "       'Content Marketing', 'Online marketing', 'NPS', 'Stock Index'],\n",
       "      dtype='object')"
      ]
     },
     "execution_count": 38,
     "metadata": {},
     "output_type": "execute_result"
    }
   ],
   "source": [
    "# drop columns with correlation coefficient greater than 0.95\n",
    "col_to_drop=['Affiliates','SEM']\n",
    "investment_df.drop(col_to_drop, axis=1, inplace=True)\n",
    "investment_df.columns"
   ]
  },
  {
   "cell_type": "markdown",
   "metadata": {},
   "source": [
    "### merging investment data with all 3 sub category dataframes\n"
   ]
  },
  {
   "cell_type": "code",
   "execution_count": 39,
   "metadata": {},
   "outputs": [
    {
     "data": {
      "text/html": [
       "<div>\n",
       "<style scoped>\n",
       "    .dataframe tbody tr th:only-of-type {\n",
       "        vertical-align: middle;\n",
       "    }\n",
       "\n",
       "    .dataframe tbody tr th {\n",
       "        vertical-align: top;\n",
       "    }\n",
       "\n",
       "    .dataframe thead th {\n",
       "        text-align: right;\n",
       "    }\n",
       "</style>\n",
       "<table border=\"1\" class=\"dataframe\">\n",
       "  <thead>\n",
       "    <tr style=\"text-align: right;\">\n",
       "      <th></th>\n",
       "      <th>Year</th>\n",
       "      <th>order_week</th>\n",
       "      <th>Month</th>\n",
       "      <th>gmv</th>\n",
       "      <th>units</th>\n",
       "      <th>s1_fact.order_payment_type</th>\n",
       "      <th>sla</th>\n",
       "      <th>product_mrp</th>\n",
       "      <th>product_procurement_sla</th>\n",
       "      <th>holiday_flag</th>\n",
       "      <th>payday_flag</th>\n",
       "      <th>Total Investment</th>\n",
       "      <th>TV</th>\n",
       "      <th>Digital</th>\n",
       "      <th>Sponsorship</th>\n",
       "      <th>Content Marketing</th>\n",
       "      <th>Online marketing</th>\n",
       "      <th>NPS</th>\n",
       "      <th>Stock Index</th>\n",
       "    </tr>\n",
       "  </thead>\n",
       "  <tbody>\n",
       "    <tr>\n",
       "      <th>0</th>\n",
       "      <td>2015</td>\n",
       "      <td>27</td>\n",
       "      <td>7</td>\n",
       "      <td>15526.0</td>\n",
       "      <td>25</td>\n",
       "      <td>Prepaid</td>\n",
       "      <td>1.840000</td>\n",
       "      <td>1458.040000</td>\n",
       "      <td>2.920000</td>\n",
       "      <td>0</td>\n",
       "      <td>0</td>\n",
       "      <td>17.061775</td>\n",
       "      <td>0.21533</td>\n",
       "      <td>2.533014</td>\n",
       "      <td>7.41427</td>\n",
       "      <td>0.000933</td>\n",
       "      <td>1.327278</td>\n",
       "      <td>54.599588</td>\n",
       "      <td>1177</td>\n",
       "    </tr>\n",
       "    <tr>\n",
       "      <th>1</th>\n",
       "      <td>2015</td>\n",
       "      <td>28</td>\n",
       "      <td>7</td>\n",
       "      <td>3702743.0</td>\n",
       "      <td>2653</td>\n",
       "      <td>COD</td>\n",
       "      <td>6.302637</td>\n",
       "      <td>2567.004723</td>\n",
       "      <td>2.672176</td>\n",
       "      <td>0</td>\n",
       "      <td>0</td>\n",
       "      <td>17.061775</td>\n",
       "      <td>0.21533</td>\n",
       "      <td>2.533014</td>\n",
       "      <td>7.41427</td>\n",
       "      <td>0.000933</td>\n",
       "      <td>1.327278</td>\n",
       "      <td>54.599588</td>\n",
       "      <td>1177</td>\n",
       "    </tr>\n",
       "    <tr>\n",
       "      <th>2</th>\n",
       "      <td>2015</td>\n",
       "      <td>29</td>\n",
       "      <td>7</td>\n",
       "      <td>4203216.0</td>\n",
       "      <td>2957</td>\n",
       "      <td>COD</td>\n",
       "      <td>5.999651</td>\n",
       "      <td>2519.958871</td>\n",
       "      <td>2.694667</td>\n",
       "      <td>1</td>\n",
       "      <td>1</td>\n",
       "      <td>17.061775</td>\n",
       "      <td>0.21533</td>\n",
       "      <td>2.533014</td>\n",
       "      <td>7.41427</td>\n",
       "      <td>0.000933</td>\n",
       "      <td>1.327278</td>\n",
       "      <td>54.599588</td>\n",
       "      <td>1177</td>\n",
       "    </tr>\n",
       "    <tr>\n",
       "      <th>3</th>\n",
       "      <td>2015</td>\n",
       "      <td>30</td>\n",
       "      <td>7</td>\n",
       "      <td>4141102.0</td>\n",
       "      <td>2978</td>\n",
       "      <td>COD</td>\n",
       "      <td>6.095905</td>\n",
       "      <td>2493.424221</td>\n",
       "      <td>2.737137</td>\n",
       "      <td>0</td>\n",
       "      <td>0</td>\n",
       "      <td>17.061775</td>\n",
       "      <td>0.21533</td>\n",
       "      <td>2.533014</td>\n",
       "      <td>7.41427</td>\n",
       "      <td>0.000933</td>\n",
       "      <td>1.327278</td>\n",
       "      <td>54.599588</td>\n",
       "      <td>1177</td>\n",
       "    </tr>\n",
       "    <tr>\n",
       "      <th>4</th>\n",
       "      <td>2015</td>\n",
       "      <td>31</td>\n",
       "      <td>7</td>\n",
       "      <td>2709387.0</td>\n",
       "      <td>1988</td>\n",
       "      <td>COD</td>\n",
       "      <td>6.043661</td>\n",
       "      <td>2425.002104</td>\n",
       "      <td>2.723304</td>\n",
       "      <td>0</td>\n",
       "      <td>0</td>\n",
       "      <td>17.061775</td>\n",
       "      <td>0.21533</td>\n",
       "      <td>2.533014</td>\n",
       "      <td>7.41427</td>\n",
       "      <td>0.000933</td>\n",
       "      <td>1.327278</td>\n",
       "      <td>54.599588</td>\n",
       "      <td>1177</td>\n",
       "    </tr>\n",
       "  </tbody>\n",
       "</table>\n",
       "</div>"
      ],
      "text/plain": [
       "   Year  order_week  Month        gmv  units s1_fact.order_payment_type  \\\n",
       "0  2015          27      7    15526.0     25                    Prepaid   \n",
       "1  2015          28      7  3702743.0   2653                        COD   \n",
       "2  2015          29      7  4203216.0   2957                        COD   \n",
       "3  2015          30      7  4141102.0   2978                        COD   \n",
       "4  2015          31      7  2709387.0   1988                        COD   \n",
       "\n",
       "        sla  product_mrp  product_procurement_sla  holiday_flag  payday_flag  \\\n",
       "0  1.840000  1458.040000                 2.920000             0            0   \n",
       "1  6.302637  2567.004723                 2.672176             0            0   \n",
       "2  5.999651  2519.958871                 2.694667             1            1   \n",
       "3  6.095905  2493.424221                 2.737137             0            0   \n",
       "4  6.043661  2425.002104                 2.723304             0            0   \n",
       "\n",
       "   Total Investment       TV   Digital  Sponsorship  Content Marketing  \\\n",
       "0         17.061775  0.21533  2.533014      7.41427           0.000933   \n",
       "1         17.061775  0.21533  2.533014      7.41427           0.000933   \n",
       "2         17.061775  0.21533  2.533014      7.41427           0.000933   \n",
       "3         17.061775  0.21533  2.533014      7.41427           0.000933   \n",
       "4         17.061775  0.21533  2.533014      7.41427           0.000933   \n",
       "\n",
       "   Online marketing        NPS  Stock Index  \n",
       "0          1.327278  54.599588         1177  \n",
       "1          1.327278  54.599588         1177  \n",
       "2          1.327278  54.599588         1177  \n",
       "3          1.327278  54.599588         1177  \n",
       "4          1.327278  54.599588         1177  "
      ]
     },
     "execution_count": 39,
     "metadata": {},
     "output_type": "execute_result"
    }
   ],
   "source": [
    "camera_investment_df=pd.merge(weekly_CameraAccessory_df.reset_index(), investment_df, how='inner', left_on=['Year','Month'], right_on=['Year','Month'])\n",
    "camera_investment_df.head()"
   ]
  },
  {
   "cell_type": "code",
   "execution_count": 40,
   "metadata": {},
   "outputs": [
    {
     "data": {
      "text/html": [
       "<div>\n",
       "<style scoped>\n",
       "    .dataframe tbody tr th:only-of-type {\n",
       "        vertical-align: middle;\n",
       "    }\n",
       "\n",
       "    .dataframe tbody tr th {\n",
       "        vertical-align: top;\n",
       "    }\n",
       "\n",
       "    .dataframe thead th {\n",
       "        text-align: right;\n",
       "    }\n",
       "</style>\n",
       "<table border=\"1\" class=\"dataframe\">\n",
       "  <thead>\n",
       "    <tr style=\"text-align: right;\">\n",
       "      <th></th>\n",
       "      <th>Year</th>\n",
       "      <th>order_week</th>\n",
       "      <th>Month</th>\n",
       "      <th>gmv</th>\n",
       "      <th>units</th>\n",
       "      <th>s1_fact.order_payment_type</th>\n",
       "      <th>sla</th>\n",
       "      <th>product_mrp</th>\n",
       "      <th>product_procurement_sla</th>\n",
       "      <th>holiday_flag</th>\n",
       "      <th>payday_flag</th>\n",
       "      <th>Total Investment</th>\n",
       "      <th>TV</th>\n",
       "      <th>Digital</th>\n",
       "      <th>Sponsorship</th>\n",
       "      <th>Content Marketing</th>\n",
       "      <th>Online marketing</th>\n",
       "      <th>NPS</th>\n",
       "      <th>Stock Index</th>\n",
       "    </tr>\n",
       "  </thead>\n",
       "  <tbody>\n",
       "    <tr>\n",
       "      <th>0</th>\n",
       "      <td>2015</td>\n",
       "      <td>27</td>\n",
       "      <td>7</td>\n",
       "      <td>1.067560e+05</td>\n",
       "      <td>38</td>\n",
       "      <td>Prepaid</td>\n",
       "      <td>2.789474</td>\n",
       "      <td>4642.473684</td>\n",
       "      <td>3.605263</td>\n",
       "      <td>0</td>\n",
       "      <td>1</td>\n",
       "      <td>17.061775</td>\n",
       "      <td>0.21533</td>\n",
       "      <td>2.533014</td>\n",
       "      <td>7.41427</td>\n",
       "      <td>0.000933</td>\n",
       "      <td>1.327278</td>\n",
       "      <td>54.599588</td>\n",
       "      <td>1177</td>\n",
       "    </tr>\n",
       "    <tr>\n",
       "      <th>1</th>\n",
       "      <td>2015</td>\n",
       "      <td>28</td>\n",
       "      <td>7</td>\n",
       "      <td>3.931992e+06</td>\n",
       "      <td>1756</td>\n",
       "      <td>COD</td>\n",
       "      <td>6.302926</td>\n",
       "      <td>3463.745841</td>\n",
       "      <td>2.865175</td>\n",
       "      <td>0</td>\n",
       "      <td>0</td>\n",
       "      <td>17.061775</td>\n",
       "      <td>0.21533</td>\n",
       "      <td>2.533014</td>\n",
       "      <td>7.41427</td>\n",
       "      <td>0.000933</td>\n",
       "      <td>1.327278</td>\n",
       "      <td>54.599588</td>\n",
       "      <td>1177</td>\n",
       "    </tr>\n",
       "    <tr>\n",
       "      <th>2</th>\n",
       "      <td>2015</td>\n",
       "      <td>29</td>\n",
       "      <td>7</td>\n",
       "      <td>4.809561e+06</td>\n",
       "      <td>2162</td>\n",
       "      <td>COD</td>\n",
       "      <td>6.202143</td>\n",
       "      <td>3577.937587</td>\n",
       "      <td>2.730787</td>\n",
       "      <td>1</td>\n",
       "      <td>1</td>\n",
       "      <td>17.061775</td>\n",
       "      <td>0.21533</td>\n",
       "      <td>2.533014</td>\n",
       "      <td>7.41427</td>\n",
       "      <td>0.000933</td>\n",
       "      <td>1.327278</td>\n",
       "      <td>54.599588</td>\n",
       "      <td>1177</td>\n",
       "    </tr>\n",
       "    <tr>\n",
       "      <th>3</th>\n",
       "      <td>2015</td>\n",
       "      <td>30</td>\n",
       "      <td>7</td>\n",
       "      <td>4.181413e+06</td>\n",
       "      <td>1994</td>\n",
       "      <td>COD</td>\n",
       "      <td>6.357468</td>\n",
       "      <td>3420.401013</td>\n",
       "      <td>2.856203</td>\n",
       "      <td>0</td>\n",
       "      <td>0</td>\n",
       "      <td>17.061775</td>\n",
       "      <td>0.21533</td>\n",
       "      <td>2.533014</td>\n",
       "      <td>7.41427</td>\n",
       "      <td>0.000933</td>\n",
       "      <td>1.327278</td>\n",
       "      <td>54.599588</td>\n",
       "      <td>1177</td>\n",
       "    </tr>\n",
       "    <tr>\n",
       "      <th>4</th>\n",
       "      <td>2015</td>\n",
       "      <td>31</td>\n",
       "      <td>7</td>\n",
       "      <td>3.028711e+06</td>\n",
       "      <td>1409</td>\n",
       "      <td>COD</td>\n",
       "      <td>6.432143</td>\n",
       "      <td>3488.468571</td>\n",
       "      <td>2.720714</td>\n",
       "      <td>0</td>\n",
       "      <td>0</td>\n",
       "      <td>17.061775</td>\n",
       "      <td>0.21533</td>\n",
       "      <td>2.533014</td>\n",
       "      <td>7.41427</td>\n",
       "      <td>0.000933</td>\n",
       "      <td>1.327278</td>\n",
       "      <td>54.599588</td>\n",
       "      <td>1177</td>\n",
       "    </tr>\n",
       "  </tbody>\n",
       "</table>\n",
       "</div>"
      ],
      "text/plain": [
       "   Year  order_week  Month           gmv  units s1_fact.order_payment_type  \\\n",
       "0  2015          27      7  1.067560e+05     38                    Prepaid   \n",
       "1  2015          28      7  3.931992e+06   1756                        COD   \n",
       "2  2015          29      7  4.809561e+06   2162                        COD   \n",
       "3  2015          30      7  4.181413e+06   1994                        COD   \n",
       "4  2015          31      7  3.028711e+06   1409                        COD   \n",
       "\n",
       "        sla  product_mrp  product_procurement_sla  holiday_flag  payday_flag  \\\n",
       "0  2.789474  4642.473684                 3.605263             0            1   \n",
       "1  6.302926  3463.745841                 2.865175             0            0   \n",
       "2  6.202143  3577.937587                 2.730787             1            1   \n",
       "3  6.357468  3420.401013                 2.856203             0            0   \n",
       "4  6.432143  3488.468571                 2.720714             0            0   \n",
       "\n",
       "   Total Investment       TV   Digital  Sponsorship  Content Marketing  \\\n",
       "0         17.061775  0.21533  2.533014      7.41427           0.000933   \n",
       "1         17.061775  0.21533  2.533014      7.41427           0.000933   \n",
       "2         17.061775  0.21533  2.533014      7.41427           0.000933   \n",
       "3         17.061775  0.21533  2.533014      7.41427           0.000933   \n",
       "4         17.061775  0.21533  2.533014      7.41427           0.000933   \n",
       "\n",
       "   Online marketing        NPS  Stock Index  \n",
       "0          1.327278  54.599588         1177  \n",
       "1          1.327278  54.599588         1177  \n",
       "2          1.327278  54.599588         1177  \n",
       "3          1.327278  54.599588         1177  \n",
       "4          1.327278  54.599588         1177  "
      ]
     },
     "execution_count": 40,
     "metadata": {},
     "output_type": "execute_result"
    }
   ],
   "source": [
    "homeAudio_investment_df=pd.merge(weekly_HomeAudio_df.reset_index(), investment_df, how='inner', left_on=['Year','Month'], right_on=['Year','Month'])\n",
    "homeAudio_investment_df.head()"
   ]
  },
  {
   "cell_type": "code",
   "execution_count": 41,
   "metadata": {},
   "outputs": [
    {
     "data": {
      "text/html": [
       "<div>\n",
       "<style scoped>\n",
       "    .dataframe tbody tr th:only-of-type {\n",
       "        vertical-align: middle;\n",
       "    }\n",
       "\n",
       "    .dataframe tbody tr th {\n",
       "        vertical-align: top;\n",
       "    }\n",
       "\n",
       "    .dataframe thead th {\n",
       "        text-align: right;\n",
       "    }\n",
       "</style>\n",
       "<table border=\"1\" class=\"dataframe\">\n",
       "  <thead>\n",
       "    <tr style=\"text-align: right;\">\n",
       "      <th></th>\n",
       "      <th>Year</th>\n",
       "      <th>order_week</th>\n",
       "      <th>Month</th>\n",
       "      <th>gmv</th>\n",
       "      <th>units</th>\n",
       "      <th>s1_fact.order_payment_type</th>\n",
       "      <th>sla</th>\n",
       "      <th>product_mrp</th>\n",
       "      <th>product_procurement_sla</th>\n",
       "      <th>holiday_flag</th>\n",
       "      <th>payday_flag</th>\n",
       "      <th>Total Investment</th>\n",
       "      <th>TV</th>\n",
       "      <th>Digital</th>\n",
       "      <th>Sponsorship</th>\n",
       "      <th>Content Marketing</th>\n",
       "      <th>Online marketing</th>\n",
       "      <th>NPS</th>\n",
       "      <th>Stock Index</th>\n",
       "    </tr>\n",
       "  </thead>\n",
       "  <tbody>\n",
       "    <tr>\n",
       "      <th>0</th>\n",
       "      <td>2015</td>\n",
       "      <td>27</td>\n",
       "      <td>7</td>\n",
       "      <td>3.688800e+04</td>\n",
       "      <td>29</td>\n",
       "      <td>Prepaid</td>\n",
       "      <td>2.758621</td>\n",
       "      <td>1850.275862</td>\n",
       "      <td>2.586207</td>\n",
       "      <td>0</td>\n",
       "      <td>1</td>\n",
       "      <td>17.061775</td>\n",
       "      <td>0.21533</td>\n",
       "      <td>2.533014</td>\n",
       "      <td>7.41427</td>\n",
       "      <td>0.000933</td>\n",
       "      <td>1.327278</td>\n",
       "      <td>54.599588</td>\n",
       "      <td>1177</td>\n",
       "    </tr>\n",
       "    <tr>\n",
       "      <th>1</th>\n",
       "      <td>2015</td>\n",
       "      <td>28</td>\n",
       "      <td>7</td>\n",
       "      <td>2.553872e+06</td>\n",
       "      <td>2852</td>\n",
       "      <td>COD</td>\n",
       "      <td>5.043655</td>\n",
       "      <td>1480.089900</td>\n",
       "      <td>3.153903</td>\n",
       "      <td>0</td>\n",
       "      <td>0</td>\n",
       "      <td>17.061775</td>\n",
       "      <td>0.21533</td>\n",
       "      <td>2.533014</td>\n",
       "      <td>7.41427</td>\n",
       "      <td>0.000933</td>\n",
       "      <td>1.327278</td>\n",
       "      <td>54.599588</td>\n",
       "      <td>1177</td>\n",
       "    </tr>\n",
       "    <tr>\n",
       "      <th>2</th>\n",
       "      <td>2015</td>\n",
       "      <td>29</td>\n",
       "      <td>7</td>\n",
       "      <td>2.166214e+06</td>\n",
       "      <td>2842</td>\n",
       "      <td>COD</td>\n",
       "      <td>5.174701</td>\n",
       "      <td>1295.536444</td>\n",
       "      <td>2.596606</td>\n",
       "      <td>1</td>\n",
       "      <td>1</td>\n",
       "      <td>17.061775</td>\n",
       "      <td>0.21533</td>\n",
       "      <td>2.533014</td>\n",
       "      <td>7.41427</td>\n",
       "      <td>0.000933</td>\n",
       "      <td>1.327278</td>\n",
       "      <td>54.599588</td>\n",
       "      <td>1177</td>\n",
       "    </tr>\n",
       "    <tr>\n",
       "      <th>3</th>\n",
       "      <td>2015</td>\n",
       "      <td>30</td>\n",
       "      <td>7</td>\n",
       "      <td>2.505570e+06</td>\n",
       "      <td>2462</td>\n",
       "      <td>COD</td>\n",
       "      <td>5.331075</td>\n",
       "      <td>1673.855631</td>\n",
       "      <td>2.439881</td>\n",
       "      <td>0</td>\n",
       "      <td>0</td>\n",
       "      <td>17.061775</td>\n",
       "      <td>0.21533</td>\n",
       "      <td>2.533014</td>\n",
       "      <td>7.41427</td>\n",
       "      <td>0.000933</td>\n",
       "      <td>1.327278</td>\n",
       "      <td>54.599588</td>\n",
       "      <td>1177</td>\n",
       "    </tr>\n",
       "    <tr>\n",
       "      <th>4</th>\n",
       "      <td>2015</td>\n",
       "      <td>31</td>\n",
       "      <td>7</td>\n",
       "      <td>1.770605e+06</td>\n",
       "      <td>1678</td>\n",
       "      <td>COD</td>\n",
       "      <td>5.719773</td>\n",
       "      <td>1861.376574</td>\n",
       "      <td>2.394207</td>\n",
       "      <td>0</td>\n",
       "      <td>1</td>\n",
       "      <td>17.061775</td>\n",
       "      <td>0.21533</td>\n",
       "      <td>2.533014</td>\n",
       "      <td>7.41427</td>\n",
       "      <td>0.000933</td>\n",
       "      <td>1.327278</td>\n",
       "      <td>54.599588</td>\n",
       "      <td>1177</td>\n",
       "    </tr>\n",
       "  </tbody>\n",
       "</table>\n",
       "</div>"
      ],
      "text/plain": [
       "   Year  order_week  Month           gmv  units s1_fact.order_payment_type  \\\n",
       "0  2015          27      7  3.688800e+04     29                    Prepaid   \n",
       "1  2015          28      7  2.553872e+06   2852                        COD   \n",
       "2  2015          29      7  2.166214e+06   2842                        COD   \n",
       "3  2015          30      7  2.505570e+06   2462                        COD   \n",
       "4  2015          31      7  1.770605e+06   1678                        COD   \n",
       "\n",
       "        sla  product_mrp  product_procurement_sla  holiday_flag  payday_flag  \\\n",
       "0  2.758621  1850.275862                 2.586207             0            1   \n",
       "1  5.043655  1480.089900                 3.153903             0            0   \n",
       "2  5.174701  1295.536444                 2.596606             1            1   \n",
       "3  5.331075  1673.855631                 2.439881             0            0   \n",
       "4  5.719773  1861.376574                 2.394207             0            1   \n",
       "\n",
       "   Total Investment       TV   Digital  Sponsorship  Content Marketing  \\\n",
       "0         17.061775  0.21533  2.533014      7.41427           0.000933   \n",
       "1         17.061775  0.21533  2.533014      7.41427           0.000933   \n",
       "2         17.061775  0.21533  2.533014      7.41427           0.000933   \n",
       "3         17.061775  0.21533  2.533014      7.41427           0.000933   \n",
       "4         17.061775  0.21533  2.533014      7.41427           0.000933   \n",
       "\n",
       "   Online marketing        NPS  Stock Index  \n",
       "0          1.327278  54.599588         1177  \n",
       "1          1.327278  54.599588         1177  \n",
       "2          1.327278  54.599588         1177  \n",
       "3          1.327278  54.599588         1177  \n",
       "4          1.327278  54.599588         1177  "
      ]
     },
     "execution_count": 41,
     "metadata": {},
     "output_type": "execute_result"
    }
   ],
   "source": [
    "gamingAccessory_investment_df=pd.merge(weekly_GamingAccessory_df.reset_index(), investment_df, how='inner', left_on=['Year','Month'], right_on=['Year','Month'])\n",
    "gamingAccessory_investment_df.head()"
   ]
  },
  {
   "cell_type": "markdown",
   "metadata": {},
   "source": [
    "### Importing Climate Data"
   ]
  },
  {
   "cell_type": "code",
   "execution_count": 42,
   "metadata": {},
   "outputs": [
    {
     "data": {
      "text/plain": [
       "(365, 13)"
      ]
     },
     "execution_count": 42,
     "metadata": {},
     "output_type": "execute_result"
    }
   ],
   "source": [
    "climate_df_2015=pd.read_excel ('ONTARIO-2015.xlsx',\n",
    "                               sheet_name='Data',\n",
    "                             usecols = \"A:M\",\n",
    "                              header=[0],\n",
    "                              \n",
    "                                )\n",
    "climate_df_2015.shape"
   ]
  },
  {
   "cell_type": "code",
   "execution_count": 43,
   "metadata": {},
   "outputs": [
    {
     "data": {
      "text/plain": [
       "(366, 13)"
      ]
     },
     "execution_count": 43,
     "metadata": {},
     "output_type": "execute_result"
    }
   ],
   "source": [
    "climate_df_2016=pd.read_excel ('ONTARIO-2016.xlsx',\n",
    "                               sheet_name='Data',\n",
    "                             usecols = \"A:M\",\n",
    "                              header=[0],\n",
    "                              \n",
    "                                )\n",
    "climate_df_2016.shape"
   ]
  },
  {
   "cell_type": "code",
   "execution_count": 44,
   "metadata": {},
   "outputs": [
    {
     "data": {
      "text/plain": [
       "(731, 13)"
      ]
     },
     "execution_count": 44,
     "metadata": {},
     "output_type": "execute_result"
    }
   ],
   "source": [
    "climate_clubbed=pd.concat([climate_df_2015,climate_df_2016])\n",
    "climate_clubbed.shape"
   ]
  },
  {
   "cell_type": "code",
   "execution_count": 45,
   "metadata": {},
   "outputs": [
    {
     "name": "stdout",
     "output_type": "stream",
     "text": [
      "<class 'pandas.core.frame.DataFrame'>\n",
      "Int64Index: 731 entries, 0 to 365\n",
      "Data columns (total 13 columns):\n",
      "Date/Time             731 non-null datetime64[ns]\n",
      "Year                  731 non-null int64\n",
      "Month                 731 non-null int64\n",
      "Day                   731 non-null int64\n",
      "Max Temp (°C)         442 non-null float64\n",
      "Min Temp (°C)         409 non-null float64\n",
      "Mean Temp (°C)        409 non-null float64\n",
      "Heat Deg Days (°C)    409 non-null float64\n",
      "Cool Deg Days (°C)    409 non-null float64\n",
      "Total Rain (mm)       456 non-null float64\n",
      "Total Snow (cm)       456 non-null float64\n",
      "Total Precip (mm)     456 non-null float64\n",
      "Snow on Grnd (cm)     456 non-null float64\n",
      "dtypes: datetime64[ns](1), float64(9), int64(3)\n",
      "memory usage: 80.0 KB\n"
     ]
    }
   ],
   "source": [
    "climate_clubbed.info()"
   ]
  },
  {
   "cell_type": "code",
   "execution_count": 46,
   "metadata": {},
   "outputs": [],
   "source": [
    "# extracting week from Date/Time\n",
    "climate_clubbed['Week']=climate_clubbed['Date/Time'].dt.week"
   ]
  },
  {
   "cell_type": "code",
   "execution_count": 47,
   "metadata": {},
   "outputs": [],
   "source": [
    "# drop coloumn Date/Time\n",
    "climate_clubbed=climate_clubbed.drop(['Date/Time'], axis=1)"
   ]
  },
  {
   "cell_type": "code",
   "execution_count": 48,
   "metadata": {},
   "outputs": [],
   "source": [
    "# drop column Month and Day\n",
    "climate_clubbed=climate_clubbed.drop(['Month','Day'], axis=1)"
   ]
  },
  {
   "cell_type": "code",
   "execution_count": 49,
   "metadata": {},
   "outputs": [
    {
     "data": {
      "text/plain": [
       "Index(['Year', 'Max Temp (°C)', 'Min Temp (°C)', 'Mean Temp (°C)',\n",
       "       'Heat Deg Days (°C)', 'Cool Deg Days (°C)', 'Total Rain (mm)',\n",
       "       'Total Snow (cm)', 'Total Precip (mm)', 'Snow on Grnd (cm)', 'Week'],\n",
       "      dtype='object')"
      ]
     },
     "execution_count": 49,
     "metadata": {},
     "output_type": "execute_result"
    }
   ],
   "source": [
    "climate_clubbed.columns"
   ]
  },
  {
   "cell_type": "markdown",
   "metadata": {},
   "source": [
    "#### Missing values treatment"
   ]
  },
  {
   "cell_type": "code",
   "execution_count": 50,
   "metadata": {},
   "outputs": [],
   "source": [
    "# Replacing NAN with ffill and bfill\n",
    "climate_clubbed = climate_clubbed.fillna(method='ffill').fillna(method='bfill')"
   ]
  },
  {
   "cell_type": "code",
   "execution_count": 51,
   "metadata": {},
   "outputs": [
    {
     "name": "stdout",
     "output_type": "stream",
     "text": [
      "<class 'pandas.core.frame.DataFrame'>\n",
      "Int64Index: 731 entries, 0 to 365\n",
      "Data columns (total 11 columns):\n",
      "Year                  731 non-null int64\n",
      "Max Temp (°C)         731 non-null float64\n",
      "Min Temp (°C)         731 non-null float64\n",
      "Mean Temp (°C)        731 non-null float64\n",
      "Heat Deg Days (°C)    731 non-null float64\n",
      "Cool Deg Days (°C)    731 non-null float64\n",
      "Total Rain (mm)       731 non-null float64\n",
      "Total Snow (cm)       731 non-null float64\n",
      "Total Precip (mm)     731 non-null float64\n",
      "Snow on Grnd (cm)     731 non-null float64\n",
      "Week                  731 non-null int64\n",
      "dtypes: float64(9), int64(2)\n",
      "memory usage: 68.5 KB\n"
     ]
    }
   ],
   "source": [
    "climate_clubbed.info()"
   ]
  },
  {
   "cell_type": "markdown",
   "metadata": {},
   "source": [
    "#### Finding correlation among various features"
   ]
  },
  {
   "cell_type": "code",
   "execution_count": 52,
   "metadata": {},
   "outputs": [
    {
     "data": {
      "image/png": "[encoded data removed]",
      "text/plain": [
       "<Figure size 1440x720 with 2 Axes>"
      ]
     },
     "metadata": {
      "needs_background": "light"
     },
     "output_type": "display_data"
    }
   ],
   "source": [
    "corr = climate_clubbed.drop(['Year'], axis=1).corr()\n",
    "\n",
    "\n",
    "ax = sns.heatmap(\n",
    "    corr, \n",
    "    vmin=-1, vmax=1, center=0,\n",
    "    cmap=sns.diverging_palette(20, 220, n=200),\n",
    "    square=True\n",
    ")\n",
    "ax.set_xticklabels(\n",
    "    ax.get_xticklabels(),\n",
    "    rotation=45,\n",
    "    horizontalalignment='right'\n",
    ");"
   ]
  },
  {
   "cell_type": "code",
   "execution_count": 53,
   "metadata": {},
   "outputs": [
    {
     "data": {
      "text/plain": [
       "Total Rain (mm)  Total Precip (mm)     0.980551\n",
       "Min Temp (°C)    Mean Temp (°C)        0.978927\n",
       "Mean Temp (°C)   Heat Deg Days (°C)    0.976756\n",
       "Max Temp (°C)    Mean Temp (°C)        0.976678\n",
       "Min Temp (°C)    Heat Deg Days (°C)    0.956062\n",
       "Max Temp (°C)    Heat Deg Days (°C)    0.951702\n",
       "                 Min Temp (°C)         0.918680\n",
       "Mean Temp (°C)   Cool Deg Days (°C)    0.724980\n",
       "Max Temp (°C)    Cool Deg Days (°C)    0.715378\n",
       "Min Temp (°C)    Cool Deg Days (°C)    0.710062\n",
       "dtype: float64"
      ]
     },
     "execution_count": 53,
     "metadata": {},
     "output_type": "execute_result"
    }
   ],
   "source": [
    "get_top_abs_correlations(climate_clubbed.drop(['Year'], axis=1), 10)"
   ]
  },
  {
   "cell_type": "code",
   "execution_count": 54,
   "metadata": {},
   "outputs": [
    {
     "data": {
      "text/plain": [
       "Index(['Year', 'Max Temp (°C)', 'Min Temp (°C)', 'Cool Deg Days (°C)',\n",
       "       'Total Rain (mm)', 'Total Snow (cm)', 'Snow on Grnd (cm)', 'Week'],\n",
       "      dtype='object')"
      ]
     },
     "execution_count": 54,
     "metadata": {},
     "output_type": "execute_result"
    }
   ],
   "source": [
    "# Drop columns having correlation coefficient >0.95\n",
    "col_to_drop=['Total Precip (mm)','Heat Deg Days (°C)','Mean Temp (°C)']\n",
    "climate_clubbed.drop(col_to_drop, axis=1, inplace=True)\n",
    "climate_clubbed.columns"
   ]
  },
  {
   "cell_type": "markdown",
   "metadata": {},
   "source": [
    "#### Converting Daily Climate Data to Weekly"
   ]
  },
  {
   "cell_type": "code",
   "execution_count": 55,
   "metadata": {},
   "outputs": [
    {
     "data": {
      "text/html": [
       "<div>\n",
       "<style scoped>\n",
       "    .dataframe tbody tr th:only-of-type {\n",
       "        vertical-align: middle;\n",
       "    }\n",
       "\n",
       "    .dataframe tbody tr th {\n",
       "        vertical-align: top;\n",
       "    }\n",
       "\n",
       "    .dataframe thead th {\n",
       "        text-align: right;\n",
       "    }\n",
       "</style>\n",
       "<table border=\"1\" class=\"dataframe\">\n",
       "  <thead>\n",
       "    <tr style=\"text-align: right;\">\n",
       "      <th></th>\n",
       "      <th></th>\n",
       "      <th>Max Temp (°C)</th>\n",
       "      <th>Min Temp (°C)</th>\n",
       "      <th>Cool Deg Days (°C)</th>\n",
       "      <th>Total Rain (mm)</th>\n",
       "      <th>Total Snow (cm)</th>\n",
       "      <th>Snow on Grnd (cm)</th>\n",
       "    </tr>\n",
       "    <tr>\n",
       "      <th>Year</th>\n",
       "      <th>Week</th>\n",
       "      <th></th>\n",
       "      <th></th>\n",
       "      <th></th>\n",
       "      <th></th>\n",
       "      <th></th>\n",
       "      <th></th>\n",
       "    </tr>\n",
       "  </thead>\n",
       "  <tbody>\n",
       "    <tr>\n",
       "      <th rowspan=\"5\" valign=\"top\">2015</th>\n",
       "      <th>1</th>\n",
       "      <td>2.000000</td>\n",
       "      <td>-3.875000</td>\n",
       "      <td>0.0</td>\n",
       "      <td>6.000000</td>\n",
       "      <td>0.250000</td>\n",
       "      <td>0.000000</td>\n",
       "    </tr>\n",
       "    <tr>\n",
       "      <th>2</th>\n",
       "      <td>-7.428571</td>\n",
       "      <td>-13.714286</td>\n",
       "      <td>0.0</td>\n",
       "      <td>0.000000</td>\n",
       "      <td>1.714286</td>\n",
       "      <td>1.142857</td>\n",
       "    </tr>\n",
       "    <tr>\n",
       "      <th>3</th>\n",
       "      <td>-8.214286</td>\n",
       "      <td>-14.714286</td>\n",
       "      <td>0.0</td>\n",
       "      <td>0.171429</td>\n",
       "      <td>0.000000</td>\n",
       "      <td>2.571429</td>\n",
       "    </tr>\n",
       "    <tr>\n",
       "      <th>4</th>\n",
       "      <td>-2.000000</td>\n",
       "      <td>-5.428571</td>\n",
       "      <td>0.0</td>\n",
       "      <td>0.000000</td>\n",
       "      <td>0.000000</td>\n",
       "      <td>2.285714</td>\n",
       "    </tr>\n",
       "    <tr>\n",
       "      <th>5</th>\n",
       "      <td>-1.000000</td>\n",
       "      <td>-10.500000</td>\n",
       "      <td>0.0</td>\n",
       "      <td>0.000000</td>\n",
       "      <td>2.857143</td>\n",
       "      <td>2.428571</td>\n",
       "    </tr>\n",
       "  </tbody>\n",
       "</table>\n",
       "</div>"
      ],
      "text/plain": [
       "           Max Temp (°C)  Min Temp (°C)  Cool Deg Days (°C)  Total Rain (mm)  \\\n",
       "Year Week                                                                      \n",
       "2015 1          2.000000      -3.875000                 0.0         6.000000   \n",
       "     2         -7.428571     -13.714286                 0.0         0.000000   \n",
       "     3         -8.214286     -14.714286                 0.0         0.171429   \n",
       "     4         -2.000000      -5.428571                 0.0         0.000000   \n",
       "     5         -1.000000     -10.500000                 0.0         0.000000   \n",
       "\n",
       "           Total Snow (cm)  Snow on Grnd (cm)  \n",
       "Year Week                                      \n",
       "2015 1            0.250000           0.000000  \n",
       "     2            1.714286           1.142857  \n",
       "     3            0.000000           2.571429  \n",
       "     4            0.000000           2.285714  \n",
       "     5            2.857143           2.428571  "
      ]
     },
     "execution_count": 55,
     "metadata": {},
     "output_type": "execute_result"
    }
   ],
   "source": [
    "weekly_climate_data=climate_clubbed.groupby(['Year','Week']).mean()\n",
    "\n",
    "weekly_climate_data.head()"
   ]
  },
  {
   "cell_type": "markdown",
   "metadata": {},
   "source": [
    "### Merging weekly climate data with all 3 subcategory data and investment data"
   ]
  },
  {
   "cell_type": "code",
   "execution_count": 56,
   "metadata": {},
   "outputs": [
    {
     "data": {
      "text/html": [
       "<div>\n",
       "<style scoped>\n",
       "    .dataframe tbody tr th:only-of-type {\n",
       "        vertical-align: middle;\n",
       "    }\n",
       "\n",
       "    .dataframe tbody tr th {\n",
       "        vertical-align: top;\n",
       "    }\n",
       "\n",
       "    .dataframe thead th {\n",
       "        text-align: right;\n",
       "    }\n",
       "</style>\n",
       "<table border=\"1\" class=\"dataframe\">\n",
       "  <thead>\n",
       "    <tr style=\"text-align: right;\">\n",
       "      <th></th>\n",
       "      <th>Year</th>\n",
       "      <th>order_week</th>\n",
       "      <th>Month</th>\n",
       "      <th>gmv</th>\n",
       "      <th>units</th>\n",
       "      <th>s1_fact.order_payment_type</th>\n",
       "      <th>sla</th>\n",
       "      <th>product_mrp</th>\n",
       "      <th>product_procurement_sla</th>\n",
       "      <th>holiday_flag</th>\n",
       "      <th>payday_flag</th>\n",
       "      <th>Total Investment</th>\n",
       "      <th>TV</th>\n",
       "      <th>Digital</th>\n",
       "      <th>Sponsorship</th>\n",
       "      <th>Content Marketing</th>\n",
       "      <th>Online marketing</th>\n",
       "      <th>NPS</th>\n",
       "      <th>Stock Index</th>\n",
       "      <th>Max Temp (°C)</th>\n",
       "      <th>Min Temp (°C)</th>\n",
       "      <th>Cool Deg Days (°C)</th>\n",
       "      <th>Total Rain (mm)</th>\n",
       "      <th>Total Snow (cm)</th>\n",
       "      <th>Snow on Grnd (cm)</th>\n",
       "    </tr>\n",
       "  </thead>\n",
       "  <tbody>\n",
       "    <tr>\n",
       "      <th>0</th>\n",
       "      <td>2015</td>\n",
       "      <td>27</td>\n",
       "      <td>7</td>\n",
       "      <td>15526.0</td>\n",
       "      <td>25</td>\n",
       "      <td>Prepaid</td>\n",
       "      <td>1.840000</td>\n",
       "      <td>1458.040000</td>\n",
       "      <td>2.920000</td>\n",
       "      <td>0</td>\n",
       "      <td>0</td>\n",
       "      <td>17.061775</td>\n",
       "      <td>0.21533</td>\n",
       "      <td>2.533014</td>\n",
       "      <td>7.41427</td>\n",
       "      <td>0.000933</td>\n",
       "      <td>1.327278</td>\n",
       "      <td>54.599588</td>\n",
       "      <td>1177</td>\n",
       "      <td>25.428571</td>\n",
       "      <td>14.000000</td>\n",
       "      <td>1.800000</td>\n",
       "      <td>0.600000</td>\n",
       "      <td>0.0</td>\n",
       "      <td>0.0</td>\n",
       "    </tr>\n",
       "    <tr>\n",
       "      <th>1</th>\n",
       "      <td>2015</td>\n",
       "      <td>28</td>\n",
       "      <td>7</td>\n",
       "      <td>3702743.0</td>\n",
       "      <td>2653</td>\n",
       "      <td>COD</td>\n",
       "      <td>6.302637</td>\n",
       "      <td>2567.004723</td>\n",
       "      <td>2.672176</td>\n",
       "      <td>0</td>\n",
       "      <td>0</td>\n",
       "      <td>17.061775</td>\n",
       "      <td>0.21533</td>\n",
       "      <td>2.533014</td>\n",
       "      <td>7.41427</td>\n",
       "      <td>0.000933</td>\n",
       "      <td>1.327278</td>\n",
       "      <td>54.599588</td>\n",
       "      <td>1177</td>\n",
       "      <td>25.285714</td>\n",
       "      <td>15.142857</td>\n",
       "      <td>2.471429</td>\n",
       "      <td>3.785714</td>\n",
       "      <td>0.0</td>\n",
       "      <td>0.0</td>\n",
       "    </tr>\n",
       "    <tr>\n",
       "      <th>2</th>\n",
       "      <td>2015</td>\n",
       "      <td>29</td>\n",
       "      <td>7</td>\n",
       "      <td>4203216.0</td>\n",
       "      <td>2957</td>\n",
       "      <td>COD</td>\n",
       "      <td>5.999651</td>\n",
       "      <td>2519.958871</td>\n",
       "      <td>2.694667</td>\n",
       "      <td>1</td>\n",
       "      <td>1</td>\n",
       "      <td>17.061775</td>\n",
       "      <td>0.21533</td>\n",
       "      <td>2.533014</td>\n",
       "      <td>7.41427</td>\n",
       "      <td>0.000933</td>\n",
       "      <td>1.327278</td>\n",
       "      <td>54.599588</td>\n",
       "      <td>1177</td>\n",
       "      <td>28.214286</td>\n",
       "      <td>17.642857</td>\n",
       "      <td>4.942857</td>\n",
       "      <td>1.200000</td>\n",
       "      <td>0.0</td>\n",
       "      <td>0.0</td>\n",
       "    </tr>\n",
       "    <tr>\n",
       "      <th>3</th>\n",
       "      <td>2015</td>\n",
       "      <td>30</td>\n",
       "      <td>7</td>\n",
       "      <td>4141102.0</td>\n",
       "      <td>2978</td>\n",
       "      <td>COD</td>\n",
       "      <td>6.095905</td>\n",
       "      <td>2493.424221</td>\n",
       "      <td>2.737137</td>\n",
       "      <td>0</td>\n",
       "      <td>0</td>\n",
       "      <td>17.061775</td>\n",
       "      <td>0.21533</td>\n",
       "      <td>2.533014</td>\n",
       "      <td>7.41427</td>\n",
       "      <td>0.000933</td>\n",
       "      <td>1.327278</td>\n",
       "      <td>54.599588</td>\n",
       "      <td>1177</td>\n",
       "      <td>29.785714</td>\n",
       "      <td>16.142857</td>\n",
       "      <td>4.828571</td>\n",
       "      <td>0.771429</td>\n",
       "      <td>0.0</td>\n",
       "      <td>0.0</td>\n",
       "    </tr>\n",
       "    <tr>\n",
       "      <th>4</th>\n",
       "      <td>2015</td>\n",
       "      <td>31</td>\n",
       "      <td>7</td>\n",
       "      <td>2709387.0</td>\n",
       "      <td>1988</td>\n",
       "      <td>COD</td>\n",
       "      <td>6.043661</td>\n",
       "      <td>2425.002104</td>\n",
       "      <td>2.723304</td>\n",
       "      <td>0</td>\n",
       "      <td>0</td>\n",
       "      <td>17.061775</td>\n",
       "      <td>0.21533</td>\n",
       "      <td>2.533014</td>\n",
       "      <td>7.41427</td>\n",
       "      <td>0.000933</td>\n",
       "      <td>1.327278</td>\n",
       "      <td>54.599588</td>\n",
       "      <td>1177</td>\n",
       "      <td>31.857143</td>\n",
       "      <td>17.500000</td>\n",
       "      <td>6.700000</td>\n",
       "      <td>3.971429</td>\n",
       "      <td>0.0</td>\n",
       "      <td>0.0</td>\n",
       "    </tr>\n",
       "  </tbody>\n",
       "</table>\n",
       "</div>"
      ],
      "text/plain": [
       "   Year  order_week  Month        gmv  units s1_fact.order_payment_type  \\\n",
       "0  2015          27      7    15526.0     25                    Prepaid   \n",
       "1  2015          28      7  3702743.0   2653                        COD   \n",
       "2  2015          29      7  4203216.0   2957                        COD   \n",
       "3  2015          30      7  4141102.0   2978                        COD   \n",
       "4  2015          31      7  2709387.0   1988                        COD   \n",
       "\n",
       "        sla  product_mrp  product_procurement_sla  holiday_flag  payday_flag  \\\n",
       "0  1.840000  1458.040000                 2.920000             0            0   \n",
       "1  6.302637  2567.004723                 2.672176             0            0   \n",
       "2  5.999651  2519.958871                 2.694667             1            1   \n",
       "3  6.095905  2493.424221                 2.737137             0            0   \n",
       "4  6.043661  2425.002104                 2.723304             0            0   \n",
       "\n",
       "   Total Investment       TV   Digital  Sponsorship  Content Marketing  \\\n",
       "0         17.061775  0.21533  2.533014      7.41427           0.000933   \n",
       "1         17.061775  0.21533  2.533014      7.41427           0.000933   \n",
       "2         17.061775  0.21533  2.533014      7.41427           0.000933   \n",
       "3         17.061775  0.21533  2.533014      7.41427           0.000933   \n",
       "4         17.061775  0.21533  2.533014      7.41427           0.000933   \n",
       "\n",
       "   Online marketing        NPS  Stock Index  Max Temp (°C)  Min Temp (°C)  \\\n",
       "0          1.327278  54.599588         1177      25.428571      14.000000   \n",
       "1          1.327278  54.599588         1177      25.285714      15.142857   \n",
       "2          1.327278  54.599588         1177      28.214286      17.642857   \n",
       "3          1.327278  54.599588         1177      29.785714      16.142857   \n",
       "4          1.327278  54.599588         1177      31.857143      17.500000   \n",
       "\n",
       "   Cool Deg Days (°C)  Total Rain (mm)  Total Snow (cm)  Snow on Grnd (cm)  \n",
       "0            1.800000         0.600000              0.0                0.0  \n",
       "1            2.471429         3.785714              0.0                0.0  \n",
       "2            4.942857         1.200000              0.0                0.0  \n",
       "3            4.828571         0.771429              0.0                0.0  \n",
       "4            6.700000         3.971429              0.0                0.0  "
      ]
     },
     "execution_count": 56,
     "metadata": {},
     "output_type": "execute_result"
    }
   ],
   "source": [
    "master_cameraAccessory_df=pd.merge(camera_investment_df, weekly_climate_data.reset_index(), how='inner', left_on=['Year','order_week'], right_on=['Year','Week']).drop(['Week'], axis='columns')\n",
    "master_cameraAccessory_df.head()"
   ]
  },
  {
   "cell_type": "code",
   "execution_count": 57,
   "metadata": {},
   "outputs": [
    {
     "name": "stderr",
     "output_type": "stream",
     "text": [
      "/Users/venramam/anaconda3/lib/python3.7/site-packages/ipykernel_launcher.py:4: SettingWithCopyWarning: \n",
      "A value is trying to be set on a copy of a slice from a DataFrame\n",
      "\n",
      "See the caveats in the documentation: http://pandas.pydata.org/pandas-docs/stable/indexing.html#indexing-view-versus-copy\n",
      "  after removing the cwd from sys.path.\n"
     ]
    },
    {
     "data": {
      "text/html": [
       "<div>\n",
       "<style scoped>\n",
       "    .dataframe tbody tr th:only-of-type {\n",
       "        vertical-align: middle;\n",
       "    }\n",
       "\n",
       "    .dataframe tbody tr th {\n",
       "        vertical-align: top;\n",
       "    }\n",
       "\n",
       "    .dataframe thead th {\n",
       "        text-align: right;\n",
       "    }\n",
       "</style>\n",
       "<table border=\"1\" class=\"dataframe\">\n",
       "  <thead>\n",
       "    <tr style=\"text-align: right;\">\n",
       "      <th></th>\n",
       "      <th>Year</th>\n",
       "      <th>order_week</th>\n",
       "      <th>Month</th>\n",
       "      <th>gmv</th>\n",
       "      <th>units</th>\n",
       "      <th>s1_fact.order_payment_type</th>\n",
       "      <th>sla</th>\n",
       "      <th>product_mrp</th>\n",
       "      <th>product_procurement_sla</th>\n",
       "      <th>holiday_flag</th>\n",
       "      <th>payday_flag</th>\n",
       "      <th>Total Investment</th>\n",
       "      <th>TV</th>\n",
       "      <th>Digital</th>\n",
       "      <th>Sponsorship</th>\n",
       "      <th>Content Marketing</th>\n",
       "      <th>Online marketing</th>\n",
       "      <th>NPS</th>\n",
       "      <th>Stock Index</th>\n",
       "      <th>Max Temp (°C)</th>\n",
       "      <th>Min Temp (°C)</th>\n",
       "      <th>Cool Deg Days (°C)</th>\n",
       "      <th>Total Rain (mm)</th>\n",
       "      <th>Total Snow (cm)</th>\n",
       "      <th>Snow on Grnd (cm)</th>\n",
       "    </tr>\n",
       "  </thead>\n",
       "  <tbody>\n",
       "    <tr>\n",
       "      <th>26</th>\n",
       "      <td>2016</td>\n",
       "      <td>54</td>\n",
       "      <td>1</td>\n",
       "      <td>4862401.0</td>\n",
       "      <td>5137</td>\n",
       "      <td>COD</td>\n",
       "      <td>5.584164</td>\n",
       "      <td>1760.670921</td>\n",
       "      <td>2.820303</td>\n",
       "      <td>0</td>\n",
       "      <td>0</td>\n",
       "      <td>74.196</td>\n",
       "      <td>4.38</td>\n",
       "      <td>0.456</td>\n",
       "      <td>4.2</td>\n",
       "      <td>0.9</td>\n",
       "      <td>22.9</td>\n",
       "      <td>47.093031</td>\n",
       "      <td>1052</td>\n",
       "      <td>6.071429</td>\n",
       "      <td>-3.428571</td>\n",
       "      <td>0.0</td>\n",
       "      <td>3.371429</td>\n",
       "      <td>1.0</td>\n",
       "      <td>0.000000</td>\n",
       "    </tr>\n",
       "    <tr>\n",
       "      <th>27</th>\n",
       "      <td>2016</td>\n",
       "      <td>55</td>\n",
       "      <td>1</td>\n",
       "      <td>4027769.0</td>\n",
       "      <td>3665</td>\n",
       "      <td>COD</td>\n",
       "      <td>6.224109</td>\n",
       "      <td>1977.756682</td>\n",
       "      <td>2.616927</td>\n",
       "      <td>0</td>\n",
       "      <td>1</td>\n",
       "      <td>74.196</td>\n",
       "      <td>4.38</td>\n",
       "      <td>0.456</td>\n",
       "      <td>4.2</td>\n",
       "      <td>0.9</td>\n",
       "      <td>22.9</td>\n",
       "      <td>47.093031</td>\n",
       "      <td>1052</td>\n",
       "      <td>0.642857</td>\n",
       "      <td>-6.500000</td>\n",
       "      <td>0.0</td>\n",
       "      <td>3.257143</td>\n",
       "      <td>1.0</td>\n",
       "      <td>8.428571</td>\n",
       "    </tr>\n",
       "    <tr>\n",
       "      <th>28</th>\n",
       "      <td>2016</td>\n",
       "      <td>56</td>\n",
       "      <td>1</td>\n",
       "      <td>6624939.0</td>\n",
       "      <td>4960</td>\n",
       "      <td>COD</td>\n",
       "      <td>6.061532</td>\n",
       "      <td>2299.398100</td>\n",
       "      <td>2.634937</td>\n",
       "      <td>1</td>\n",
       "      <td>0</td>\n",
       "      <td>74.196</td>\n",
       "      <td>4.38</td>\n",
       "      <td>0.456</td>\n",
       "      <td>4.2</td>\n",
       "      <td>0.9</td>\n",
       "      <td>22.9</td>\n",
       "      <td>47.093031</td>\n",
       "      <td>1052</td>\n",
       "      <td>1.071429</td>\n",
       "      <td>-2.000000</td>\n",
       "      <td>0.0</td>\n",
       "      <td>3.257143</td>\n",
       "      <td>0.0</td>\n",
       "      <td>3.428571</td>\n",
       "    </tr>\n",
       "    <tr>\n",
       "      <th>29</th>\n",
       "      <td>2016</td>\n",
       "      <td>57</td>\n",
       "      <td>1</td>\n",
       "      <td>4677940.0</td>\n",
       "      <td>3418</td>\n",
       "      <td>COD</td>\n",
       "      <td>6.358254</td>\n",
       "      <td>2310.638158</td>\n",
       "      <td>2.554725</td>\n",
       "      <td>0</td>\n",
       "      <td>0</td>\n",
       "      <td>74.196</td>\n",
       "      <td>4.38</td>\n",
       "      <td>0.456</td>\n",
       "      <td>4.2</td>\n",
       "      <td>0.9</td>\n",
       "      <td>22.9</td>\n",
       "      <td>47.093031</td>\n",
       "      <td>1052</td>\n",
       "      <td>5.928571</td>\n",
       "      <td>-9.000000</td>\n",
       "      <td>0.0</td>\n",
       "      <td>0.000000</td>\n",
       "      <td>0.0</td>\n",
       "      <td>0.000000</td>\n",
       "    </tr>\n",
       "    <tr>\n",
       "      <th>30</th>\n",
       "      <td>2016</td>\n",
       "      <td>106</td>\n",
       "      <td>1</td>\n",
       "      <td>2213408.0</td>\n",
       "      <td>1858</td>\n",
       "      <td>COD</td>\n",
       "      <td>6.043430</td>\n",
       "      <td>1991.908741</td>\n",
       "      <td>2.744915</td>\n",
       "      <td>1</td>\n",
       "      <td>1</td>\n",
       "      <td>74.196</td>\n",
       "      <td>4.38</td>\n",
       "      <td>0.456</td>\n",
       "      <td>4.2</td>\n",
       "      <td>0.9</td>\n",
       "      <td>22.9</td>\n",
       "      <td>47.093031</td>\n",
       "      <td>1052</td>\n",
       "      <td>6.500000</td>\n",
       "      <td>-2.000000</td>\n",
       "      <td>0.0</td>\n",
       "      <td>0.000000</td>\n",
       "      <td>0.0</td>\n",
       "      <td>0.000000</td>\n",
       "    </tr>\n",
       "  </tbody>\n",
       "</table>\n",
       "</div>"
      ],
      "text/plain": [
       "    Year  order_week  Month        gmv  units s1_fact.order_payment_type  \\\n",
       "26  2016          54      1  4862401.0   5137                        COD   \n",
       "27  2016          55      1  4027769.0   3665                        COD   \n",
       "28  2016          56      1  6624939.0   4960                        COD   \n",
       "29  2016          57      1  4677940.0   3418                        COD   \n",
       "30  2016         106      1  2213408.0   1858                        COD   \n",
       "\n",
       "         sla  product_mrp  product_procurement_sla  holiday_flag  payday_flag  \\\n",
       "26  5.584164  1760.670921                 2.820303             0            0   \n",
       "27  6.224109  1977.756682                 2.616927             0            1   \n",
       "28  6.061532  2299.398100                 2.634937             1            0   \n",
       "29  6.358254  2310.638158                 2.554725             0            0   \n",
       "30  6.043430  1991.908741                 2.744915             1            1   \n",
       "\n",
       "    Total Investment    TV  Digital  Sponsorship  Content Marketing  \\\n",
       "26            74.196  4.38    0.456          4.2                0.9   \n",
       "27            74.196  4.38    0.456          4.2                0.9   \n",
       "28            74.196  4.38    0.456          4.2                0.9   \n",
       "29            74.196  4.38    0.456          4.2                0.9   \n",
       "30            74.196  4.38    0.456          4.2                0.9   \n",
       "\n",
       "    Online marketing        NPS  Stock Index  Max Temp (°C)  Min Temp (°C)  \\\n",
       "26              22.9  47.093031         1052       6.071429      -3.428571   \n",
       "27              22.9  47.093031         1052       0.642857      -6.500000   \n",
       "28              22.9  47.093031         1052       1.071429      -2.000000   \n",
       "29              22.9  47.093031         1052       5.928571      -9.000000   \n",
       "30              22.9  47.093031         1052       6.500000      -2.000000   \n",
       "\n",
       "    Cool Deg Days (°C)  Total Rain (mm)  Total Snow (cm)  Snow on Grnd (cm)  \n",
       "26                 0.0         3.371429              1.0           0.000000  \n",
       "27                 0.0         3.257143              1.0           8.428571  \n",
       "28                 0.0         3.257143              0.0           3.428571  \n",
       "29                 0.0         0.000000              0.0           0.000000  \n",
       "30                 0.0         0.000000              0.0           0.000000  "
      ]
     },
     "execution_count": 57,
     "metadata": {},
     "output_type": "execute_result"
    }
   ],
   "source": [
    "# Lets make order_week for year 2016 in continuation with 2015 and drop Year and Month\n",
    "# last week of 2015 is 53 so 1st week of 2016 will be 54\n",
    "mask =  (master_cameraAccessory_df['Year']==2016)\n",
    "master_cameraAccessory_df['order_week'][mask] =master_cameraAccessory_df['order_week']+53\n",
    "master_cameraAccessory_df[master_cameraAccessory_df.Year==2016].head()"
   ]
  },
  {
   "cell_type": "code",
   "execution_count": 58,
   "metadata": {},
   "outputs": [],
   "source": [
    "master_cameraAccessory_df=master_cameraAccessory_df.drop(['Year','Month'], axis=1)"
   ]
  },
  {
   "cell_type": "code",
   "execution_count": 59,
   "metadata": {},
   "outputs": [
    {
     "data": {
      "text/html": [
       "<div>\n",
       "<style scoped>\n",
       "    .dataframe tbody tr th:only-of-type {\n",
       "        vertical-align: middle;\n",
       "    }\n",
       "\n",
       "    .dataframe tbody tr th {\n",
       "        vertical-align: top;\n",
       "    }\n",
       "\n",
       "    .dataframe thead th {\n",
       "        text-align: right;\n",
       "    }\n",
       "</style>\n",
       "<table border=\"1\" class=\"dataframe\">\n",
       "  <thead>\n",
       "    <tr style=\"text-align: right;\">\n",
       "      <th></th>\n",
       "      <th>Year</th>\n",
       "      <th>order_week</th>\n",
       "      <th>Month</th>\n",
       "      <th>gmv</th>\n",
       "      <th>units</th>\n",
       "      <th>s1_fact.order_payment_type</th>\n",
       "      <th>sla</th>\n",
       "      <th>product_mrp</th>\n",
       "      <th>product_procurement_sla</th>\n",
       "      <th>holiday_flag</th>\n",
       "      <th>payday_flag</th>\n",
       "      <th>Total Investment</th>\n",
       "      <th>TV</th>\n",
       "      <th>Digital</th>\n",
       "      <th>Sponsorship</th>\n",
       "      <th>Content Marketing</th>\n",
       "      <th>Online marketing</th>\n",
       "      <th>NPS</th>\n",
       "      <th>Stock Index</th>\n",
       "      <th>Max Temp (°C)</th>\n",
       "      <th>Min Temp (°C)</th>\n",
       "      <th>Cool Deg Days (°C)</th>\n",
       "      <th>Total Rain (mm)</th>\n",
       "      <th>Total Snow (cm)</th>\n",
       "      <th>Snow on Grnd (cm)</th>\n",
       "    </tr>\n",
       "  </thead>\n",
       "  <tbody>\n",
       "    <tr>\n",
       "      <th>0</th>\n",
       "      <td>2015</td>\n",
       "      <td>27</td>\n",
       "      <td>7</td>\n",
       "      <td>1.067560e+05</td>\n",
       "      <td>38</td>\n",
       "      <td>Prepaid</td>\n",
       "      <td>2.789474</td>\n",
       "      <td>4642.473684</td>\n",
       "      <td>3.605263</td>\n",
       "      <td>0</td>\n",
       "      <td>1</td>\n",
       "      <td>17.061775</td>\n",
       "      <td>0.21533</td>\n",
       "      <td>2.533014</td>\n",
       "      <td>7.41427</td>\n",
       "      <td>0.000933</td>\n",
       "      <td>1.327278</td>\n",
       "      <td>54.599588</td>\n",
       "      <td>1177</td>\n",
       "      <td>25.428571</td>\n",
       "      <td>14.000000</td>\n",
       "      <td>1.800000</td>\n",
       "      <td>0.600000</td>\n",
       "      <td>0.0</td>\n",
       "      <td>0.0</td>\n",
       "    </tr>\n",
       "    <tr>\n",
       "      <th>1</th>\n",
       "      <td>2015</td>\n",
       "      <td>28</td>\n",
       "      <td>7</td>\n",
       "      <td>3.931992e+06</td>\n",
       "      <td>1756</td>\n",
       "      <td>COD</td>\n",
       "      <td>6.302926</td>\n",
       "      <td>3463.745841</td>\n",
       "      <td>2.865175</td>\n",
       "      <td>0</td>\n",
       "      <td>0</td>\n",
       "      <td>17.061775</td>\n",
       "      <td>0.21533</td>\n",
       "      <td>2.533014</td>\n",
       "      <td>7.41427</td>\n",
       "      <td>0.000933</td>\n",
       "      <td>1.327278</td>\n",
       "      <td>54.599588</td>\n",
       "      <td>1177</td>\n",
       "      <td>25.285714</td>\n",
       "      <td>15.142857</td>\n",
       "      <td>2.471429</td>\n",
       "      <td>3.785714</td>\n",
       "      <td>0.0</td>\n",
       "      <td>0.0</td>\n",
       "    </tr>\n",
       "    <tr>\n",
       "      <th>2</th>\n",
       "      <td>2015</td>\n",
       "      <td>29</td>\n",
       "      <td>7</td>\n",
       "      <td>4.809561e+06</td>\n",
       "      <td>2162</td>\n",
       "      <td>COD</td>\n",
       "      <td>6.202143</td>\n",
       "      <td>3577.937587</td>\n",
       "      <td>2.730787</td>\n",
       "      <td>1</td>\n",
       "      <td>1</td>\n",
       "      <td>17.061775</td>\n",
       "      <td>0.21533</td>\n",
       "      <td>2.533014</td>\n",
       "      <td>7.41427</td>\n",
       "      <td>0.000933</td>\n",
       "      <td>1.327278</td>\n",
       "      <td>54.599588</td>\n",
       "      <td>1177</td>\n",
       "      <td>28.214286</td>\n",
       "      <td>17.642857</td>\n",
       "      <td>4.942857</td>\n",
       "      <td>1.200000</td>\n",
       "      <td>0.0</td>\n",
       "      <td>0.0</td>\n",
       "    </tr>\n",
       "    <tr>\n",
       "      <th>3</th>\n",
       "      <td>2015</td>\n",
       "      <td>30</td>\n",
       "      <td>7</td>\n",
       "      <td>4.181413e+06</td>\n",
       "      <td>1994</td>\n",
       "      <td>COD</td>\n",
       "      <td>6.357468</td>\n",
       "      <td>3420.401013</td>\n",
       "      <td>2.856203</td>\n",
       "      <td>0</td>\n",
       "      <td>0</td>\n",
       "      <td>17.061775</td>\n",
       "      <td>0.21533</td>\n",
       "      <td>2.533014</td>\n",
       "      <td>7.41427</td>\n",
       "      <td>0.000933</td>\n",
       "      <td>1.327278</td>\n",
       "      <td>54.599588</td>\n",
       "      <td>1177</td>\n",
       "      <td>29.785714</td>\n",
       "      <td>16.142857</td>\n",
       "      <td>4.828571</td>\n",
       "      <td>0.771429</td>\n",
       "      <td>0.0</td>\n",
       "      <td>0.0</td>\n",
       "    </tr>\n",
       "    <tr>\n",
       "      <th>4</th>\n",
       "      <td>2015</td>\n",
       "      <td>31</td>\n",
       "      <td>7</td>\n",
       "      <td>3.028711e+06</td>\n",
       "      <td>1409</td>\n",
       "      <td>COD</td>\n",
       "      <td>6.432143</td>\n",
       "      <td>3488.468571</td>\n",
       "      <td>2.720714</td>\n",
       "      <td>0</td>\n",
       "      <td>0</td>\n",
       "      <td>17.061775</td>\n",
       "      <td>0.21533</td>\n",
       "      <td>2.533014</td>\n",
       "      <td>7.41427</td>\n",
       "      <td>0.000933</td>\n",
       "      <td>1.327278</td>\n",
       "      <td>54.599588</td>\n",
       "      <td>1177</td>\n",
       "      <td>31.857143</td>\n",
       "      <td>17.500000</td>\n",
       "      <td>6.700000</td>\n",
       "      <td>3.971429</td>\n",
       "      <td>0.0</td>\n",
       "      <td>0.0</td>\n",
       "    </tr>\n",
       "  </tbody>\n",
       "</table>\n",
       "</div>"
      ],
      "text/plain": [
       "   Year  order_week  Month           gmv  units s1_fact.order_payment_type  \\\n",
       "0  2015          27      7  1.067560e+05     38                    Prepaid   \n",
       "1  2015          28      7  3.931992e+06   1756                        COD   \n",
       "2  2015          29      7  4.809561e+06   2162                        COD   \n",
       "3  2015          30      7  4.181413e+06   1994                        COD   \n",
       "4  2015          31      7  3.028711e+06   1409                        COD   \n",
       "\n",
       "        sla  product_mrp  product_procurement_sla  holiday_flag  payday_flag  \\\n",
       "0  2.789474  4642.473684                 3.605263             0            1   \n",
       "1  6.302926  3463.745841                 2.865175             0            0   \n",
       "2  6.202143  3577.937587                 2.730787             1            1   \n",
       "3  6.357468  3420.401013                 2.856203             0            0   \n",
       "4  6.432143  3488.468571                 2.720714             0            0   \n",
       "\n",
       "   Total Investment       TV   Digital  Sponsorship  Content Marketing  \\\n",
       "0         17.061775  0.21533  2.533014      7.41427           0.000933   \n",
       "1         17.061775  0.21533  2.533014      7.41427           0.000933   \n",
       "2         17.061775  0.21533  2.533014      7.41427           0.000933   \n",
       "3         17.061775  0.21533  2.533014      7.41427           0.000933   \n",
       "4         17.061775  0.21533  2.533014      7.41427           0.000933   \n",
       "\n",
       "   Online marketing        NPS  Stock Index  Max Temp (°C)  Min Temp (°C)  \\\n",
       "0          1.327278  54.599588         1177      25.428571      14.000000   \n",
       "1          1.327278  54.599588         1177      25.285714      15.142857   \n",
       "2          1.327278  54.599588         1177      28.214286      17.642857   \n",
       "3          1.327278  54.599588         1177      29.785714      16.142857   \n",
       "4          1.327278  54.599588         1177      31.857143      17.500000   \n",
       "\n",
       "   Cool Deg Days (°C)  Total Rain (mm)  Total Snow (cm)  Snow on Grnd (cm)  \n",
       "0            1.800000         0.600000              0.0                0.0  \n",
       "1            2.471429         3.785714              0.0                0.0  \n",
       "2            4.942857         1.200000              0.0                0.0  \n",
       "3            4.828571         0.771429              0.0                0.0  \n",
       "4            6.700000         3.971429              0.0                0.0  "
      ]
     },
     "execution_count": 59,
     "metadata": {},
     "output_type": "execute_result"
    }
   ],
   "source": [
    "master_homeAudio_df=pd.merge(homeAudio_investment_df, weekly_climate_data.reset_index(), how='inner', left_on=['Year','order_week'], right_on=['Year','Week']).drop(['Week'], axis='columns')\n",
    "master_homeAudio_df.head()"
   ]
  },
  {
   "cell_type": "code",
   "execution_count": 60,
   "metadata": {},
   "outputs": [
    {
     "name": "stderr",
     "output_type": "stream",
     "text": [
      "/Users/venramam/anaconda3/lib/python3.7/site-packages/ipykernel_launcher.py:2: SettingWithCopyWarning: \n",
      "A value is trying to be set on a copy of a slice from a DataFrame\n",
      "\n",
      "See the caveats in the documentation: http://pandas.pydata.org/pandas-docs/stable/indexing.html#indexing-view-versus-copy\n",
      "  \n"
     ]
    }
   ],
   "source": [
    "mask =  (master_homeAudio_df['Year']==2016)\n",
    "master_homeAudio_df['order_week'][mask] =master_homeAudio_df['order_week']+53\n",
    "master_homeAudio_df=master_homeAudio_df.drop(['Year','Month'], axis=1)"
   ]
  },
  {
   "cell_type": "code",
   "execution_count": 61,
   "metadata": {},
   "outputs": [
    {
     "data": {
      "text/html": [
       "<div>\n",
       "<style scoped>\n",
       "    .dataframe tbody tr th:only-of-type {\n",
       "        vertical-align: middle;\n",
       "    }\n",
       "\n",
       "    .dataframe tbody tr th {\n",
       "        vertical-align: top;\n",
       "    }\n",
       "\n",
       "    .dataframe thead th {\n",
       "        text-align: right;\n",
       "    }\n",
       "</style>\n",
       "<table border=\"1\" class=\"dataframe\">\n",
       "  <thead>\n",
       "    <tr style=\"text-align: right;\">\n",
       "      <th></th>\n",
       "      <th>Year</th>\n",
       "      <th>order_week</th>\n",
       "      <th>Month</th>\n",
       "      <th>gmv</th>\n",
       "      <th>units</th>\n",
       "      <th>s1_fact.order_payment_type</th>\n",
       "      <th>sla</th>\n",
       "      <th>product_mrp</th>\n",
       "      <th>product_procurement_sla</th>\n",
       "      <th>holiday_flag</th>\n",
       "      <th>payday_flag</th>\n",
       "      <th>Total Investment</th>\n",
       "      <th>TV</th>\n",
       "      <th>Digital</th>\n",
       "      <th>Sponsorship</th>\n",
       "      <th>Content Marketing</th>\n",
       "      <th>Online marketing</th>\n",
       "      <th>NPS</th>\n",
       "      <th>Stock Index</th>\n",
       "      <th>Max Temp (°C)</th>\n",
       "      <th>Min Temp (°C)</th>\n",
       "      <th>Cool Deg Days (°C)</th>\n",
       "      <th>Total Rain (mm)</th>\n",
       "      <th>Total Snow (cm)</th>\n",
       "      <th>Snow on Grnd (cm)</th>\n",
       "    </tr>\n",
       "  </thead>\n",
       "  <tbody>\n",
       "    <tr>\n",
       "      <th>0</th>\n",
       "      <td>2015</td>\n",
       "      <td>27</td>\n",
       "      <td>7</td>\n",
       "      <td>3.688800e+04</td>\n",
       "      <td>29</td>\n",
       "      <td>Prepaid</td>\n",
       "      <td>2.758621</td>\n",
       "      <td>1850.275862</td>\n",
       "      <td>2.586207</td>\n",
       "      <td>0</td>\n",
       "      <td>1</td>\n",
       "      <td>17.061775</td>\n",
       "      <td>0.21533</td>\n",
       "      <td>2.533014</td>\n",
       "      <td>7.41427</td>\n",
       "      <td>0.000933</td>\n",
       "      <td>1.327278</td>\n",
       "      <td>54.599588</td>\n",
       "      <td>1177</td>\n",
       "      <td>25.428571</td>\n",
       "      <td>14.000000</td>\n",
       "      <td>1.800000</td>\n",
       "      <td>0.600000</td>\n",
       "      <td>0.0</td>\n",
       "      <td>0.0</td>\n",
       "    </tr>\n",
       "    <tr>\n",
       "      <th>1</th>\n",
       "      <td>2015</td>\n",
       "      <td>28</td>\n",
       "      <td>7</td>\n",
       "      <td>2.553872e+06</td>\n",
       "      <td>2852</td>\n",
       "      <td>COD</td>\n",
       "      <td>5.043655</td>\n",
       "      <td>1480.089900</td>\n",
       "      <td>3.153903</td>\n",
       "      <td>0</td>\n",
       "      <td>0</td>\n",
       "      <td>17.061775</td>\n",
       "      <td>0.21533</td>\n",
       "      <td>2.533014</td>\n",
       "      <td>7.41427</td>\n",
       "      <td>0.000933</td>\n",
       "      <td>1.327278</td>\n",
       "      <td>54.599588</td>\n",
       "      <td>1177</td>\n",
       "      <td>25.285714</td>\n",
       "      <td>15.142857</td>\n",
       "      <td>2.471429</td>\n",
       "      <td>3.785714</td>\n",
       "      <td>0.0</td>\n",
       "      <td>0.0</td>\n",
       "    </tr>\n",
       "    <tr>\n",
       "      <th>2</th>\n",
       "      <td>2015</td>\n",
       "      <td>29</td>\n",
       "      <td>7</td>\n",
       "      <td>2.166214e+06</td>\n",
       "      <td>2842</td>\n",
       "      <td>COD</td>\n",
       "      <td>5.174701</td>\n",
       "      <td>1295.536444</td>\n",
       "      <td>2.596606</td>\n",
       "      <td>1</td>\n",
       "      <td>1</td>\n",
       "      <td>17.061775</td>\n",
       "      <td>0.21533</td>\n",
       "      <td>2.533014</td>\n",
       "      <td>7.41427</td>\n",
       "      <td>0.000933</td>\n",
       "      <td>1.327278</td>\n",
       "      <td>54.599588</td>\n",
       "      <td>1177</td>\n",
       "      <td>28.214286</td>\n",
       "      <td>17.642857</td>\n",
       "      <td>4.942857</td>\n",
       "      <td>1.200000</td>\n",
       "      <td>0.0</td>\n",
       "      <td>0.0</td>\n",
       "    </tr>\n",
       "    <tr>\n",
       "      <th>3</th>\n",
       "      <td>2015</td>\n",
       "      <td>30</td>\n",
       "      <td>7</td>\n",
       "      <td>2.505570e+06</td>\n",
       "      <td>2462</td>\n",
       "      <td>COD</td>\n",
       "      <td>5.331075</td>\n",
       "      <td>1673.855631</td>\n",
       "      <td>2.439881</td>\n",
       "      <td>0</td>\n",
       "      <td>0</td>\n",
       "      <td>17.061775</td>\n",
       "      <td>0.21533</td>\n",
       "      <td>2.533014</td>\n",
       "      <td>7.41427</td>\n",
       "      <td>0.000933</td>\n",
       "      <td>1.327278</td>\n",
       "      <td>54.599588</td>\n",
       "      <td>1177</td>\n",
       "      <td>29.785714</td>\n",
       "      <td>16.142857</td>\n",
       "      <td>4.828571</td>\n",
       "      <td>0.771429</td>\n",
       "      <td>0.0</td>\n",
       "      <td>0.0</td>\n",
       "    </tr>\n",
       "    <tr>\n",
       "      <th>4</th>\n",
       "      <td>2015</td>\n",
       "      <td>31</td>\n",
       "      <td>7</td>\n",
       "      <td>1.770605e+06</td>\n",
       "      <td>1678</td>\n",
       "      <td>COD</td>\n",
       "      <td>5.719773</td>\n",
       "      <td>1861.376574</td>\n",
       "      <td>2.394207</td>\n",
       "      <td>0</td>\n",
       "      <td>1</td>\n",
       "      <td>17.061775</td>\n",
       "      <td>0.21533</td>\n",
       "      <td>2.533014</td>\n",
       "      <td>7.41427</td>\n",
       "      <td>0.000933</td>\n",
       "      <td>1.327278</td>\n",
       "      <td>54.599588</td>\n",
       "      <td>1177</td>\n",
       "      <td>31.857143</td>\n",
       "      <td>17.500000</td>\n",
       "      <td>6.700000</td>\n",
       "      <td>3.971429</td>\n",
       "      <td>0.0</td>\n",
       "      <td>0.0</td>\n",
       "    </tr>\n",
       "  </tbody>\n",
       "</table>\n",
       "</div>"
      ],
      "text/plain": [
       "   Year  order_week  Month           gmv  units s1_fact.order_payment_type  \\\n",
       "0  2015          27      7  3.688800e+04     29                    Prepaid   \n",
       "1  2015          28      7  2.553872e+06   2852                        COD   \n",
       "2  2015          29      7  2.166214e+06   2842                        COD   \n",
       "3  2015          30      7  2.505570e+06   2462                        COD   \n",
       "4  2015          31      7  1.770605e+06   1678                        COD   \n",
       "\n",
       "        sla  product_mrp  product_procurement_sla  holiday_flag  payday_flag  \\\n",
       "0  2.758621  1850.275862                 2.586207             0            1   \n",
       "1  5.043655  1480.089900                 3.153903             0            0   \n",
       "2  5.174701  1295.536444                 2.596606             1            1   \n",
       "3  5.331075  1673.855631                 2.439881             0            0   \n",
       "4  5.719773  1861.376574                 2.394207             0            1   \n",
       "\n",
       "   Total Investment       TV   Digital  Sponsorship  Content Marketing  \\\n",
       "0         17.061775  0.21533  2.533014      7.41427           0.000933   \n",
       "1         17.061775  0.21533  2.533014      7.41427           0.000933   \n",
       "2         17.061775  0.21533  2.533014      7.41427           0.000933   \n",
       "3         17.061775  0.21533  2.533014      7.41427           0.000933   \n",
       "4         17.061775  0.21533  2.533014      7.41427           0.000933   \n",
       "\n",
       "   Online marketing        NPS  Stock Index  Max Temp (°C)  Min Temp (°C)  \\\n",
       "0          1.327278  54.599588         1177      25.428571      14.000000   \n",
       "1          1.327278  54.599588         1177      25.285714      15.142857   \n",
       "2          1.327278  54.599588         1177      28.214286      17.642857   \n",
       "3          1.327278  54.599588         1177      29.785714      16.142857   \n",
       "4          1.327278  54.599588         1177      31.857143      17.500000   \n",
       "\n",
       "   Cool Deg Days (°C)  Total Rain (mm)  Total Snow (cm)  Snow on Grnd (cm)  \n",
       "0            1.800000         0.600000              0.0                0.0  \n",
       "1            2.471429         3.785714              0.0                0.0  \n",
       "2            4.942857         1.200000              0.0                0.0  \n",
       "3            4.828571         0.771429              0.0                0.0  \n",
       "4            6.700000         3.971429              0.0                0.0  "
      ]
     },
     "execution_count": 61,
     "metadata": {},
     "output_type": "execute_result"
    }
   ],
   "source": [
    "master_gamingAccessory_df=pd.merge(gamingAccessory_investment_df, weekly_climate_data.reset_index(), how='inner', left_on=['Year','order_week'], right_on=['Year','Week']).drop(['Week'], axis='columns')\n",
    "master_gamingAccessory_df.head()"
   ]
  },
  {
   "cell_type": "code",
   "execution_count": 62,
   "metadata": {},
   "outputs": [
    {
     "name": "stderr",
     "output_type": "stream",
     "text": [
      "/Users/venramam/anaconda3/lib/python3.7/site-packages/ipykernel_launcher.py:2: SettingWithCopyWarning: \n",
      "A value is trying to be set on a copy of a slice from a DataFrame\n",
      "\n",
      "See the caveats in the documentation: http://pandas.pydata.org/pandas-docs/stable/indexing.html#indexing-view-versus-copy\n",
      "  \n"
     ]
    }
   ],
   "source": [
    "mask =  (master_gamingAccessory_df['Year']==2016)\n",
    "master_gamingAccessory_df['order_week'][mask] =master_gamingAccessory_df['order_week']+53\n",
    "master_gamingAccessory_df=master_gamingAccessory_df.drop(['Year','Month'], axis=1)"
   ]
  },
  {
   "cell_type": "code",
   "execution_count": 63,
   "metadata": {},
   "outputs": [],
   "source": [
    "# replacing Prepaid with 1 and COD with 0 in s1_fact.order_payment_type in all 3 master files\n",
    "# Defining the map function\n",
    "def binary_map(x):\n",
    "    return x.map({'Prepaid': 1, \"COD\": 0})\n",
    "\n",
    "master_cameraAccessory_df[['s1_fact.order_payment_type']] = master_cameraAccessory_df[['s1_fact.order_payment_type']].apply(binary_map)"
   ]
  },
  {
   "cell_type": "code",
   "execution_count": 64,
   "metadata": {},
   "outputs": [],
   "source": [
    "master_homeAudio_df[['s1_fact.order_payment_type']] = master_homeAudio_df[['s1_fact.order_payment_type']].apply(binary_map)\n",
    "master_gamingAccessory_df[['s1_fact.order_payment_type'] ]= master_gamingAccessory_df[['s1_fact.order_payment_type']].apply(binary_map)"
   ]
  },
  {
   "cell_type": "code",
   "execution_count": 65,
   "metadata": {},
   "outputs": [
    {
     "data": {
      "text/html": [
       "<div>\n",
       "<style scoped>\n",
       "    .dataframe tbody tr th:only-of-type {\n",
       "        vertical-align: middle;\n",
       "    }\n",
       "\n",
       "    .dataframe tbody tr th {\n",
       "        vertical-align: top;\n",
       "    }\n",
       "\n",
       "    .dataframe thead th {\n",
       "        text-align: right;\n",
       "    }\n",
       "</style>\n",
       "<table border=\"1\" class=\"dataframe\">\n",
       "  <thead>\n",
       "    <tr style=\"text-align: right;\">\n",
       "      <th></th>\n",
       "      <th>order_week</th>\n",
       "      <th>gmv</th>\n",
       "      <th>units</th>\n",
       "      <th>s1_fact.order_payment_type</th>\n",
       "      <th>sla</th>\n",
       "      <th>product_mrp</th>\n",
       "      <th>product_procurement_sla</th>\n",
       "      <th>holiday_flag</th>\n",
       "      <th>payday_flag</th>\n",
       "      <th>Total Investment</th>\n",
       "      <th>TV</th>\n",
       "      <th>Digital</th>\n",
       "      <th>Sponsorship</th>\n",
       "      <th>Content Marketing</th>\n",
       "      <th>Online marketing</th>\n",
       "      <th>NPS</th>\n",
       "      <th>Stock Index</th>\n",
       "      <th>Max Temp (°C)</th>\n",
       "      <th>Min Temp (°C)</th>\n",
       "      <th>Cool Deg Days (°C)</th>\n",
       "      <th>Total Rain (mm)</th>\n",
       "      <th>Total Snow (cm)</th>\n",
       "      <th>Snow on Grnd (cm)</th>\n",
       "    </tr>\n",
       "  </thead>\n",
       "  <tbody>\n",
       "    <tr>\n",
       "      <th>0</th>\n",
       "      <td>27</td>\n",
       "      <td>15526.0</td>\n",
       "      <td>25</td>\n",
       "      <td>1</td>\n",
       "      <td>1.840000</td>\n",
       "      <td>1458.040000</td>\n",
       "      <td>2.920000</td>\n",
       "      <td>0</td>\n",
       "      <td>0</td>\n",
       "      <td>17.061775</td>\n",
       "      <td>0.21533</td>\n",
       "      <td>2.533014</td>\n",
       "      <td>7.41427</td>\n",
       "      <td>0.000933</td>\n",
       "      <td>1.327278</td>\n",
       "      <td>54.599588</td>\n",
       "      <td>1177</td>\n",
       "      <td>25.428571</td>\n",
       "      <td>14.000000</td>\n",
       "      <td>1.800000</td>\n",
       "      <td>0.600000</td>\n",
       "      <td>0.0</td>\n",
       "      <td>0.0</td>\n",
       "    </tr>\n",
       "    <tr>\n",
       "      <th>1</th>\n",
       "      <td>28</td>\n",
       "      <td>3702743.0</td>\n",
       "      <td>2653</td>\n",
       "      <td>0</td>\n",
       "      <td>6.302637</td>\n",
       "      <td>2567.004723</td>\n",
       "      <td>2.672176</td>\n",
       "      <td>0</td>\n",
       "      <td>0</td>\n",
       "      <td>17.061775</td>\n",
       "      <td>0.21533</td>\n",
       "      <td>2.533014</td>\n",
       "      <td>7.41427</td>\n",
       "      <td>0.000933</td>\n",
       "      <td>1.327278</td>\n",
       "      <td>54.599588</td>\n",
       "      <td>1177</td>\n",
       "      <td>25.285714</td>\n",
       "      <td>15.142857</td>\n",
       "      <td>2.471429</td>\n",
       "      <td>3.785714</td>\n",
       "      <td>0.0</td>\n",
       "      <td>0.0</td>\n",
       "    </tr>\n",
       "    <tr>\n",
       "      <th>2</th>\n",
       "      <td>29</td>\n",
       "      <td>4203216.0</td>\n",
       "      <td>2957</td>\n",
       "      <td>0</td>\n",
       "      <td>5.999651</td>\n",
       "      <td>2519.958871</td>\n",
       "      <td>2.694667</td>\n",
       "      <td>1</td>\n",
       "      <td>1</td>\n",
       "      <td>17.061775</td>\n",
       "      <td>0.21533</td>\n",
       "      <td>2.533014</td>\n",
       "      <td>7.41427</td>\n",
       "      <td>0.000933</td>\n",
       "      <td>1.327278</td>\n",
       "      <td>54.599588</td>\n",
       "      <td>1177</td>\n",
       "      <td>28.214286</td>\n",
       "      <td>17.642857</td>\n",
       "      <td>4.942857</td>\n",
       "      <td>1.200000</td>\n",
       "      <td>0.0</td>\n",
       "      <td>0.0</td>\n",
       "    </tr>\n",
       "    <tr>\n",
       "      <th>3</th>\n",
       "      <td>30</td>\n",
       "      <td>4141102.0</td>\n",
       "      <td>2978</td>\n",
       "      <td>0</td>\n",
       "      <td>6.095905</td>\n",
       "      <td>2493.424221</td>\n",
       "      <td>2.737137</td>\n",
       "      <td>0</td>\n",
       "      <td>0</td>\n",
       "      <td>17.061775</td>\n",
       "      <td>0.21533</td>\n",
       "      <td>2.533014</td>\n",
       "      <td>7.41427</td>\n",
       "      <td>0.000933</td>\n",
       "      <td>1.327278</td>\n",
       "      <td>54.599588</td>\n",
       "      <td>1177</td>\n",
       "      <td>29.785714</td>\n",
       "      <td>16.142857</td>\n",
       "      <td>4.828571</td>\n",
       "      <td>0.771429</td>\n",
       "      <td>0.0</td>\n",
       "      <td>0.0</td>\n",
       "    </tr>\n",
       "    <tr>\n",
       "      <th>4</th>\n",
       "      <td>31</td>\n",
       "      <td>2709387.0</td>\n",
       "      <td>1988</td>\n",
       "      <td>0</td>\n",
       "      <td>6.043661</td>\n",
       "      <td>2425.002104</td>\n",
       "      <td>2.723304</td>\n",
       "      <td>0</td>\n",
       "      <td>0</td>\n",
       "      <td>17.061775</td>\n",
       "      <td>0.21533</td>\n",
       "      <td>2.533014</td>\n",
       "      <td>7.41427</td>\n",
       "      <td>0.000933</td>\n",
       "      <td>1.327278</td>\n",
       "      <td>54.599588</td>\n",
       "      <td>1177</td>\n",
       "      <td>31.857143</td>\n",
       "      <td>17.500000</td>\n",
       "      <td>6.700000</td>\n",
       "      <td>3.971429</td>\n",
       "      <td>0.0</td>\n",
       "      <td>0.0</td>\n",
       "    </tr>\n",
       "  </tbody>\n",
       "</table>\n",
       "</div>"
      ],
      "text/plain": [
       "   order_week        gmv  units  s1_fact.order_payment_type       sla  \\\n",
       "0          27    15526.0     25                           1  1.840000   \n",
       "1          28  3702743.0   2653                           0  6.302637   \n",
       "2          29  4203216.0   2957                           0  5.999651   \n",
       "3          30  4141102.0   2978                           0  6.095905   \n",
       "4          31  2709387.0   1988                           0  6.043661   \n",
       "\n",
       "   product_mrp  product_procurement_sla  holiday_flag  payday_flag  \\\n",
       "0  1458.040000                 2.920000             0            0   \n",
       "1  2567.004723                 2.672176             0            0   \n",
       "2  2519.958871                 2.694667             1            1   \n",
       "3  2493.424221                 2.737137             0            0   \n",
       "4  2425.002104                 2.723304             0            0   \n",
       "\n",
       "   Total Investment       TV   Digital  Sponsorship  Content Marketing  \\\n",
       "0         17.061775  0.21533  2.533014      7.41427           0.000933   \n",
       "1         17.061775  0.21533  2.533014      7.41427           0.000933   \n",
       "2         17.061775  0.21533  2.533014      7.41427           0.000933   \n",
       "3         17.061775  0.21533  2.533014      7.41427           0.000933   \n",
       "4         17.061775  0.21533  2.533014      7.41427           0.000933   \n",
       "\n",
       "   Online marketing        NPS  Stock Index  Max Temp (°C)  Min Temp (°C)  \\\n",
       "0          1.327278  54.599588         1177      25.428571      14.000000   \n",
       "1          1.327278  54.599588         1177      25.285714      15.142857   \n",
       "2          1.327278  54.599588         1177      28.214286      17.642857   \n",
       "3          1.327278  54.599588         1177      29.785714      16.142857   \n",
       "4          1.327278  54.599588         1177      31.857143      17.500000   \n",
       "\n",
       "   Cool Deg Days (°C)  Total Rain (mm)  Total Snow (cm)  Snow on Grnd (cm)  \n",
       "0            1.800000         0.600000              0.0                0.0  \n",
       "1            2.471429         3.785714              0.0                0.0  \n",
       "2            4.942857         1.200000              0.0                0.0  \n",
       "3            4.828571         0.771429              0.0                0.0  \n",
       "4            6.700000         3.971429              0.0                0.0  "
      ]
     },
     "execution_count": 65,
     "metadata": {},
     "output_type": "execute_result"
    }
   ],
   "source": [
    "master_cameraAccessory_df.head()"
   ]
  },
  {
   "cell_type": "code",
   "execution_count": 66,
   "metadata": {},
   "outputs": [
    {
     "data": {
      "text/plain": [
       "(53, 23)"
      ]
     },
     "execution_count": 66,
     "metadata": {},
     "output_type": "execute_result"
    }
   ],
   "source": [
    "master_cameraAccessory_df.shape"
   ]
  },
  {
   "cell_type": "markdown",
   "metadata": {},
   "source": [
    "## Modelling"
   ]
  },
  {
   "cell_type": "markdown",
   "metadata": {},
   "source": [
    "## 1.  Camera Accessory"
   ]
  },
  {
   "cell_type": "markdown",
   "metadata": {},
   "source": [
    "#### train test split"
   ]
  },
  {
   "cell_type": "code",
   "execution_count": 67,
   "metadata": {},
   "outputs": [],
   "source": [
    "from sklearn.model_selection import train_test_split\n",
    "\n",
    "# We specify this so that the train and test data set always have the same rows, respectively\n",
    "np.random.seed(0)\n",
    "df_cam_train, df_cam_test = train_test_split(master_cameraAccessory_df, train_size = 0.7, test_size = 0.3, random_state = 100)"
   ]
  },
  {
   "cell_type": "markdown",
   "metadata": {},
   "source": [
    "#### Rescaling the features"
   ]
  },
  {
   "cell_type": "code",
   "execution_count": 68,
   "metadata": {},
   "outputs": [],
   "source": [
    "from sklearn.preprocessing import MinMaxScaler\n",
    "scaler = MinMaxScaler()"
   ]
  },
  {
   "cell_type": "code",
   "execution_count": 69,
   "metadata": {},
   "outputs": [
    {
     "name": "stdout",
     "output_type": "stream",
     "text": [
      "Index(['order_week', 'gmv', 'units', 's1_fact.order_payment_type', 'sla',\n",
      "       'product_mrp', 'product_procurement_sla', 'holiday_flag', 'payday_flag',\n",
      "       'Total Investment', 'TV', 'Digital', 'Sponsorship', 'Content Marketing',\n",
      "       'Online marketing', 'NPS', 'Stock Index', 'Max Temp (°C)',\n",
      "       'Min Temp (°C)', 'Cool Deg Days (°C)', 'Total Rain (mm)',\n",
      "       'Total Snow (cm)', 'Snow on Grnd (cm)'],\n",
      "      dtype='object')\n"
     ]
    }
   ],
   "source": [
    "# Apply scaler() to all the numeric columns except the flag variables\n",
    "print(master_cameraAccessory_df.columns)"
   ]
  },
  {
   "cell_type": "code",
   "execution_count": 70,
   "metadata": {},
   "outputs": [
    {
     "name": "stderr",
     "output_type": "stream",
     "text": [
      "/Users/venramam/anaconda3/lib/python3.7/site-packages/sklearn/preprocessing/data.py:334: DataConversionWarning: Data with input dtype int64, float64 were all converted to float64 by MinMaxScaler.\n",
      "  return self.partial_fit(X, y)\n",
      "/Users/venramam/anaconda3/lib/python3.7/site-packages/ipykernel_launcher.py:7: SettingWithCopyWarning: \n",
      "A value is trying to be set on a copy of a slice from a DataFrame.\n",
      "Try using .loc[row_indexer,col_indexer] = value instead\n",
      "\n",
      "See the caveats in the documentation: http://pandas.pydata.org/pandas-docs/stable/indexing.html#indexing-view-versus-copy\n",
      "  import sys\n",
      "/Users/venramam/anaconda3/lib/python3.7/site-packages/pandas/core/indexing.py:543: SettingWithCopyWarning: \n",
      "A value is trying to be set on a copy of a slice from a DataFrame.\n",
      "Try using .loc[row_indexer,col_indexer] = value instead\n",
      "\n",
      "See the caveats in the documentation: http://pandas.pydata.org/pandas-docs/stable/indexing.html#indexing-view-versus-copy\n",
      "  self.obj[item] = s\n"
     ]
    }
   ],
   "source": [
    "num_vars = ['order_week', 'gmv', 'units', 's1_fact.order_payment_type', 'sla',\n",
    "       'product_mrp', 'product_procurement_sla','Total Investment', 'TV','Digital', 'Sponsorship', 'Content Marketing',\n",
    "       'Online marketing','NPS', 'Stock Index','Max Temp (°C)','Min Temp (°C)',\n",
    "       'Cool Deg Days (°C)','Total Rain (mm)',\n",
    "       'Total Snow (cm)', 'Snow on Grnd (cm)']\n",
    "\n",
    "df_cam_train[num_vars] = scaler.fit_transform(df_cam_train[num_vars])"
   ]
  },
  {
   "cell_type": "code",
   "execution_count": 71,
   "metadata": {},
   "outputs": [
    {
     "data": {
      "text/html": [
       "<div>\n",
       "<style scoped>\n",
       "    .dataframe tbody tr th:only-of-type {\n",
       "        vertical-align: middle;\n",
       "    }\n",
       "\n",
       "    .dataframe tbody tr th {\n",
       "        vertical-align: top;\n",
       "    }\n",
       "\n",
       "    .dataframe thead th {\n",
       "        text-align: right;\n",
       "    }\n",
       "</style>\n",
       "<table border=\"1\" class=\"dataframe\">\n",
       "  <thead>\n",
       "    <tr style=\"text-align: right;\">\n",
       "      <th></th>\n",
       "      <th>order_week</th>\n",
       "      <th>gmv</th>\n",
       "      <th>units</th>\n",
       "      <th>s1_fact.order_payment_type</th>\n",
       "      <th>sla</th>\n",
       "      <th>product_mrp</th>\n",
       "      <th>product_procurement_sla</th>\n",
       "      <th>holiday_flag</th>\n",
       "      <th>payday_flag</th>\n",
       "      <th>Total Investment</th>\n",
       "      <th>TV</th>\n",
       "      <th>Digital</th>\n",
       "      <th>Sponsorship</th>\n",
       "      <th>Content Marketing</th>\n",
       "      <th>Online marketing</th>\n",
       "      <th>NPS</th>\n",
       "      <th>Stock Index</th>\n",
       "      <th>Max Temp (°C)</th>\n",
       "      <th>Min Temp (°C)</th>\n",
       "      <th>Cool Deg Days (°C)</th>\n",
       "      <th>Total Rain (mm)</th>\n",
       "      <th>Total Snow (cm)</th>\n",
       "      <th>Snow on Grnd (cm)</th>\n",
       "    </tr>\n",
       "  </thead>\n",
       "  <tbody>\n",
       "    <tr>\n",
       "      <th>26</th>\n",
       "      <td>0.333333</td>\n",
       "      <td>0.387534</td>\n",
       "      <td>0.493938</td>\n",
       "      <td>0.0</td>\n",
       "      <td>0.319510</td>\n",
       "      <td>0.531611</td>\n",
       "      <td>0.888613</td>\n",
       "      <td>0</td>\n",
       "      <td>0</td>\n",
       "      <td>0.418747</td>\n",
       "      <td>0.470601</td>\n",
       "      <td>0.000000</td>\n",
       "      <td>0.037516</td>\n",
       "      <td>0.261317</td>\n",
       "      <td>0.939289</td>\n",
       "      <td>0.172859</td>\n",
       "      <td>0.162996</td>\n",
       "      <td>0.173516</td>\n",
       "      <td>0.201031</td>\n",
       "      <td>0.0</td>\n",
       "      <td>0.244306</td>\n",
       "      <td>0.70</td>\n",
       "      <td>0.00000</td>\n",
       "    </tr>\n",
       "    <tr>\n",
       "      <th>41</th>\n",
       "      <td>0.512821</td>\n",
       "      <td>0.339344</td>\n",
       "      <td>0.420131</td>\n",
       "      <td>1.0</td>\n",
       "      <td>0.326698</td>\n",
       "      <td>0.591127</td>\n",
       "      <td>0.608286</td>\n",
       "      <td>0</td>\n",
       "      <td>1</td>\n",
       "      <td>0.313667</td>\n",
       "      <td>0.559394</td>\n",
       "      <td>0.034183</td>\n",
       "      <td>0.278020</td>\n",
       "      <td>0.010124</td>\n",
       "      <td>0.675889</td>\n",
       "      <td>0.476577</td>\n",
       "      <td>1.000000</td>\n",
       "      <td>0.470320</td>\n",
       "      <td>0.332474</td>\n",
       "      <td>0.0</td>\n",
       "      <td>0.000000</td>\n",
       "      <td>0.44</td>\n",
       "      <td>0.00000</td>\n",
       "    </tr>\n",
       "    <tr>\n",
       "      <th>28</th>\n",
       "      <td>0.358974</td>\n",
       "      <td>0.528061</td>\n",
       "      <td>0.476905</td>\n",
       "      <td>0.0</td>\n",
       "      <td>0.489068</td>\n",
       "      <td>0.813446</td>\n",
       "      <td>0.763855</td>\n",
       "      <td>1</td>\n",
       "      <td>0</td>\n",
       "      <td>0.418747</td>\n",
       "      <td>0.470601</td>\n",
       "      <td>0.000000</td>\n",
       "      <td>0.037516</td>\n",
       "      <td>0.261317</td>\n",
       "      <td>0.939289</td>\n",
       "      <td>0.172859</td>\n",
       "      <td>0.162996</td>\n",
       "      <td>0.013699</td>\n",
       "      <td>0.252577</td>\n",
       "      <td>0.0</td>\n",
       "      <td>0.236025</td>\n",
       "      <td>0.00</td>\n",
       "      <td>0.40678</td>\n",
       "    </tr>\n",
       "    <tr>\n",
       "      <th>38</th>\n",
       "      <td>0.474359</td>\n",
       "      <td>0.345426</td>\n",
       "      <td>0.454196</td>\n",
       "      <td>0.0</td>\n",
       "      <td>0.297408</td>\n",
       "      <td>0.513554</td>\n",
       "      <td>0.631800</td>\n",
       "      <td>0</td>\n",
       "      <td>0</td>\n",
       "      <td>0.575196</td>\n",
       "      <td>1.000000</td>\n",
       "      <td>0.135125</td>\n",
       "      <td>0.484715</td>\n",
       "      <td>0.107429</td>\n",
       "      <td>0.755225</td>\n",
       "      <td>0.296507</td>\n",
       "      <td>0.000000</td>\n",
       "      <td>0.363014</td>\n",
       "      <td>0.291237</td>\n",
       "      <td>0.0</td>\n",
       "      <td>1.000000</td>\n",
       "      <td>0.00</td>\n",
       "      <td>0.00000</td>\n",
       "    </tr>\n",
       "    <tr>\n",
       "      <th>17</th>\n",
       "      <td>0.217949</td>\n",
       "      <td>0.442133</td>\n",
       "      <td>0.453329</td>\n",
       "      <td>0.0</td>\n",
       "      <td>0.404189</td>\n",
       "      <td>0.761399</td>\n",
       "      <td>0.904384</td>\n",
       "      <td>1</td>\n",
       "      <td>0</td>\n",
       "      <td>0.279553</td>\n",
       "      <td>0.453453</td>\n",
       "      <td>0.067355</td>\n",
       "      <td>0.156786</td>\n",
       "      <td>0.048962</td>\n",
       "      <td>0.801580</td>\n",
       "      <td>0.166891</td>\n",
       "      <td>0.960352</td>\n",
       "      <td>0.554795</td>\n",
       "      <td>0.626289</td>\n",
       "      <td>0.0</td>\n",
       "      <td>0.118012</td>\n",
       "      <td>0.00</td>\n",
       "      <td>0.00000</td>\n",
       "    </tr>\n",
       "  </tbody>\n",
       "</table>\n",
       "</div>"
      ],
      "text/plain": [
       "    order_week       gmv     units  s1_fact.order_payment_type       sla  \\\n",
       "26    0.333333  0.387534  0.493938                         0.0  0.319510   \n",
       "41    0.512821  0.339344  0.420131                         1.0  0.326698   \n",
       "28    0.358974  0.528061  0.476905                         0.0  0.489068   \n",
       "38    0.474359  0.345426  0.454196                         0.0  0.297408   \n",
       "17    0.217949  0.442133  0.453329                         0.0  0.404189   \n",
       "\n",
       "    product_mrp  product_procurement_sla  holiday_flag  payday_flag  \\\n",
       "26     0.531611                 0.888613             0            0   \n",
       "41     0.591127                 0.608286             0            1   \n",
       "28     0.813446                 0.763855             1            0   \n",
       "38     0.513554                 0.631800             0            0   \n",
       "17     0.761399                 0.904384             1            0   \n",
       "\n",
       "    Total Investment        TV   Digital  Sponsorship  Content Marketing  \\\n",
       "26          0.418747  0.470601  0.000000     0.037516           0.261317   \n",
       "41          0.313667  0.559394  0.034183     0.278020           0.010124   \n",
       "28          0.418747  0.470601  0.000000     0.037516           0.261317   \n",
       "38          0.575196  1.000000  0.135125     0.484715           0.107429   \n",
       "17          0.279553  0.453453  0.067355     0.156786           0.048962   \n",
       "\n",
       "    Online marketing       NPS  Stock Index  Max Temp (°C)  Min Temp (°C)  \\\n",
       "26          0.939289  0.172859     0.162996       0.173516       0.201031   \n",
       "41          0.675889  0.476577     1.000000       0.470320       0.332474   \n",
       "28          0.939289  0.172859     0.162996       0.013699       0.252577   \n",
       "38          0.755225  0.296507     0.000000       0.363014       0.291237   \n",
       "17          0.801580  0.166891     0.960352       0.554795       0.626289   \n",
       "\n",
       "    Cool Deg Days (°C)  Total Rain (mm)  Total Snow (cm)  Snow on Grnd (cm)  \n",
       "26                 0.0         0.244306             0.70            0.00000  \n",
       "41                 0.0         0.000000             0.44            0.00000  \n",
       "28                 0.0         0.236025             0.00            0.40678  \n",
       "38                 0.0         1.000000             0.00            0.00000  \n",
       "17                 0.0         0.118012             0.00            0.00000  "
      ]
     },
     "execution_count": 71,
     "metadata": {},
     "output_type": "execute_result"
    }
   ],
   "source": [
    "df_cam_train.head()"
   ]
  },
  {
   "cell_type": "markdown",
   "metadata": {},
   "source": [
    "### Base Linear Model using RFE for Camera Accessory"
   ]
  },
  {
   "cell_type": "code",
   "execution_count": 72,
   "metadata": {},
   "outputs": [],
   "source": [
    "y_train = df_cam_train.pop('gmv')\n",
    "X_train = df_cam_train"
   ]
  },
  {
   "cell_type": "code",
   "execution_count": 73,
   "metadata": {},
   "outputs": [],
   "source": [
    "# Importing RFE and LinearRegression\n",
    "from sklearn.feature_selection import RFE\n",
    "from sklearn.linear_model import LinearRegression"
   ]
  },
  {
   "cell_type": "code",
   "execution_count": 74,
   "metadata": {},
   "outputs": [],
   "source": [
    "# Running RFE with the output number of the variable equal to 10\n",
    "lm = LinearRegression()\n",
    "lm.fit(X_train, y_train)\n",
    "\n",
    "rfe = RFE(lm, 10)             # running RFE\n",
    "rfe = rfe.fit(X_train, y_train)"
   ]
  },
  {
   "cell_type": "code",
   "execution_count": 75,
   "metadata": {},
   "outputs": [
    {
     "data": {
      "text/plain": [
       "[('order_week', False, 2),\n",
       " ('units', True, 1),\n",
       " ('s1_fact.order_payment_type', False, 12),\n",
       " ('sla', True, 1),\n",
       " ('product_mrp', True, 1),\n",
       " ('product_procurement_sla', False, 7),\n",
       " ('holiday_flag', False, 5),\n",
       " ('payday_flag', False, 9),\n",
       " ('Total Investment', True, 1),\n",
       " ('TV', True, 1),\n",
       " ('Digital', True, 1),\n",
       " ('Sponsorship', True, 1),\n",
       " ('Content Marketing', True, 1),\n",
       " ('Online marketing', False, 13),\n",
       " ('NPS', False, 6),\n",
       " ('Stock Index', False, 11),\n",
       " ('Max Temp (°C)', True, 1),\n",
       " ('Min Temp (°C)', False, 4),\n",
       " ('Cool Deg Days (°C)', False, 3),\n",
       " ('Total Rain (mm)', True, 1),\n",
       " ('Total Snow (cm)', False, 10),\n",
       " ('Snow on Grnd (cm)', False, 8)]"
      ]
     },
     "execution_count": 75,
     "metadata": {},
     "output_type": "execute_result"
    }
   ],
   "source": [
    "list(zip(X_train.columns,rfe.support_,rfe.ranking_))"
   ]
  },
  {
   "cell_type": "code",
   "execution_count": 76,
   "metadata": {},
   "outputs": [
    {
     "data": {
      "text/plain": [
       "Index(['units', 'sla', 'product_mrp', 'Total Investment', 'TV', 'Digital',\n",
       "       'Sponsorship', 'Content Marketing', 'Max Temp (°C)', 'Total Rain (mm)'],\n",
       "      dtype='object')"
      ]
     },
     "execution_count": 76,
     "metadata": {},
     "output_type": "execute_result"
    }
   ],
   "source": [
    "col = X_train.columns[rfe.support_]\n",
    "col"
   ]
  },
  {
   "cell_type": "code",
   "execution_count": 77,
   "metadata": {},
   "outputs": [
    {
     "data": {
      "text/plain": [
       "Index(['order_week', 's1_fact.order_payment_type', 'product_procurement_sla',\n",
       "       'holiday_flag', 'payday_flag', 'Online marketing', 'NPS', 'Stock Index',\n",
       "       'Min Temp (°C)', 'Cool Deg Days (°C)', 'Total Snow (cm)',\n",
       "       'Snow on Grnd (cm)'],\n",
       "      dtype='object')"
      ]
     },
     "execution_count": 77,
     "metadata": {},
     "output_type": "execute_result"
    }
   ],
   "source": [
    "X_train.columns[~rfe.support_]"
   ]
  },
  {
   "cell_type": "markdown",
   "metadata": {},
   "source": [
    "#### Building model using statsmodel, for the detailed statistics"
   ]
  },
  {
   "cell_type": "code",
   "execution_count": 78,
   "metadata": {},
   "outputs": [],
   "source": [
    "# Creating X_test dataframe with RFE selected variables\n",
    "X_train_rfe = X_train[col]"
   ]
  },
  {
   "cell_type": "code",
   "execution_count": 79,
   "metadata": {},
   "outputs": [
    {
     "name": "stderr",
     "output_type": "stream",
     "text": [
      "/Users/venramam/anaconda3/lib/python3.7/site-packages/numpy/core/fromnumeric.py:2389: FutureWarning: Method .ptp is deprecated and will be removed in a future version. Use numpy.ptp instead.\n",
      "  return ptp(axis=axis, out=out, **kwargs)\n"
     ]
    }
   ],
   "source": [
    "# Adding a constant variable \n",
    "import statsmodels.api as sm  \n",
    "X_train_rfe = sm.add_constant(X_train_rfe)"
   ]
  },
  {
   "cell_type": "code",
   "execution_count": 80,
   "metadata": {},
   "outputs": [],
   "source": [
    "lm = sm.OLS(y_train,X_train_rfe).fit() "
   ]
  },
  {
   "cell_type": "code",
   "execution_count": 81,
   "metadata": {},
   "outputs": [
    {
     "name": "stdout",
     "output_type": "stream",
     "text": [
      "                            OLS Regression Results                            \n",
      "==============================================================================\n",
      "Dep. Variable:                    gmv   R-squared:                       0.979\n",
      "Model:                            OLS   Adj. R-squared:                  0.971\n",
      "Method:                 Least Squares   F-statistic:                     123.1\n",
      "Date:                Mon, 02 Mar 2020   Prob (F-statistic):           2.79e-19\n",
      "Time:                        21:05:34   Log-Likelihood:                 82.705\n",
      "No. Observations:                  37   AIC:                            -143.4\n",
      "Df Residuals:                      26   BIC:                            -125.7\n",
      "Df Model:                          10                                         \n",
      "Covariance Type:            nonrobust                                         \n",
      "=====================================================================================\n",
      "                        coef    std err          t      P>|t|      [0.025      0.975]\n",
      "-------------------------------------------------------------------------------------\n",
      "const                -0.3034      0.049     -6.192      0.000      -0.404      -0.203\n",
      "units                 0.8726      0.033     26.203      0.000       0.804       0.941\n",
      "sla                   0.2026      0.042      4.838      0.000       0.117       0.289\n",
      "product_mrp           0.3341      0.035      9.665      0.000       0.263       0.405\n",
      "Total Investment     -1.3281      0.494     -2.689      0.012      -2.343      -0.313\n",
      "TV                    0.4911      0.149      3.286      0.003       0.184       0.798\n",
      "Digital              -0.6770      0.194     -3.482      0.002      -1.077      -0.277\n",
      "Sponsorship           0.4024      0.150      2.685      0.012       0.094       0.710\n",
      "Content Marketing     1.1823      0.403      2.936      0.007       0.354       2.010\n",
      "Max Temp (°C)         0.1601      0.041      3.857      0.001       0.075       0.245\n",
      "Total Rain (mm)      -0.0186      0.029     -0.643      0.526      -0.078       0.041\n",
      "==============================================================================\n",
      "Omnibus:                        1.719   Durbin-Watson:                   2.010\n",
      "Prob(Omnibus):                  0.423   Jarque-Bera (JB):                1.104\n",
      "Skew:                          -0.031   Prob(JB):                        0.576\n",
      "Kurtosis:                       2.156   Cond. No.                         236.\n",
      "==============================================================================\n",
      "\n",
      "Warnings:\n",
      "[1] Standard Errors assume that the covariance matrix of the errors is correctly specified.\n"
     ]
    }
   ],
   "source": [
    "#Let's see the summary of our linear model\n",
    "print(lm.summary())"
   ]
  },
  {
   "cell_type": "code",
   "execution_count": 82,
   "metadata": {},
   "outputs": [],
   "source": [
    "# Total Rain (mm) is insignificant in presence of other variables aand can be dropped\n",
    "X_train_new = X_train_rfe.drop([\"Total Rain (mm)\"], axis = 1)"
   ]
  },
  {
   "cell_type": "code",
   "execution_count": 83,
   "metadata": {},
   "outputs": [],
   "source": [
    "# Rebuilding the model\n",
    "# Adding a constant variable \n",
    "import statsmodels.api as sm  \n",
    "X_train_lm = sm.add_constant(X_train_new)"
   ]
  },
  {
   "cell_type": "code",
   "execution_count": 84,
   "metadata": {},
   "outputs": [
    {
     "name": "stdout",
     "output_type": "stream",
     "text": [
      "                            OLS Regression Results                            \n",
      "==============================================================================\n",
      "Dep. Variable:                    gmv   R-squared:                       0.979\n",
      "Model:                            OLS   Adj. R-squared:                  0.972\n",
      "Method:                 Least Squares   F-statistic:                     139.8\n",
      "Date:                Mon, 02 Mar 2020   Prob (F-statistic):           2.79e-20\n",
      "Time:                        21:05:34   Log-Likelihood:                 82.413\n",
      "No. Observations:                  37   AIC:                            -144.8\n",
      "Df Residuals:                      27   BIC:                            -128.7\n",
      "Df Model:                           9                                         \n",
      "Covariance Type:            nonrobust                                         \n",
      "=====================================================================================\n",
      "                        coef    std err          t      P>|t|      [0.025      0.975]\n",
      "-------------------------------------------------------------------------------------\n",
      "const                -0.2967      0.047     -6.266      0.000      -0.394      -0.200\n",
      "units                 0.8717      0.033     26.487      0.000       0.804       0.939\n",
      "sla                   0.1964      0.040      4.873      0.000       0.114       0.279\n",
      "product_mrp           0.3371      0.034      9.950      0.000       0.268       0.407\n",
      "Total Investment     -1.4131      0.471     -3.003      0.006      -2.379      -0.448\n",
      "TV                    0.5064      0.146      3.471      0.002       0.207       0.806\n",
      "Digital              -0.7091      0.186     -3.816      0.001      -1.090      -0.328\n",
      "Sponsorship           0.4283      0.143      3.000      0.006       0.135       0.721\n",
      "Content Marketing     1.2559      0.382      3.289      0.003       0.472       2.039\n",
      "Max Temp (°C)         0.1619      0.041      3.956      0.000       0.078       0.246\n",
      "==============================================================================\n",
      "Omnibus:                        1.646   Durbin-Watson:                   1.935\n",
      "Prob(Omnibus):                  0.439   Jarque-Bera (JB):                1.088\n",
      "Skew:                          -0.055   Prob(JB):                        0.580\n",
      "Kurtosis:                       2.167   Cond. No.                         226.\n",
      "==============================================================================\n",
      "\n",
      "Warnings:\n",
      "[1] Standard Errors assume that the covariance matrix of the errors is correctly specified.\n"
     ]
    }
   ],
   "source": [
    "lm = sm.OLS(y_train,X_train_lm).fit()   # Running the linear model\n",
    "#Let's see the summary of our linear model\n",
    "print(lm.summary())"
   ]
  },
  {
   "cell_type": "code",
   "execution_count": 85,
   "metadata": {},
   "outputs": [
    {
     "data": {
      "text/html": [
       "<div>\n",
       "<style scoped>\n",
       "    .dataframe tbody tr th:only-of-type {\n",
       "        vertical-align: middle;\n",
       "    }\n",
       "\n",
       "    .dataframe tbody tr th {\n",
       "        vertical-align: top;\n",
       "    }\n",
       "\n",
       "    .dataframe thead th {\n",
       "        text-align: right;\n",
       "    }\n",
       "</style>\n",
       "<table border=\"1\" class=\"dataframe\">\n",
       "  <thead>\n",
       "    <tr style=\"text-align: right;\">\n",
       "      <th></th>\n",
       "      <th>Features</th>\n",
       "      <th>VIF</th>\n",
       "    </tr>\n",
       "  </thead>\n",
       "  <tbody>\n",
       "    <tr>\n",
       "      <th>3</th>\n",
       "      <td>Total Investment</td>\n",
       "      <td>1961.64</td>\n",
       "    </tr>\n",
       "    <tr>\n",
       "      <th>7</th>\n",
       "      <td>Content Marketing</td>\n",
       "      <td>701.01</td>\n",
       "    </tr>\n",
       "    <tr>\n",
       "      <th>4</th>\n",
       "      <td>TV</td>\n",
       "      <td>199.27</td>\n",
       "    </tr>\n",
       "    <tr>\n",
       "      <th>6</th>\n",
       "      <td>Sponsorship</td>\n",
       "      <td>159.83</td>\n",
       "    </tr>\n",
       "    <tr>\n",
       "      <th>5</th>\n",
       "      <td>Digital</td>\n",
       "      <td>150.44</td>\n",
       "    </tr>\n",
       "    <tr>\n",
       "      <th>2</th>\n",
       "      <td>product_mrp</td>\n",
       "      <td>26.05</td>\n",
       "    </tr>\n",
       "    <tr>\n",
       "      <th>8</th>\n",
       "      <td>Max Temp (°C)</td>\n",
       "      <td>22.01</td>\n",
       "    </tr>\n",
       "    <tr>\n",
       "      <th>0</th>\n",
       "      <td>units</td>\n",
       "      <td>8.90</td>\n",
       "    </tr>\n",
       "    <tr>\n",
       "      <th>1</th>\n",
       "      <td>sla</td>\n",
       "      <td>6.94</td>\n",
       "    </tr>\n",
       "  </tbody>\n",
       "</table>\n",
       "</div>"
      ],
      "text/plain": [
       "            Features      VIF\n",
       "3   Total Investment  1961.64\n",
       "7  Content Marketing   701.01\n",
       "4                 TV   199.27\n",
       "6        Sponsorship   159.83\n",
       "5            Digital   150.44\n",
       "2        product_mrp    26.05\n",
       "8      Max Temp (°C)    22.01\n",
       "0              units     8.90\n",
       "1                sla     6.94"
      ]
     },
     "execution_count": 85,
     "metadata": {},
     "output_type": "execute_result"
    }
   ],
   "source": [
    "X_train_lm=X_train_lm.drop(['const'], axis=1)\n",
    "\n",
    "# Calculate the VIFs for the new model\n",
    "from statsmodels.stats.outliers_influence import variance_inflation_factor\n",
    "\n",
    "vif = pd.DataFrame()\n",
    "X = X_train_lm\n",
    "vif['Features'] = X.columns\n",
    "vif['VIF'] = [variance_inflation_factor(X.values, i) for i in range(X.shape[1])]\n",
    "vif['VIF'] = round(vif['VIF'], 2)\n",
    "vif = vif.sort_values(by = \"VIF\", ascending = False)\n",
    "vif"
   ]
  },
  {
   "cell_type": "code",
   "execution_count": 86,
   "metadata": {},
   "outputs": [
    {
     "name": "stdout",
     "output_type": "stream",
     "text": [
      "                            OLS Regression Results                            \n",
      "==============================================================================\n",
      "Dep. Variable:                    gmv   R-squared:                       0.972\n",
      "Model:                            OLS   Adj. R-squared:                  0.964\n",
      "Method:                 Least Squares   F-statistic:                     121.4\n",
      "Date:                Mon, 02 Mar 2020   Prob (F-statistic):           1.16e-19\n",
      "Time:                        21:05:34   Log-Likelihood:                 77.082\n",
      "No. Observations:                  37   AIC:                            -136.2\n",
      "Df Residuals:                      28   BIC:                            -121.7\n",
      "Df Model:                           8                                         \n",
      "Covariance Type:            nonrobust                                         \n",
      "=====================================================================================\n",
      "                        coef    std err          t      P>|t|      [0.025      0.975]\n",
      "-------------------------------------------------------------------------------------\n",
      "const                -0.3492      0.050     -6.995      0.000      -0.451      -0.247\n",
      "units                 0.8559      0.037     23.230      0.000       0.780       0.931\n",
      "sla                   0.2409      0.043      5.665      0.000       0.154       0.328\n",
      "product_mrp           0.2828      0.032      8.703      0.000       0.216       0.349\n",
      "TV                    0.0826      0.042      1.966      0.059      -0.003       0.169\n",
      "Digital              -0.1743      0.060     -2.898      0.007      -0.297      -0.051\n",
      "Sponsorship           0.0127      0.040      0.319      0.752      -0.069       0.094\n",
      "Content Marketing     0.1222      0.065      1.885      0.070      -0.011       0.255\n",
      "Max Temp (°C)         0.0897      0.038      2.388      0.024       0.013       0.167\n",
      "==============================================================================\n",
      "Omnibus:                        1.194   Durbin-Watson:                   2.028\n",
      "Prob(Omnibus):                  0.550   Jarque-Bera (JB):                1.191\n",
      "Skew:                           0.352   Prob(JB):                        0.551\n",
      "Kurtosis:                       2.474   Cond. No.                         27.6\n",
      "==============================================================================\n",
      "\n",
      "Warnings:\n",
      "[1] Standard Errors assume that the covariance matrix of the errors is correctly specified.\n"
     ]
    },
    {
     "name": "stderr",
     "output_type": "stream",
     "text": [
      "/Users/venramam/anaconda3/lib/python3.7/site-packages/numpy/core/fromnumeric.py:2389: FutureWarning: Method .ptp is deprecated and will be removed in a future version. Use numpy.ptp instead.\n",
      "  return ptp(axis=axis, out=out, **kwargs)\n"
     ]
    }
   ],
   "source": [
    "# Total Investment has very high VIF, lets drop it and rebuild it again \n",
    "X_train_new1 = X_train_new.drop([\"Total Investment\"], axis = 1)\n",
    "X_train_lm = sm.add_constant(X_train_new1)\n",
    "lm = sm.OLS(y_train,X_train_lm).fit() \n",
    "print(lm.summary())"
   ]
  },
  {
   "cell_type": "code",
   "execution_count": 87,
   "metadata": {},
   "outputs": [
    {
     "name": "stdout",
     "output_type": "stream",
     "text": [
      "                            OLS Regression Results                            \n",
      "==============================================================================\n",
      "Dep. Variable:                    gmv   R-squared:                       0.972\n",
      "Model:                            OLS   Adj. R-squared:                  0.965\n",
      "Method:                 Least Squares   F-statistic:                     143.1\n",
      "Date:                Mon, 02 Mar 2020   Prob (F-statistic):           9.75e-21\n",
      "Time:                        21:05:34   Log-Likelihood:                 77.015\n",
      "No. Observations:                  37   AIC:                            -138.0\n",
      "Df Residuals:                      29   BIC:                            -125.1\n",
      "Df Model:                           7                                         \n",
      "Covariance Type:            nonrobust                                         \n",
      "=====================================================================================\n",
      "                        coef    std err          t      P>|t|      [0.025      0.975]\n",
      "-------------------------------------------------------------------------------------\n",
      "const                -0.3572      0.042     -8.429      0.000      -0.444      -0.271\n",
      "units                 0.8595      0.035     24.865      0.000       0.789       0.930\n",
      "sla                   0.2426      0.042      5.845      0.000       0.158       0.327\n",
      "product_mrp           0.2857      0.031      9.295      0.000       0.223       0.349\n",
      "TV                    0.0905      0.033      2.707      0.011       0.022       0.159\n",
      "Digital              -0.1754      0.059     -2.968      0.006      -0.296      -0.055\n",
      "Content Marketing     0.1304      0.059      2.227      0.034       0.011       0.250\n",
      "Max Temp (°C)         0.0964      0.031      3.152      0.004       0.034       0.159\n",
      "==============================================================================\n",
      "Omnibus:                        1.556   Durbin-Watson:                   2.067\n",
      "Prob(Omnibus):                  0.459   Jarque-Bera (JB):                1.463\n",
      "Skew:                           0.385   Prob(JB):                        0.481\n",
      "Kurtosis:                       2.404   Cond. No.                         24.2\n",
      "==============================================================================\n",
      "\n",
      "Warnings:\n",
      "[1] Standard Errors assume that the covariance matrix of the errors is correctly specified.\n"
     ]
    }
   ],
   "source": [
    "# Sponsorship is insignificant in presence of other variables lets drop it\n",
    "X_train_new2 = X_train_new1.drop([\"Sponsorship\"], axis = 1)\n",
    "X_train_lm = sm.add_constant(X_train_new2)\n",
    "lm = sm.OLS(y_train,X_train_lm).fit() \n",
    "print(lm.summary())"
   ]
  },
  {
   "cell_type": "code",
   "execution_count": 88,
   "metadata": {},
   "outputs": [
    {
     "name": "stdout",
     "output_type": "stream",
     "text": [
      "                            OLS Regression Results                            \n",
      "==============================================================================\n",
      "Dep. Variable:                    gmv   R-squared:                       0.967\n",
      "Model:                            OLS   Adj. R-squared:                  0.960\n",
      "Method:                 Least Squares   F-statistic:                     146.8\n",
      "Date:                Mon, 02 Mar 2020   Prob (F-statistic):           7.45e-21\n",
      "Time:                        21:05:34   Log-Likelihood:                 74.096\n",
      "No. Observations:                  37   AIC:                            -134.2\n",
      "Df Residuals:                      30   BIC:                            -122.9\n",
      "Df Model:                           6                                         \n",
      "Covariance Type:            nonrobust                                         \n",
      "=================================================================================\n",
      "                    coef    std err          t      P>|t|      [0.025      0.975]\n",
      "---------------------------------------------------------------------------------\n",
      "const            -0.3477      0.045     -7.750      0.000      -0.439      -0.256\n",
      "units             0.8804      0.035     24.874      0.000       0.808       0.953\n",
      "sla               0.2497      0.044      5.671      0.000       0.160       0.340\n",
      "product_mrp       0.2943      0.032      9.072      0.000       0.228       0.361\n",
      "TV                0.0842      0.035      2.376      0.024       0.012       0.157\n",
      "Digital          -0.0551      0.025     -2.164      0.039      -0.107      -0.003\n",
      "Max Temp (°C)     0.0606      0.028      2.190      0.036       0.004       0.117\n",
      "==============================================================================\n",
      "Omnibus:                        1.817   Durbin-Watson:                   1.928\n",
      "Prob(Omnibus):                  0.403   Jarque-Bera (JB):                1.448\n",
      "Skew:                           0.305   Prob(JB):                        0.485\n",
      "Kurtosis:                       2.246   Cond. No.                         17.4\n",
      "==============================================================================\n",
      "\n",
      "Warnings:\n",
      "[1] Standard Errors assume that the covariance matrix of the errors is correctly specified.\n"
     ]
    }
   ],
   "source": [
    "# Content Marketing is insignificant lets drop it and rebuild\n",
    "X_train_new3 = X_train_new2.drop([\"Content Marketing\"], axis = 1)\n",
    "X_train_lm = sm.add_constant(X_train_new3)\n",
    "lm = sm.OLS(y_train,X_train_lm).fit() \n",
    "print(lm.summary())"
   ]
  },
  {
   "cell_type": "code",
   "execution_count": 89,
   "metadata": {},
   "outputs": [
    {
     "data": {
      "text/html": [
       "<div>\n",
       "<style scoped>\n",
       "    .dataframe tbody tr th:only-of-type {\n",
       "        vertical-align: middle;\n",
       "    }\n",
       "\n",
       "    .dataframe tbody tr th {\n",
       "        vertical-align: top;\n",
       "    }\n",
       "\n",
       "    .dataframe thead th {\n",
       "        text-align: right;\n",
       "    }\n",
       "</style>\n",
       "<table border=\"1\" class=\"dataframe\">\n",
       "  <thead>\n",
       "    <tr style=\"text-align: right;\">\n",
       "      <th></th>\n",
       "      <th>Features</th>\n",
       "      <th>VIF</th>\n",
       "    </tr>\n",
       "  </thead>\n",
       "  <tbody>\n",
       "    <tr>\n",
       "      <th>2</th>\n",
       "      <td>product_mrp</td>\n",
       "      <td>13.76</td>\n",
       "    </tr>\n",
       "    <tr>\n",
       "      <th>0</th>\n",
       "      <td>units</td>\n",
       "      <td>7.17</td>\n",
       "    </tr>\n",
       "    <tr>\n",
       "      <th>3</th>\n",
       "      <td>TV</td>\n",
       "      <td>6.21</td>\n",
       "    </tr>\n",
       "    <tr>\n",
       "      <th>1</th>\n",
       "      <td>sla</td>\n",
       "      <td>5.75</td>\n",
       "    </tr>\n",
       "    <tr>\n",
       "      <th>5</th>\n",
       "      <td>Max Temp (°C)</td>\n",
       "      <td>5.49</td>\n",
       "    </tr>\n",
       "    <tr>\n",
       "      <th>4</th>\n",
       "      <td>Digital</td>\n",
       "      <td>1.71</td>\n",
       "    </tr>\n",
       "  </tbody>\n",
       "</table>\n",
       "</div>"
      ],
      "text/plain": [
       "        Features    VIF\n",
       "2    product_mrp  13.76\n",
       "0          units   7.17\n",
       "3             TV   6.21\n",
       "1            sla   5.75\n",
       "5  Max Temp (°C)   5.49\n",
       "4        Digital   1.71"
      ]
     },
     "execution_count": 89,
     "metadata": {},
     "output_type": "execute_result"
    }
   ],
   "source": [
    "\n",
    "X_train_new3=X_train_new3.drop(columns=['const'])\n",
    "# Calculate the VIFs for the new model\n",
    "from statsmodels.stats.outliers_influence import variance_inflation_factor\n",
    "\n",
    "vif = pd.DataFrame()\n",
    "X = X_train_new3\n",
    "vif['Features'] = X.columns\n",
    "vif['VIF'] = [variance_inflation_factor(X.values, i) for i in range(X.shape[1])]\n",
    "vif['VIF'] = round(vif['VIF'], 2)\n",
    "vif = vif.sort_values(by = \"VIF\", ascending = False)\n",
    "vif"
   ]
  },
  {
   "cell_type": "markdown",
   "metadata": {},
   "source": [
    "##### still product_mrp is having liitle high vif, but I think this is an important kpi so we are not dropping it.\n",
    "##### Important KPIs : product_mrp,units,TV, sla, Max Temp (°C), Digital"
   ]
  },
  {
   "cell_type": "markdown",
   "metadata": {},
   "source": [
    "### Koyck Model for Camera Accessory"
   ]
  },
  {
   "cell_type": "code",
   "execution_count": 90,
   "metadata": {},
   "outputs": [],
   "source": [
    "master_cameraAccessory_koyck=master_cameraAccessory_df.copy()\n",
    "master_cameraAccessory_koyck['lag gmv']=master_cameraAccessory_koyck['gmv'].shift(1)"
   ]
  },
  {
   "cell_type": "code",
   "execution_count": 91,
   "metadata": {},
   "outputs": [],
   "source": [
    "# For 1st row lag gmv would be NAN, lets exclude this row for analysis\n",
    "master_cameraAccessory_koyck=master_cameraAccessory_koyck.loc[1:,:]"
   ]
  },
  {
   "cell_type": "code",
   "execution_count": 92,
   "metadata": {},
   "outputs": [],
   "source": [
    "np.random.seed(0)\n",
    "df_cam_train, df_cam_test = train_test_split(master_cameraAccessory_koyck, train_size = 0.7, test_size = 0.3, random_state = 100)"
   ]
  },
  {
   "cell_type": "code",
   "execution_count": 93,
   "metadata": {},
   "outputs": [],
   "source": [
    "scaler = MinMaxScaler()"
   ]
  },
  {
   "cell_type": "code",
   "execution_count": 94,
   "metadata": {},
   "outputs": [
    {
     "name": "stderr",
     "output_type": "stream",
     "text": [
      "/Users/venramam/anaconda3/lib/python3.7/site-packages/sklearn/preprocessing/data.py:334: DataConversionWarning: Data with input dtype int64, float64 were all converted to float64 by MinMaxScaler.\n",
      "  return self.partial_fit(X, y)\n",
      "/Users/venramam/anaconda3/lib/python3.7/site-packages/ipykernel_launcher.py:7: SettingWithCopyWarning: \n",
      "A value is trying to be set on a copy of a slice from a DataFrame.\n",
      "Try using .loc[row_indexer,col_indexer] = value instead\n",
      "\n",
      "See the caveats in the documentation: http://pandas.pydata.org/pandas-docs/stable/indexing.html#indexing-view-versus-copy\n",
      "  import sys\n",
      "/Users/venramam/anaconda3/lib/python3.7/site-packages/pandas/core/indexing.py:543: SettingWithCopyWarning: \n",
      "A value is trying to be set on a copy of a slice from a DataFrame.\n",
      "Try using .loc[row_indexer,col_indexer] = value instead\n",
      "\n",
      "See the caveats in the documentation: http://pandas.pydata.org/pandas-docs/stable/indexing.html#indexing-view-versus-copy\n",
      "  self.obj[item] = s\n"
     ]
    }
   ],
   "source": [
    "num_vars = ['order_week','lag gmv', 'gmv', 'units', 's1_fact.order_payment_type', 'sla',\n",
    "       'product_mrp', 'product_procurement_sla','Total Investment', 'TV','Digital', 'Sponsorship', 'Content Marketing',\n",
    "       'Online marketing','NPS', 'Stock Index','Max Temp (°C)','Min Temp (°C)',\n",
    "       'Cool Deg Days (°C)','Total Rain (mm)',\n",
    "       'Total Snow (cm)', 'Snow on Grnd (cm)']\n",
    "\n",
    "df_cam_train[num_vars] = scaler.fit_transform(df_cam_train[num_vars])"
   ]
  },
  {
   "cell_type": "code",
   "execution_count": 95,
   "metadata": {},
   "outputs": [],
   "source": [
    "y_train = df_cam_train.pop('gmv')\n",
    "X_train = df_cam_train"
   ]
  },
  {
   "cell_type": "code",
   "execution_count": 96,
   "metadata": {},
   "outputs": [
    {
     "data": {
      "text/plain": [
       "0.9662393022589325"
      ]
     },
     "execution_count": 96,
     "metadata": {},
     "output_type": "execute_result"
    }
   ],
   "source": [
    "selected_kpi=['product_mrp','units','TV', 'sla', 'Max Temp (°C)', 'Digital','lag gmv']\n",
    "lm = LinearRegression()\n",
    "lm.fit(X_train[selected_kpi], y_train)\n",
    "from sklearn import metrics\n",
    "# predict\n",
    "y_train_pred = lm.predict(X_train[selected_kpi])\n",
    "metrics.r2_score(y_true=y_train, y_pred=y_train_pred)"
   ]
  },
  {
   "cell_type": "code",
   "execution_count": 97,
   "metadata": {},
   "outputs": [
    {
     "name": "stderr",
     "output_type": "stream",
     "text": [
      "/Users/venramam/anaconda3/lib/python3.7/site-packages/ipykernel_launcher.py:1: SettingWithCopyWarning: \n",
      "A value is trying to be set on a copy of a slice from a DataFrame.\n",
      "Try using .loc[row_indexer,col_indexer] = value instead\n",
      "\n",
      "See the caveats in the documentation: http://pandas.pydata.org/pandas-docs/stable/indexing.html#indexing-view-versus-copy\n",
      "  \"\"\"Entry point for launching an IPython kernel.\n",
      "/Users/venramam/anaconda3/lib/python3.7/site-packages/pandas/core/indexing.py:543: SettingWithCopyWarning: \n",
      "A value is trying to be set on a copy of a slice from a DataFrame.\n",
      "Try using .loc[row_indexer,col_indexer] = value instead\n",
      "\n",
      "See the caveats in the documentation: http://pandas.pydata.org/pandas-docs/stable/indexing.html#indexing-view-versus-copy\n",
      "  self.obj[item] = s\n"
     ]
    }
   ],
   "source": [
    "df_cam_test[num_vars] = scaler.transform(df_cam_test[num_vars])\n",
    "y_test = df_cam_test.pop('gmv')\n",
    "X_test = df_cam_test"
   ]
  },
  {
   "cell_type": "code",
   "execution_count": 98,
   "metadata": {},
   "outputs": [
    {
     "data": {
      "text/plain": [
       "0.9531121879085832"
      ]
     },
     "execution_count": 98,
     "metadata": {},
     "output_type": "execute_result"
    }
   ],
   "source": [
    "y_test_pred = lm.predict(X_test[selected_kpi])\n",
    "metrics.r2_score(y_true=y_test, y_pred=y_test_pred)"
   ]
  },
  {
   "cell_type": "code",
   "execution_count": 99,
   "metadata": {},
   "outputs": [
    {
     "data": {
      "text/plain": [
       "[('constant', -0.316),\n",
       " ('product_mrp', 0.303),\n",
       " ('units', 0.878),\n",
       " ('TV', 0.054),\n",
       " ('sla', 0.187),\n",
       " ('Max Temp (°C)', 0.065),\n",
       " ('Digital', -0.039),\n",
       " ('lag gmv', -0.037)]"
      ]
     },
     "execution_count": 99,
     "metadata": {},
     "output_type": "execute_result"
    }
   ],
   "source": [
    "# model coefficients\n",
    "model_parameters = list(lm.coef_)\n",
    "model_parameters.insert(0, lm.intercept_)\n",
    "model_parameters = [round(x, 3) for x in model_parameters]\n",
    "cols = X_test[selected_kpi].columns\n",
    "cols = cols.insert(0, \"constant\")\n",
    "list(zip(cols, model_parameters))"
   ]
  },
  {
   "cell_type": "markdown",
   "metadata": {},
   "source": [
    "Train and Test accuracy are quite close and we have good R-square value (0.96) for the model"
   ]
  },
  {
   "cell_type": "code",
   "execution_count": 100,
   "metadata": {},
   "outputs": [
    {
     "name": "stdout",
     "output_type": "stream",
     "text": [
      "0.9584017793303675\n",
      "0.9479360640763062\n"
     ]
    }
   ],
   "source": [
    "# lasso regression\n",
    "from sklearn.linear_model import Lasso\n",
    "from sklearn.linear_model import Ridge\n",
    "from sklearn.model_selection import KFold\n",
    "from sklearn.model_selection import GridSearchCV\n",
    "lm = Lasso(alpha=0.001)\n",
    "lm.fit(X_train[selected_kpi], y_train)\n",
    "\n",
    "# predict\n",
    "y_train_pred = lm.predict(X_train[selected_kpi])\n",
    "print(metrics.r2_score(y_true=y_train, y_pred=y_train_pred))\n",
    "y_test_pred = lm.predict(X_test[selected_kpi])\n",
    "print(metrics.r2_score(y_true=y_test, y_pred=y_test_pred))"
   ]
  },
  {
   "cell_type": "code",
   "execution_count": 101,
   "metadata": {},
   "outputs": [
    {
     "data": {
      "text/plain": [
       "[('constant', -0.209),\n",
       " ('product_mrp', 0.269),\n",
       " ('units', 0.848),\n",
       " ('TV', 0.0),\n",
       " ('sla', 0.107),\n",
       " ('Max Temp (°C)', 0.018),\n",
       " ('Digital', -0.0),\n",
       " ('lag gmv', -0.0)]"
      ]
     },
     "execution_count": 101,
     "metadata": {},
     "output_type": "execute_result"
    }
   ],
   "source": [
    "# lasso model parameters\n",
    "model_parameters = list(lm.coef_)\n",
    "model_parameters.insert(0, lm.intercept_)\n",
    "model_parameters = [round(x, 3) for x in model_parameters]\n",
    "cols = X_train[selected_kpi].columns\n",
    "cols = cols.insert(0, \"constant\")\n",
    "list(zip(cols, model_parameters))"
   ]
  },
  {
   "cell_type": "code",
   "execution_count": 102,
   "metadata": {},
   "outputs": [
    {
     "name": "stdout",
     "output_type": "stream",
     "text": [
      "Fitting 5 folds for each of 5 candidates, totalling 25 fits\n"
     ]
    },
    {
     "name": "stderr",
     "output_type": "stream",
     "text": [
      "[Parallel(n_jobs=1)]: Using backend SequentialBackend with 1 concurrent workers.\n",
      "[Parallel(n_jobs=1)]: Done  25 out of  25 | elapsed:    0.1s finished\n",
      "/Users/venramam/anaconda3/lib/python3.7/site-packages/sklearn/model_selection/_search.py:841: DeprecationWarning: The default of the `iid` parameter will change from True to False in version 0.22 and will be removed in 0.24. This will change numeric results when test-set sizes are unequal.\n",
      "  DeprecationWarning)\n"
     ]
    },
    {
     "data": {
      "text/plain": [
       "GridSearchCV(cv=KFold(n_splits=5, random_state=4, shuffle=True),\n",
       "       error_score='raise-deprecating',\n",
       "       estimator=Lasso(alpha=1.0, copy_X=True, fit_intercept=True, max_iter=1000,\n",
       "   normalize=False, positive=False, precompute=False, random_state=None,\n",
       "   selection='cyclic', tol=0.0001, warm_start=False),\n",
       "       fit_params=None, iid='warn', n_jobs=None,\n",
       "       param_grid={'alpha': [0.001, 0.01, 1.0, 5.0, 10.0]},\n",
       "       pre_dispatch='2*n_jobs', refit=True, return_train_score=True,\n",
       "       scoring='r2', verbose=1)"
      ]
     },
     "execution_count": 102,
     "metadata": {},
     "output_type": "execute_result"
    }
   ],
   "source": [
    "# grid search CV\n",
    "\n",
    "# set up cross validation scheme\n",
    "folds = KFold(n_splits = 5, shuffle = True, random_state = 4)\n",
    "\n",
    "# specify range of hyperparameters\n",
    "params = {'alpha': [0.001, 0.01, 1.0, 5.0, 10.0]}\n",
    "\n",
    "# grid search\n",
    "# lasso model\n",
    "model = Lasso()\n",
    "model_cv = GridSearchCV(estimator = model, param_grid = params, \n",
    "                        scoring= 'r2', \n",
    "                        cv = folds, \n",
    "                        return_train_score=True, verbose = 1)            \n",
    "model_cv.fit(X_train[selected_kpi], y_train) "
   ]
  },
  {
   "cell_type": "code",
   "execution_count": 103,
   "metadata": {},
   "outputs": [
    {
     "data": {
      "text/html": [
       "<div>\n",
       "<style scoped>\n",
       "    .dataframe tbody tr th:only-of-type {\n",
       "        vertical-align: middle;\n",
       "    }\n",
       "\n",
       "    .dataframe tbody tr th {\n",
       "        vertical-align: top;\n",
       "    }\n",
       "\n",
       "    .dataframe thead th {\n",
       "        text-align: right;\n",
       "    }\n",
       "</style>\n",
       "<table border=\"1\" class=\"dataframe\">\n",
       "  <thead>\n",
       "    <tr style=\"text-align: right;\">\n",
       "      <th></th>\n",
       "      <th>mean_fit_time</th>\n",
       "      <th>std_fit_time</th>\n",
       "      <th>mean_score_time</th>\n",
       "      <th>std_score_time</th>\n",
       "      <th>param_alpha</th>\n",
       "      <th>params</th>\n",
       "      <th>split0_test_score</th>\n",
       "      <th>split1_test_score</th>\n",
       "      <th>split2_test_score</th>\n",
       "      <th>split3_test_score</th>\n",
       "      <th>split4_test_score</th>\n",
       "      <th>mean_test_score</th>\n",
       "      <th>std_test_score</th>\n",
       "      <th>rank_test_score</th>\n",
       "      <th>split0_train_score</th>\n",
       "      <th>split1_train_score</th>\n",
       "      <th>split2_train_score</th>\n",
       "      <th>split3_train_score</th>\n",
       "      <th>split4_train_score</th>\n",
       "      <th>mean_train_score</th>\n",
       "      <th>std_train_score</th>\n",
       "    </tr>\n",
       "  </thead>\n",
       "  <tbody>\n",
       "    <tr>\n",
       "      <th>0</th>\n",
       "      <td>0.003402</td>\n",
       "      <td>0.000397</td>\n",
       "      <td>0.001742</td>\n",
       "      <td>0.000404</td>\n",
       "      <td>0.001</td>\n",
       "      <td>{'alpha': 0.001}</td>\n",
       "      <td>0.969935</td>\n",
       "      <td>0.902440</td>\n",
       "      <td>0.864839</td>\n",
       "      <td>0.849754</td>\n",
       "      <td>0.925038</td>\n",
       "      <td>0.904277</td>\n",
       "      <td>0.043851</td>\n",
       "      <td>1</td>\n",
       "      <td>0.954621</td>\n",
       "      <td>0.965162</td>\n",
       "      <td>0.969216</td>\n",
       "      <td>0.964178</td>\n",
       "      <td>0.963617</td>\n",
       "      <td>0.963359</td>\n",
       "      <td>0.004788</td>\n",
       "    </tr>\n",
       "    <tr>\n",
       "      <th>1</th>\n",
       "      <td>0.002156</td>\n",
       "      <td>0.000194</td>\n",
       "      <td>0.001012</td>\n",
       "      <td>0.000171</td>\n",
       "      <td>0.01</td>\n",
       "      <td>{'alpha': 0.01}</td>\n",
       "      <td>0.841523</td>\n",
       "      <td>0.698225</td>\n",
       "      <td>0.672373</td>\n",
       "      <td>0.706261</td>\n",
       "      <td>0.690060</td>\n",
       "      <td>0.725017</td>\n",
       "      <td>0.063252</td>\n",
       "      <td>2</td>\n",
       "      <td>0.791668</td>\n",
       "      <td>0.834969</td>\n",
       "      <td>0.617635</td>\n",
       "      <td>0.851390</td>\n",
       "      <td>0.837749</td>\n",
       "      <td>0.786682</td>\n",
       "      <td>0.086866</td>\n",
       "    </tr>\n",
       "    <tr>\n",
       "      <th>2</th>\n",
       "      <td>0.001873</td>\n",
       "      <td>0.000260</td>\n",
       "      <td>0.000937</td>\n",
       "      <td>0.000145</td>\n",
       "      <td>1</td>\n",
       "      <td>{'alpha': 1.0}</td>\n",
       "      <td>-0.003043</td>\n",
       "      <td>-0.048046</td>\n",
       "      <td>-0.000605</td>\n",
       "      <td>-0.160587</td>\n",
       "      <td>-0.003264</td>\n",
       "      <td>-0.041996</td>\n",
       "      <td>0.060858</td>\n",
       "      <td>3</td>\n",
       "      <td>0.000000</td>\n",
       "      <td>0.000000</td>\n",
       "      <td>0.000000</td>\n",
       "      <td>0.000000</td>\n",
       "      <td>0.000000</td>\n",
       "      <td>0.000000</td>\n",
       "      <td>0.000000</td>\n",
       "    </tr>\n",
       "    <tr>\n",
       "      <th>3</th>\n",
       "      <td>0.001623</td>\n",
       "      <td>0.000045</td>\n",
       "      <td>0.000883</td>\n",
       "      <td>0.000054</td>\n",
       "      <td>5</td>\n",
       "      <td>{'alpha': 5.0}</td>\n",
       "      <td>-0.003043</td>\n",
       "      <td>-0.048046</td>\n",
       "      <td>-0.000605</td>\n",
       "      <td>-0.160587</td>\n",
       "      <td>-0.003264</td>\n",
       "      <td>-0.041996</td>\n",
       "      <td>0.060858</td>\n",
       "      <td>3</td>\n",
       "      <td>0.000000</td>\n",
       "      <td>0.000000</td>\n",
       "      <td>0.000000</td>\n",
       "      <td>0.000000</td>\n",
       "      <td>0.000000</td>\n",
       "      <td>0.000000</td>\n",
       "      <td>0.000000</td>\n",
       "    </tr>\n",
       "    <tr>\n",
       "      <th>4</th>\n",
       "      <td>0.001867</td>\n",
       "      <td>0.000248</td>\n",
       "      <td>0.000896</td>\n",
       "      <td>0.000052</td>\n",
       "      <td>10</td>\n",
       "      <td>{'alpha': 10.0}</td>\n",
       "      <td>-0.003043</td>\n",
       "      <td>-0.048046</td>\n",
       "      <td>-0.000605</td>\n",
       "      <td>-0.160587</td>\n",
       "      <td>-0.003264</td>\n",
       "      <td>-0.041996</td>\n",
       "      <td>0.060858</td>\n",
       "      <td>3</td>\n",
       "      <td>0.000000</td>\n",
       "      <td>0.000000</td>\n",
       "      <td>0.000000</td>\n",
       "      <td>0.000000</td>\n",
       "      <td>0.000000</td>\n",
       "      <td>0.000000</td>\n",
       "      <td>0.000000</td>\n",
       "    </tr>\n",
       "  </tbody>\n",
       "</table>\n",
       "</div>"
      ],
      "text/plain": [
       "   mean_fit_time  std_fit_time  mean_score_time  std_score_time param_alpha  \\\n",
       "0       0.003402      0.000397         0.001742        0.000404       0.001   \n",
       "1       0.002156      0.000194         0.001012        0.000171        0.01   \n",
       "2       0.001873      0.000260         0.000937        0.000145           1   \n",
       "3       0.001623      0.000045         0.000883        0.000054           5   \n",
       "4       0.001867      0.000248         0.000896        0.000052          10   \n",
       "\n",
       "             params  split0_test_score  split1_test_score  split2_test_score  \\\n",
       "0  {'alpha': 0.001}           0.969935           0.902440           0.864839   \n",
       "1   {'alpha': 0.01}           0.841523           0.698225           0.672373   \n",
       "2    {'alpha': 1.0}          -0.003043          -0.048046          -0.000605   \n",
       "3    {'alpha': 5.0}          -0.003043          -0.048046          -0.000605   \n",
       "4   {'alpha': 10.0}          -0.003043          -0.048046          -0.000605   \n",
       "\n",
       "   split3_test_score  split4_test_score  mean_test_score  std_test_score  \\\n",
       "0           0.849754           0.925038         0.904277        0.043851   \n",
       "1           0.706261           0.690060         0.725017        0.063252   \n",
       "2          -0.160587          -0.003264        -0.041996        0.060858   \n",
       "3          -0.160587          -0.003264        -0.041996        0.060858   \n",
       "4          -0.160587          -0.003264        -0.041996        0.060858   \n",
       "\n",
       "   rank_test_score  split0_train_score  split1_train_score  \\\n",
       "0                1            0.954621            0.965162   \n",
       "1                2            0.791668            0.834969   \n",
       "2                3            0.000000            0.000000   \n",
       "3                3            0.000000            0.000000   \n",
       "4                3            0.000000            0.000000   \n",
       "\n",
       "   split2_train_score  split3_train_score  split4_train_score  \\\n",
       "0            0.969216            0.964178            0.963617   \n",
       "1            0.617635            0.851390            0.837749   \n",
       "2            0.000000            0.000000            0.000000   \n",
       "3            0.000000            0.000000            0.000000   \n",
       "4            0.000000            0.000000            0.000000   \n",
       "\n",
       "   mean_train_score  std_train_score  \n",
       "0          0.963359         0.004788  \n",
       "1          0.786682         0.086866  \n",
       "2          0.000000         0.000000  \n",
       "3          0.000000         0.000000  \n",
       "4          0.000000         0.000000  "
      ]
     },
     "execution_count": 103,
     "metadata": {},
     "output_type": "execute_result"
    }
   ],
   "source": [
    "cv_results = pd.DataFrame(model_cv.cv_results_)\n",
    "cv_results.head()"
   ]
  },
  {
   "cell_type": "code",
   "execution_count": 104,
   "metadata": {},
   "outputs": [
    {
     "data": {
      "image/png": "[encoded data removed]",
      "text/plain": [
       "<Figure size 1440x720 with 1 Axes>"
      ]
     },
     "metadata": {
      "needs_background": "light"
     },
     "output_type": "display_data"
    }
   ],
   "source": [
    "# plot\n",
    "cv_results['param_alpha'] = cv_results['param_alpha'].astype('float32')\n",
    "plt.plot(cv_results['param_alpha'], cv_results['mean_train_score'])\n",
    "plt.plot(cv_results['param_alpha'], cv_results['mean_test_score'])\n",
    "plt.xlabel('alpha')\n",
    "plt.ylabel('r2 score')\n",
    "plt.xscale('log')\n",
    "plt.show()"
   ]
  },
  {
   "cell_type": "code",
   "execution_count": 105,
   "metadata": {},
   "outputs": [
    {
     "name": "stdout",
     "output_type": "stream",
     "text": [
      "0.9584017793303675\n",
      "0.9479360640763062\n"
     ]
    }
   ],
   "source": [
    "# model with optimal alpha\n",
    "# lasso regression\n",
    "\n",
    "lm = Lasso(alpha=.001)\n",
    "lm.fit(X_train[selected_kpi], y_train)\n",
    "\n",
    "# predict\n",
    "y_train_pred = lm.predict(X_train[selected_kpi])\n",
    "print(metrics.r2_score(y_true=y_train, y_pred=y_train_pred))\n",
    "y_test_pred = lm.predict(X_test[selected_kpi])\n",
    "print(metrics.r2_score(y_true=y_test, y_pred=y_test_pred))"
   ]
  },
  {
   "cell_type": "markdown",
   "metadata": {},
   "source": [
    "### Distributed Lag Model for Camera Accessory"
   ]
  },
  {
   "cell_type": "code",
   "execution_count": 106,
   "metadata": {},
   "outputs": [],
   "source": [
    "# adding lag for all the independent variables also- 'product_mrp','units','TV', 'sla', 'Max Temp (°C)', 'Digital'\n",
    "\n",
    "master_cameraAccessory_dlag=master_cameraAccessory_df.copy()\n",
    "\n",
    "master_cameraAccessory_dlag['lag gmv']=master_cameraAccessory_dlag['gmv'].shift(1)\n",
    "master_cameraAccessory_dlag['lag product_mrp']=master_cameraAccessory_dlag['product_mrp'].shift(1)\n",
    "master_cameraAccessory_dlag['lag units']=master_cameraAccessory_dlag['units'].shift(1)\n",
    "master_cameraAccessory_dlag['lag TV']=master_cameraAccessory_dlag['TV'].shift(1)\n",
    "master_cameraAccessory_dlag['lag sla']=master_cameraAccessory_dlag['sla'].shift(1)\n",
    "master_cameraAccessory_dlag['lag Max Temp (°C)']=master_cameraAccessory_dlag['Max Temp (°C)'].shift(1)\n",
    "master_cameraAccessory_dlag['lag Digital']=master_cameraAccessory_dlag['Digital'].shift(1)"
   ]
  },
  {
   "cell_type": "code",
   "execution_count": 107,
   "metadata": {},
   "outputs": [],
   "source": [
    "# For 1st row lag variables would be NAN, lets exclude this row for analysis\n",
    "master_cameraAccessory_dlag=master_cameraAccessory_dlag.loc[1:,:]"
   ]
  },
  {
   "cell_type": "code",
   "execution_count": 108,
   "metadata": {},
   "outputs": [],
   "source": [
    "np.random.seed(0)\n",
    "df_cam_train, df_cam_test = train_test_split(master_cameraAccessory_dlag, train_size = 0.7, test_size = 0.3, random_state = 100)"
   ]
  },
  {
   "cell_type": "code",
   "execution_count": 109,
   "metadata": {},
   "outputs": [
    {
     "name": "stderr",
     "output_type": "stream",
     "text": [
      "/Users/venramam/anaconda3/lib/python3.7/site-packages/sklearn/preprocessing/data.py:334: DataConversionWarning: Data with input dtype int64, float64 were all converted to float64 by MinMaxScaler.\n",
      "  return self.partial_fit(X, y)\n",
      "/Users/venramam/anaconda3/lib/python3.7/site-packages/ipykernel_launcher.py:7: SettingWithCopyWarning: \n",
      "A value is trying to be set on a copy of a slice from a DataFrame.\n",
      "Try using .loc[row_indexer,col_indexer] = value instead\n",
      "\n",
      "See the caveats in the documentation: http://pandas.pydata.org/pandas-docs/stable/indexing.html#indexing-view-versus-copy\n",
      "  import sys\n",
      "/Users/venramam/anaconda3/lib/python3.7/site-packages/pandas/core/indexing.py:543: SettingWithCopyWarning: \n",
      "A value is trying to be set on a copy of a slice from a DataFrame.\n",
      "Try using .loc[row_indexer,col_indexer] = value instead\n",
      "\n",
      "See the caveats in the documentation: http://pandas.pydata.org/pandas-docs/stable/indexing.html#indexing-view-versus-copy\n",
      "  self.obj[item] = s\n"
     ]
    }
   ],
   "source": [
    "num_vars = ['order_week','lag gmv', 'gmv', 'lag units','units', 's1_fact.order_payment_type', 'lag sla','sla','lag product_mrp',\n",
    "            'product_mrp', 'product_procurement_sla','Total Investment','lag TV', 'TV','lag Digital','Digital', 'Sponsorship',\n",
    "            'Content Marketing','Online marketing','NPS', 'Stock Index','lag Max Temp (°C)','Max Temp (°C)','Min Temp (°C)',\n",
    "       'Cool Deg Days (°C)','Total Rain (mm)',\n",
    "       'Total Snow (cm)', 'Snow on Grnd (cm)']\n",
    "\n",
    "df_cam_train[num_vars] = scaler.fit_transform(df_cam_train[num_vars])"
   ]
  },
  {
   "cell_type": "code",
   "execution_count": 110,
   "metadata": {},
   "outputs": [],
   "source": [
    "y_train = df_cam_train.pop('gmv')\n",
    "X_train = df_cam_train"
   ]
  },
  {
   "cell_type": "code",
   "execution_count": 111,
   "metadata": {},
   "outputs": [
    {
     "data": {
      "text/plain": [
       "0.9693429982236222"
      ]
     },
     "execution_count": 111,
     "metadata": {},
     "output_type": "execute_result"
    }
   ],
   "source": [
    "selected_kpi=['lag product_mrp','product_mrp','lag units','units','lag TV','TV','lag sla', 'sla', 'lag Max Temp (°C)',\n",
    "              'Max Temp (°C)', 'lag Digital','Digital','lag gmv']\n",
    "lm = LinearRegression()\n",
    "lm.fit(X_train[selected_kpi], y_train)\n",
    "from sklearn import metrics\n",
    "# predict\n",
    "y_train_pred = lm.predict(X_train[selected_kpi])\n",
    "metrics.r2_score(y_true=y_train, y_pred=y_train_pred)"
   ]
  },
  {
   "cell_type": "code",
   "execution_count": 112,
   "metadata": {},
   "outputs": [
    {
     "name": "stderr",
     "output_type": "stream",
     "text": [
      "/Users/venramam/anaconda3/lib/python3.7/site-packages/ipykernel_launcher.py:1: SettingWithCopyWarning: \n",
      "A value is trying to be set on a copy of a slice from a DataFrame.\n",
      "Try using .loc[row_indexer,col_indexer] = value instead\n",
      "\n",
      "See the caveats in the documentation: http://pandas.pydata.org/pandas-docs/stable/indexing.html#indexing-view-versus-copy\n",
      "  \"\"\"Entry point for launching an IPython kernel.\n",
      "/Users/venramam/anaconda3/lib/python3.7/site-packages/pandas/core/indexing.py:543: SettingWithCopyWarning: \n",
      "A value is trying to be set on a copy of a slice from a DataFrame.\n",
      "Try using .loc[row_indexer,col_indexer] = value instead\n",
      "\n",
      "See the caveats in the documentation: http://pandas.pydata.org/pandas-docs/stable/indexing.html#indexing-view-versus-copy\n",
      "  self.obj[item] = s\n"
     ]
    }
   ],
   "source": [
    "df_cam_test[num_vars] = scaler.transform(df_cam_test[num_vars])\n",
    "y_test = df_cam_test.pop('gmv')\n",
    "X_test = df_cam_test"
   ]
  },
  {
   "cell_type": "code",
   "execution_count": 113,
   "metadata": {},
   "outputs": [
    {
     "data": {
      "text/plain": [
       "0.9504920655372002"
      ]
     },
     "execution_count": 113,
     "metadata": {},
     "output_type": "execute_result"
    }
   ],
   "source": [
    "y_test_pred = lm.predict(X_test[selected_kpi])\n",
    "metrics.r2_score(y_true=y_test, y_pred=y_test_pred)"
   ]
  },
  {
   "cell_type": "code",
   "execution_count": 114,
   "metadata": {},
   "outputs": [
    {
     "data": {
      "text/plain": [
       "[('constant', -0.312),\n",
       " ('lag product_mrp', 0.039),\n",
       " ('product_mrp', 0.259),\n",
       " ('lag units', -0.098),\n",
       " ('units', 0.906),\n",
       " ('lag TV', -0.012),\n",
       " ('TV', 0.055),\n",
       " ('lag sla', 0.048),\n",
       " ('sla', 0.142),\n",
       " ('lag Max Temp (°C)', -0.018),\n",
       " ('Max Temp (°C)', 0.074),\n",
       " ('lag Digital', -0.006),\n",
       " ('Digital', -0.029),\n",
       " ('lag gmv', 0.061)]"
      ]
     },
     "execution_count": 114,
     "metadata": {},
     "output_type": "execute_result"
    }
   ],
   "source": [
    "# model coefficients\n",
    "model_parameters = list(lm.coef_)\n",
    "model_parameters.insert(0, lm.intercept_)\n",
    "model_parameters = [round(x, 3) for x in model_parameters]\n",
    "cols = X_test[selected_kpi].columns\n",
    "cols = cols.insert(0, \"constant\")\n",
    "list(zip(cols, model_parameters))"
   ]
  },
  {
   "cell_type": "markdown",
   "metadata": {},
   "source": [
    "Distributed lag model is having even higher accuracy and is taking account lag effect of all the independent and dependent variables"
   ]
  },
  {
   "cell_type": "markdown",
   "metadata": {},
   "source": [
    "### Multiplicative Model for Camera Accessory"
   ]
  },
  {
   "cell_type": "code",
   "execution_count": 115,
   "metadata": {},
   "outputs": [
    {
     "name": "stderr",
     "output_type": "stream",
     "text": [
      "/Users/venramam/anaconda3/lib/python3.7/site-packages/ipykernel_launcher.py:3: RuntimeWarning: divide by zero encountered in log\n",
      "  This is separate from the ipykernel package so we can avoid doing imports until\n",
      "/Users/venramam/anaconda3/lib/python3.7/site-packages/ipykernel_launcher.py:3: RuntimeWarning: invalid value encountered in log\n",
      "  This is separate from the ipykernel package so we can avoid doing imports until\n"
     ]
    }
   ],
   "source": [
    "# taking log of all the dependent and independent variables\n",
    "master_cameraAccessory_multiplicative = master_cameraAccessory_df.copy()\n",
    "master_cameraAccessory_multiplicative = master_cameraAccessory_multiplicative.apply(lambda x: np.log(x) if np.issubdtype(x.dtype, np.number) else x)"
   ]
  },
  {
   "cell_type": "code",
   "execution_count": 116,
   "metadata": {},
   "outputs": [
    {
     "name": "stderr",
     "output_type": "stream",
     "text": [
      "/Users/venramam/anaconda3/lib/python3.7/site-packages/ipykernel_launcher.py:25: SettingWithCopyWarning: \n",
      "A value is trying to be set on a copy of a slice from a DataFrame.\n",
      "Try using .loc[row_indexer,col_indexer] = value instead\n",
      "\n",
      "See the caveats in the documentation: http://pandas.pydata.org/pandas-docs/stable/indexing.html#indexing-view-versus-copy\n"
     ]
    },
    {
     "name": "stdout",
     "output_type": "stream",
     "text": [
      "Index(['order_week', 'gmv', 'units', 's1_fact.order_payment_type', 'sla',\n",
      "       'product_mrp', 'product_procurement_sla', 'holiday_flag', 'payday_flag',\n",
      "       'Total Investment', 'TV', 'Digital', 'Sponsorship', 'Content Marketing',\n",
      "       'Online marketing', 'NPS', 'Stock Index', 'Max Temp (°C)',\n",
      "       'Min Temp (°C)', 'Cool Deg Days (°C)', 'Total Rain (mm)',\n",
      "       'Total Snow (cm)', 'Snow on Grnd (cm)'],\n",
      "      dtype='object')\n",
      "                            OLS Regression Results                            \n",
      "==============================================================================\n",
      "Dep. Variable:                    gmv   R-squared:                       0.999\n",
      "Model:                            OLS   Adj. R-squared:                  0.999\n",
      "Method:                 Least Squares   F-statistic:                     5194.\n",
      "Date:                Mon, 02 Mar 2020   Prob (F-statistic):           2.92e-40\n",
      "Time:                        21:05:42   Log-Likelihood:                 157.99\n",
      "No. Observations:                  37   AIC:                            -294.0\n",
      "Df Residuals:                      26   BIC:                            -276.3\n",
      "Df Model:                          10                                         \n",
      "Covariance Type:            nonrobust                                         \n",
      "===========================================================================================\n",
      "                              coef    std err          t      P>|t|      [0.025      0.975]\n",
      "-------------------------------------------------------------------------------------------\n",
      "const                      -0.0263      0.007     -3.697      0.001      -0.041      -0.012\n",
      "order_week                  0.0151      0.005      3.079      0.005       0.005       0.025\n",
      "units                       0.8381      0.011     77.209      0.000       0.816       0.860\n",
      "sla                         0.0221      0.006      3.774      0.001       0.010       0.034\n",
      "product_mrp                 0.1691      0.009     18.687      0.000       0.151       0.188\n",
      "product_procurement_sla     0.0257      0.010      2.605      0.015       0.005       0.046\n",
      "Total Investment            0.0032      0.014      0.221      0.827      -0.026       0.032\n",
      "TV                          0.0058      0.013      0.455      0.653      -0.021       0.032\n",
      "Sponsorship                -0.0084      0.005     -1.537      0.136      -0.020       0.003\n",
      "Online marketing           -0.0061      0.016     -0.378      0.709      -0.039       0.027\n",
      "Total Snow (cm)            -0.0143      0.006     -2.497      0.019      -0.026      -0.003\n",
      "==============================================================================\n",
      "Omnibus:                        1.983   Durbin-Watson:                   1.862\n",
      "Prob(Omnibus):                  0.371   Jarque-Bera (JB):                0.985\n",
      "Skew:                          -0.313   Prob(JB):                        0.611\n",
      "Kurtosis:                       3.497   Cond. No.                         80.5\n",
      "==============================================================================\n",
      "\n",
      "Warnings:\n",
      "[1] Standard Errors assume that the covariance matrix of the errors is correctly specified.\n"
     ]
    },
    {
     "name": "stderr",
     "output_type": "stream",
     "text": [
      "/Users/venramam/anaconda3/lib/python3.7/site-packages/pandas/core/frame.py:3395: SettingWithCopyWarning: \n",
      "A value is trying to be set on a copy of a slice from a DataFrame\n",
      "\n",
      "See the caveats in the documentation: http://pandas.pydata.org/pandas-docs/stable/indexing.html#indexing-view-versus-copy\n",
      "  self.loc._setitem_with_indexer((slice(None), indexer), value)\n",
      "/Users/venramam/anaconda3/lib/python3.7/site-packages/pandas/core/frame.py:3367: SettingWithCopyWarning: \n",
      "A value is trying to be set on a copy of a slice from a DataFrame\n",
      "\n",
      "See the caveats in the documentation: http://pandas.pydata.org/pandas-docs/stable/indexing.html#indexing-view-versus-copy\n",
      "  self._setitem_array(key, value)\n",
      "/Users/venramam/anaconda3/lib/python3.7/site-packages/numpy/core/fromnumeric.py:2389: FutureWarning: Method .ptp is deprecated and will be removed in a future version. Use numpy.ptp instead.\n",
      "  return ptp(axis=axis, out=out, **kwargs)\n"
     ]
    }
   ],
   "source": [
    "from sklearn.model_selection import train_test_split\n",
    "\n",
    "# We specify this so that the train and test data set always have the same rows, respectively\n",
    "np.random.seed(0)\n",
    "df_cam_train, df_cam_test = train_test_split(master_cameraAccessory_multiplicative, train_size = 0.7, test_size = 0.3, random_state = 100)\n",
    "\n",
    "# Rescaling the features\n",
    "\n",
    "from sklearn.preprocessing import MinMaxScaler\n",
    "scaler = MinMaxScaler()\n",
    "\n",
    "\n",
    "\n",
    "# Apply scaler() to all the numeric columns except the flag variables\n",
    "print(master_cameraAccessory_multiplicative.columns)\n",
    "\n",
    "# excluding 's1_fact.order_payment_type',holiday_flag and payday_flag as there are many values as 0 in such data\n",
    "# when taking log it turns to be infinity\n",
    "num_vars = ['order_week', 'gmv', 'units', 'sla',\n",
    "       'product_mrp', 'product_procurement_sla','Total Investment', 'TV','Digital', 'Sponsorship', 'Content Marketing',\n",
    "       'Online marketing','NPS', 'Stock Index','Max Temp (°C)','Min Temp (°C)']\n",
    "#       'Cool Deg Days (°C)','Total Rain (mm)',\n",
    "#       'Total Snow (cm)', 'Snow on Grnd (cm)']\n",
    "\n",
    "df_cam_train[num_vars] = scaler.fit_transform(df_cam_train[num_vars])\n",
    "\n",
    "\n",
    "### Base Linear Model using RFE\n",
    "## Replacing the inf values with mean values of the columns\n",
    "y_train = df_cam_train.pop('gmv')\n",
    "df_cam_train = df_cam_train.replace([np.inf, -np.inf], np.nan)\n",
    "df_cam_train.fillna(df_cam_train.mean(), inplace=True)\n",
    "X_train = df_cam_train\n",
    "\n",
    "\n",
    "# Importing RFE and LinearRegression\n",
    "from sklearn.feature_selection import RFE\n",
    "from sklearn.linear_model import LinearRegression\n",
    "\n",
    "# Running RFE with the output number of the variable equal to 10\n",
    "lm = LinearRegression()\n",
    "lm.fit(X_train, y_train)\n",
    "\n",
    "rfe = RFE(lm, 10)             # running RFE\n",
    "rfe = rfe.fit(X_train, y_train)\n",
    "\n",
    "list(zip(X_train.columns,rfe.support_,rfe.ranking_))\n",
    "\n",
    "col = X_train.columns[rfe.support_]\n",
    "col\n",
    "\n",
    "X_train.columns[~rfe.support_]\n",
    "\n",
    "#### Building model using statsmodel, for the detailed statistics\n",
    "\n",
    "# Creating X_test dataframe with RFE selected variables\n",
    "X_train_rfe = X_train[col]\n",
    "\n",
    "# Adding a constant variable \n",
    "import statsmodels.api as sm  \n",
    "X_train_rfe = sm.add_constant(X_train_rfe)\n",
    "\n",
    "lm = sm.OLS(y_train,X_train_rfe).fit()  \n",
    "\n",
    "#Let's see the summary of our linear model\n",
    "print(lm.summary())"
   ]
  },
  {
   "cell_type": "markdown",
   "metadata": {},
   "source": [
    "###### R-Squared and Adj R-squared are valued as perfect 1, which might be overfitting model"
   ]
  },
  {
   "cell_type": "code",
   "execution_count": 117,
   "metadata": {},
   "outputs": [
    {
     "name": "stdout",
     "output_type": "stream",
     "text": [
      "                            OLS Regression Results                            \n",
      "==============================================================================\n",
      "Dep. Variable:                    gmv   R-squared:                       0.999\n",
      "Model:                            OLS   Adj. R-squared:                  0.999\n",
      "Method:                 Least Squares   F-statistic:                     5961.\n",
      "Date:                Mon, 02 Mar 2020   Prob (F-statistic):           3.92e-42\n",
      "Time:                        21:05:42   Log-Likelihood:                 157.88\n",
      "No. Observations:                  37   AIC:                            -295.8\n",
      "Df Residuals:                      27   BIC:                            -279.7\n",
      "Df Model:                           9                                         \n",
      "Covariance Type:            nonrobust                                         \n",
      "===========================================================================================\n",
      "                              coef    std err          t      P>|t|      [0.025      0.975]\n",
      "-------------------------------------------------------------------------------------------\n",
      "const                      -0.0264      0.007     -3.775      0.001      -0.041      -0.012\n",
      "order_week                  0.0144      0.004      3.211      0.003       0.005       0.024\n",
      "units                       0.8367      0.010     83.706      0.000       0.816       0.857\n",
      "sla                         0.0223      0.006      3.880      0.001       0.011       0.034\n",
      "product_mrp                 0.1687      0.009     19.093      0.000       0.151       0.187\n",
      "product_procurement_sla     0.0267      0.009      2.842      0.008       0.007       0.046\n",
      "Total Investment           -0.0007      0.010     -0.074      0.941      -0.021       0.019\n",
      "TV                          0.0033      0.011      0.308      0.761      -0.019       0.025\n",
      "Sponsorship                -0.0074      0.005     -1.575      0.127      -0.017       0.002\n",
      "Total Snow (cm)            -0.0149      0.005     -2.708      0.012      -0.026      -0.004\n",
      "==============================================================================\n",
      "Omnibus:                        1.411   Durbin-Watson:                   1.886\n",
      "Prob(Omnibus):                  0.494   Jarque-Bera (JB):                0.569\n",
      "Skew:                          -0.222   Prob(JB):                        0.752\n",
      "Kurtosis:                       3.414   Cond. No.                         50.1\n",
      "==============================================================================\n",
      "\n",
      "Warnings:\n",
      "[1] Standard Errors assume that the covariance matrix of the errors is correctly specified.\n"
     ]
    }
   ],
   "source": [
    "X_train_rfe = X_train_rfe.drop([\"Online marketing\"], axis = 1)\n",
    "X_train_lm = sm.add_constant(X_train_rfe)\n",
    "lm = sm.OLS(y_train,X_train_lm).fit() \n",
    "print(lm.summary())"
   ]
  },
  {
   "cell_type": "code",
   "execution_count": 118,
   "metadata": {},
   "outputs": [
    {
     "name": "stdout",
     "output_type": "stream",
     "text": [
      "                            OLS Regression Results                            \n",
      "==============================================================================\n",
      "Dep. Variable:                    gmv   R-squared:                       0.999\n",
      "Model:                            OLS   Adj. R-squared:                  0.999\n",
      "Method:                 Least Squares   F-statistic:                     6953.\n",
      "Date:                Mon, 02 Mar 2020   Prob (F-statistic):           4.52e-44\n",
      "Time:                        21:05:42   Log-Likelihood:                 157.88\n",
      "No. Observations:                  37   AIC:                            -297.8\n",
      "Df Residuals:                      28   BIC:                            -283.3\n",
      "Df Model:                           8                                         \n",
      "Covariance Type:            nonrobust                                         \n",
      "===========================================================================================\n",
      "                              coef    std err          t      P>|t|      [0.025      0.975]\n",
      "-------------------------------------------------------------------------------------------\n",
      "const                      -0.0263      0.006     -4.042      0.000      -0.040      -0.013\n",
      "order_week                  0.0144      0.004      3.269      0.003       0.005       0.023\n",
      "units                       0.8367      0.010     85.430      0.000       0.817       0.857\n",
      "sla                         0.0221      0.005      4.245      0.000       0.011       0.033\n",
      "product_mrp                 0.1688      0.009     19.539      0.000       0.151       0.186\n",
      "product_procurement_sla     0.0266      0.009      2.907      0.007       0.008       0.045\n",
      "TV                          0.0027      0.007      0.389      0.700      -0.012       0.017\n",
      "Sponsorship                -0.0076      0.004     -2.057      0.049      -0.015   -3.21e-05\n",
      "Total Snow (cm)            -0.0149      0.005     -2.788      0.009      -0.026      -0.004\n",
      "==============================================================================\n",
      "Omnibus:                        1.592   Durbin-Watson:                   1.885\n",
      "Prob(Omnibus):                  0.451   Jarque-Bera (JB):                0.687\n",
      "Skew:                          -0.239   Prob(JB):                        0.709\n",
      "Kurtosis:                       3.465   Cond. No.                         41.2\n",
      "==============================================================================\n",
      "\n",
      "Warnings:\n",
      "[1] Standard Errors assume that the covariance matrix of the errors is correctly specified.\n"
     ]
    }
   ],
   "source": [
    "X_train_rfe = X_train_rfe.drop([\"Total Investment\"], axis = 1)\n",
    "X_train_lm = sm.add_constant(X_train_rfe)\n",
    "lm = sm.OLS(y_train,X_train_lm).fit() \n",
    "print(lm.summary())"
   ]
  },
  {
   "cell_type": "code",
   "execution_count": 119,
   "metadata": {},
   "outputs": [
    {
     "name": "stdout",
     "output_type": "stream",
     "text": [
      "                            OLS Regression Results                            \n",
      "==============================================================================\n",
      "Dep. Variable:                    gmv   R-squared:                       0.999\n",
      "Model:                            OLS   Adj. R-squared:                  0.999\n",
      "Method:                 Least Squares   F-statistic:                     7149.\n",
      "Date:                Mon, 02 Mar 2020   Prob (F-statistic):           3.67e-45\n",
      "Time:                        21:05:42   Log-Likelihood:                 155.28\n",
      "No. Observations:                  37   AIC:                            -294.6\n",
      "Df Residuals:                      29   BIC:                            -281.7\n",
      "Df Model:                           7                                         \n",
      "Covariance Type:            nonrobust                                         \n",
      "===========================================================================================\n",
      "                              coef    std err          t      P>|t|      [0.025      0.975]\n",
      "-------------------------------------------------------------------------------------------\n",
      "const                      -0.0266      0.007     -3.879      0.001      -0.041      -0.013\n",
      "order_week                  0.0177      0.004      4.060      0.000       0.009       0.027\n",
      "units                       0.8354      0.010     81.089      0.000       0.814       0.856\n",
      "sla                         0.0227      0.005      4.139      0.000       0.011       0.034\n",
      "product_mrp                 0.1646      0.009     18.604      0.000       0.146       0.183\n",
      "product_procurement_sla     0.0323      0.009      3.502      0.002       0.013       0.051\n",
      "TV                         -0.0048      0.006     -0.767      0.449      -0.018       0.008\n",
      "Total Snow (cm)            -0.0129      0.006     -2.332      0.027      -0.024      -0.002\n",
      "==============================================================================\n",
      "Omnibus:                        0.931   Durbin-Watson:                   1.912\n",
      "Prob(Omnibus):                  0.628   Jarque-Bera (JB):                0.412\n",
      "Skew:                          -0.250   Prob(JB):                        0.814\n",
      "Kurtosis:                       3.133   Cond. No.                         37.8\n",
      "==============================================================================\n",
      "\n",
      "Warnings:\n",
      "[1] Standard Errors assume that the covariance matrix of the errors is correctly specified.\n"
     ]
    }
   ],
   "source": [
    "X_train_rfe = X_train_rfe.drop([\"Sponsorship\"], axis = 1)\n",
    "X_train_lm = sm.add_constant(X_train_rfe)\n",
    "lm = sm.OLS(y_train,X_train_lm).fit() \n",
    "print(lm.summary())"
   ]
  },
  {
   "cell_type": "code",
   "execution_count": 120,
   "metadata": {},
   "outputs": [
    {
     "data": {
      "text/html": [
       "<div>\n",
       "<style scoped>\n",
       "    .dataframe tbody tr th:only-of-type {\n",
       "        vertical-align: middle;\n",
       "    }\n",
       "\n",
       "    .dataframe tbody tr th {\n",
       "        vertical-align: top;\n",
       "    }\n",
       "\n",
       "    .dataframe thead th {\n",
       "        text-align: right;\n",
       "    }\n",
       "</style>\n",
       "<table border=\"1\" class=\"dataframe\">\n",
       "  <thead>\n",
       "    <tr style=\"text-align: right;\">\n",
       "      <th></th>\n",
       "      <th>Features</th>\n",
       "      <th>VIF</th>\n",
       "    </tr>\n",
       "  </thead>\n",
       "  <tbody>\n",
       "    <tr>\n",
       "      <th>1</th>\n",
       "      <td>units</td>\n",
       "      <td>145.23</td>\n",
       "    </tr>\n",
       "    <tr>\n",
       "      <th>3</th>\n",
       "      <td>product_mrp</td>\n",
       "      <td>121.23</td>\n",
       "    </tr>\n",
       "    <tr>\n",
       "      <th>4</th>\n",
       "      <td>product_procurement_sla</td>\n",
       "      <td>119.62</td>\n",
       "    </tr>\n",
       "    <tr>\n",
       "      <th>5</th>\n",
       "      <td>TV</td>\n",
       "      <td>60.10</td>\n",
       "    </tr>\n",
       "    <tr>\n",
       "      <th>0</th>\n",
       "      <td>order_week</td>\n",
       "      <td>9.62</td>\n",
       "    </tr>\n",
       "    <tr>\n",
       "      <th>2</th>\n",
       "      <td>sla</td>\n",
       "      <td>6.89</td>\n",
       "    </tr>\n",
       "    <tr>\n",
       "      <th>6</th>\n",
       "      <td>Total Snow (cm)</td>\n",
       "      <td>2.29</td>\n",
       "    </tr>\n",
       "  </tbody>\n",
       "</table>\n",
       "</div>"
      ],
      "text/plain": [
       "                  Features     VIF\n",
       "1                    units  145.23\n",
       "3              product_mrp  121.23\n",
       "4  product_procurement_sla  119.62\n",
       "5                       TV   60.10\n",
       "0               order_week    9.62\n",
       "2                      sla    6.89\n",
       "6          Total Snow (cm)    2.29"
      ]
     },
     "execution_count": 120,
     "metadata": {},
     "output_type": "execute_result"
    }
   ],
   "source": [
    "# Now all the kpis have low p value so all are important, lets check vif\n",
    "X_train_lm=X_train_lm.drop(['const'], axis=1)\n",
    "\n",
    "# Calculate the VIFs for the new model\n",
    "from statsmodels.stats.outliers_influence import variance_inflation_factor\n",
    "\n",
    "vif = pd.DataFrame()\n",
    "X = X_train_lm\n",
    "vif['Features'] = X.columns\n",
    "vif['VIF'] = [variance_inflation_factor(X.values, i) for i in range(X.shape[1])]\n",
    "vif['VIF'] = round(vif['VIF'], 2)\n",
    "vif = vif.sort_values(by = \"VIF\", ascending = False)\n",
    "vif"
   ]
  },
  {
   "cell_type": "markdown",
   "metadata": {},
   "source": [
    "##### Here we can conclude that Multiplicative Model alwasy gives R-squared and Adj. R-Squared as perfect 1, which does not bring out the perfect model that can be suggested to the Client."
   ]
  },
  {
   "cell_type": "markdown",
   "metadata": {},
   "source": [
    "## Model for Home Audio "
   ]
  },
  {
   "cell_type": "markdown",
   "metadata": {},
   "source": [
    "### Base Linear model for Home Audio"
   ]
  },
  {
   "cell_type": "code",
   "execution_count": 121,
   "metadata": {},
   "outputs": [
    {
     "name": "stderr",
     "output_type": "stream",
     "text": [
      "/Users/venramam/anaconda3/lib/python3.7/site-packages/sklearn/preprocessing/data.py:334: DataConversionWarning: Data with input dtype int64, float64 were all converted to float64 by MinMaxScaler.\n",
      "  return self.partial_fit(X, y)\n",
      "/Users/venramam/anaconda3/lib/python3.7/site-packages/ipykernel_launcher.py:21: SettingWithCopyWarning: \n",
      "A value is trying to be set on a copy of a slice from a DataFrame.\n",
      "Try using .loc[row_indexer,col_indexer] = value instead\n",
      "\n",
      "See the caveats in the documentation: http://pandas.pydata.org/pandas-docs/stable/indexing.html#indexing-view-versus-copy\n",
      "/Users/venramam/anaconda3/lib/python3.7/site-packages/pandas/core/indexing.py:543: SettingWithCopyWarning: \n",
      "A value is trying to be set on a copy of a slice from a DataFrame.\n",
      "Try using .loc[row_indexer,col_indexer] = value instead\n",
      "\n",
      "See the caveats in the documentation: http://pandas.pydata.org/pandas-docs/stable/indexing.html#indexing-view-versus-copy\n",
      "  self.obj[item] = s\n"
     ]
    },
    {
     "name": "stdout",
     "output_type": "stream",
     "text": [
      "                            OLS Regression Results                            \n",
      "==============================================================================\n",
      "Dep. Variable:                    gmv   R-squared:                       0.996\n",
      "Model:                            OLS   Adj. R-squared:                  0.994\n",
      "Method:                 Least Squares   F-statistic:                     568.6\n",
      "Date:                Mon, 02 Mar 2020   Prob (F-statistic):           5.45e-26\n",
      "Time:                        21:05:44   Log-Likelihood:                 108.74\n",
      "No. Observations:                  35   AIC:                            -195.5\n",
      "Df Residuals:                      24   BIC:                            -178.4\n",
      "Df Model:                          10                                         \n",
      "Covariance Type:            nonrobust                                         \n",
      "===========================================================================================\n",
      "                              coef    std err          t      P>|t|      [0.025      0.975]\n",
      "-------------------------------------------------------------------------------------------\n",
      "const                      -0.0515      0.021     -2.461      0.021      -0.095      -0.008\n",
      "units                       0.8917      0.017     51.392      0.000       0.856       0.927\n",
      "product_mrp                 0.0924      0.014      6.732      0.000       0.064       0.121\n",
      "product_procurement_sla    -0.0475      0.011     -4.406      0.000      -0.070      -0.025\n",
      "Total Investment            0.4916      0.190      2.588      0.016       0.100       0.884\n",
      "TV                         -0.1652      0.060     -2.734      0.012      -0.290      -0.040\n",
      "Digital                     0.2276      0.082      2.772      0.011       0.058       0.397\n",
      "Sponsorship                -0.1559      0.061     -2.539      0.018      -0.283      -0.029\n",
      "Content Marketing          -0.3988      0.164     -2.439      0.023      -0.736      -0.061\n",
      "NPS                         0.0532      0.020      2.635      0.015       0.012       0.095\n",
      "Min Temp (°C)              -0.0213      0.019     -1.130      0.270      -0.060       0.018\n",
      "==============================================================================\n",
      "Omnibus:                        0.538   Durbin-Watson:                   1.402\n",
      "Prob(Omnibus):                  0.764   Jarque-Bera (JB):                0.649\n",
      "Skew:                           0.136   Prob(JB):                        0.723\n",
      "Kurtosis:                       2.391   Cond. No.                         200.\n",
      "==============================================================================\n",
      "\n",
      "Warnings:\n",
      "[1] Standard Errors assume that the covariance matrix of the errors is correctly specified.\n"
     ]
    },
    {
     "name": "stderr",
     "output_type": "stream",
     "text": [
      "/Users/venramam/anaconda3/lib/python3.7/site-packages/numpy/core/fromnumeric.py:2389: FutureWarning: Method .ptp is deprecated and will be removed in a future version. Use numpy.ptp instead.\n",
      "  return ptp(axis=axis, out=out, **kwargs)\n"
     ]
    }
   ],
   "source": [
    "from sklearn.model_selection import train_test_split\n",
    "\n",
    "# We specify this so that the train and test data set always have the same rows, respectively\n",
    "np.random.seed(0)\n",
    "df_audio_train, df_audio_test = train_test_split(master_homeAudio_df, train_size = 0.7, test_size = 0.3, random_state = 100)\n",
    "\n",
    "# Rescaling the features\n",
    "\n",
    "from sklearn.preprocessing import MinMaxScaler\n",
    "scaler = MinMaxScaler()\n",
    "\n",
    "# Apply scaler() to all the numeric columns except the flag variables\n",
    "\n",
    "\n",
    "num_vars = ['order_week', 'gmv', 'units', 's1_fact.order_payment_type', 'sla',\n",
    "       'product_mrp', 'product_procurement_sla','Total Investment', 'TV','Digital', 'Sponsorship', 'Content Marketing',\n",
    "       'Online marketing','NPS', 'Stock Index','Max Temp (°C)','Min Temp (°C)',\n",
    "       'Cool Deg Days (°C)','Total Rain (mm)',\n",
    "       'Total Snow (cm)', 'Snow on Grnd (cm)']\n",
    "\n",
    "df_audio_train[num_vars] = scaler.fit_transform(df_audio_train[num_vars])\n",
    "\n",
    "\n",
    "### Base Linear Model using RFE\n",
    "\n",
    "y_train = df_audio_train.pop('gmv')\n",
    "X_train = df_audio_train\n",
    "\n",
    "# Importing RFE and LinearRegression\n",
    "from sklearn.feature_selection import RFE\n",
    "from sklearn.linear_model import LinearRegression\n",
    "\n",
    "# Running RFE with the output number of the variable equal to 10\n",
    "lm = LinearRegression()\n",
    "lm.fit(X_train, y_train)\n",
    "\n",
    "rfe = RFE(lm, 10)             # running RFE\n",
    "rfe = rfe.fit(X_train, y_train)\n",
    "\n",
    "list(zip(X_train.columns,rfe.support_,rfe.ranking_))\n",
    "\n",
    "col = X_train.columns[rfe.support_]\n",
    "col\n",
    "\n",
    "X_train.columns[~rfe.support_]\n",
    "\n",
    "#### Building model using statsmodel, for the detailed statistics\n",
    "\n",
    "# Creating X_train dataframe with RFE selected variables\n",
    "X_train_rfe = X_train[col]\n",
    "\n",
    "# Adding a constant variable \n",
    "import statsmodels.api as sm  \n",
    "X_train_rfe = sm.add_constant(X_train_rfe)\n",
    "\n",
    "lm = sm.OLS(y_train,X_train_rfe).fit() \n",
    "\n",
    "#Let's see the summary of our linear model\n",
    "print(lm.summary())"
   ]
  },
  {
   "cell_type": "code",
   "execution_count": 122,
   "metadata": {},
   "outputs": [
    {
     "name": "stdout",
     "output_type": "stream",
     "text": [
      "                            OLS Regression Results                            \n",
      "==============================================================================\n",
      "Dep. Variable:                    gmv   R-squared:                       0.996\n",
      "Model:                            OLS   Adj. R-squared:                  0.994\n",
      "Method:                 Least Squares   F-statistic:                     624.7\n",
      "Date:                Mon, 02 Mar 2020   Prob (F-statistic):           3.90e-27\n",
      "Time:                        21:05:44   Log-Likelihood:                 107.83\n",
      "No. Observations:                  35   AIC:                            -195.7\n",
      "Df Residuals:                      25   BIC:                            -180.1\n",
      "Df Model:                           9                                         \n",
      "Covariance Type:            nonrobust                                         \n",
      "===========================================================================================\n",
      "                              coef    std err          t      P>|t|      [0.025      0.975]\n",
      "-------------------------------------------------------------------------------------------\n",
      "const                      -0.0591      0.020     -2.968      0.007      -0.100      -0.018\n",
      "units                       0.8852      0.016     53.725      0.000       0.851       0.919\n",
      "product_mrp                 0.0935      0.014      6.788      0.000       0.065       0.122\n",
      "product_procurement_sla    -0.0491      0.011     -4.574      0.000      -0.071      -0.027\n",
      "Total Investment            0.3708      0.158      2.349      0.027       0.046       0.696\n",
      "TV                         -0.1177      0.044     -2.697      0.012      -0.208      -0.028\n",
      "Digital                     0.1656      0.061      2.697      0.012       0.039       0.292\n",
      "Sponsorship                -0.1268      0.056     -2.263      0.033      -0.242      -0.011\n",
      "Content Marketing          -0.2786      0.125     -2.231      0.035      -0.536      -0.021\n",
      "NPS                         0.0524      0.020      2.585      0.016       0.011       0.094\n",
      "==============================================================================\n",
      "Omnibus:                        0.107   Durbin-Watson:                   1.522\n",
      "Prob(Omnibus):                  0.948   Jarque-Bera (JB):                0.304\n",
      "Skew:                           0.082   Prob(JB):                        0.859\n",
      "Kurtosis:                       2.574   Cond. No.                         148.\n",
      "==============================================================================\n",
      "\n",
      "Warnings:\n",
      "[1] Standard Errors assume that the covariance matrix of the errors is correctly specified.\n"
     ]
    }
   ],
   "source": [
    "# Min Temp (°C) is insignificant in presence of other variables aand can be dropped\n",
    "X_train_new = X_train_rfe.drop([\"Min Temp (°C)\"], axis = 1)\n",
    "\n",
    "# Rebuilding the model\n",
    "# Adding a constant variable \n",
    "import statsmodels.api as sm  \n",
    "X_train_lm = sm.add_constant(X_train_new)\n",
    "\n",
    "lm = sm.OLS(y_train,X_train_lm).fit()   # Running the linear model\n",
    "#Let's see the summary of our linear model\n",
    "print(lm.summary())\n"
   ]
  },
  {
   "cell_type": "code",
   "execution_count": 123,
   "metadata": {},
   "outputs": [
    {
     "data": {
      "text/html": [
       "<div>\n",
       "<style scoped>\n",
       "    .dataframe tbody tr th:only-of-type {\n",
       "        vertical-align: middle;\n",
       "    }\n",
       "\n",
       "    .dataframe tbody tr th {\n",
       "        vertical-align: top;\n",
       "    }\n",
       "\n",
       "    .dataframe thead th {\n",
       "        text-align: right;\n",
       "    }\n",
       "</style>\n",
       "<table border=\"1\" class=\"dataframe\">\n",
       "  <thead>\n",
       "    <tr style=\"text-align: right;\">\n",
       "      <th></th>\n",
       "      <th>Features</th>\n",
       "      <th>VIF</th>\n",
       "    </tr>\n",
       "  </thead>\n",
       "  <tbody>\n",
       "    <tr>\n",
       "      <th>3</th>\n",
       "      <td>Total Investment</td>\n",
       "      <td>664.78</td>\n",
       "    </tr>\n",
       "    <tr>\n",
       "      <th>7</th>\n",
       "      <td>Content Marketing</td>\n",
       "      <td>283.26</td>\n",
       "    </tr>\n",
       "    <tr>\n",
       "      <th>6</th>\n",
       "      <td>Sponsorship</td>\n",
       "      <td>115.65</td>\n",
       "    </tr>\n",
       "    <tr>\n",
       "      <th>5</th>\n",
       "      <td>Digital</td>\n",
       "      <td>69.68</td>\n",
       "    </tr>\n",
       "    <tr>\n",
       "      <th>4</th>\n",
       "      <td>TV</td>\n",
       "      <td>59.82</td>\n",
       "    </tr>\n",
       "    <tr>\n",
       "      <th>2</th>\n",
       "      <td>product_procurement_sla</td>\n",
       "      <td>8.48</td>\n",
       "    </tr>\n",
       "    <tr>\n",
       "      <th>8</th>\n",
       "      <td>NPS</td>\n",
       "      <td>8.45</td>\n",
       "    </tr>\n",
       "    <tr>\n",
       "      <th>1</th>\n",
       "      <td>product_mrp</td>\n",
       "      <td>6.26</td>\n",
       "    </tr>\n",
       "    <tr>\n",
       "      <th>0</th>\n",
       "      <td>units</td>\n",
       "      <td>4.82</td>\n",
       "    </tr>\n",
       "  </tbody>\n",
       "</table>\n",
       "</div>"
      ],
      "text/plain": [
       "                  Features     VIF\n",
       "3         Total Investment  664.78\n",
       "7        Content Marketing  283.26\n",
       "6              Sponsorship  115.65\n",
       "5                  Digital   69.68\n",
       "4                       TV   59.82\n",
       "2  product_procurement_sla    8.48\n",
       "8                      NPS    8.45\n",
       "1              product_mrp    6.26\n",
       "0                    units    4.82"
      ]
     },
     "execution_count": 123,
     "metadata": {},
     "output_type": "execute_result"
    }
   ],
   "source": [
    "X_train_lm=X_train_lm.drop(['const'], axis=1)\n",
    "\n",
    "# Calculate the VIFs for the new model\n",
    "from statsmodels.stats.outliers_influence import variance_inflation_factor\n",
    "\n",
    "vif = pd.DataFrame()\n",
    "X = X_train_lm\n",
    "vif['Features'] = X.columns\n",
    "vif['VIF'] = [variance_inflation_factor(X.values, i) for i in range(X.shape[1])]\n",
    "vif['VIF'] = round(vif['VIF'], 2)\n",
    "vif = vif.sort_values(by = \"VIF\", ascending = False)\n",
    "vif"
   ]
  },
  {
   "cell_type": "code",
   "execution_count": 124,
   "metadata": {},
   "outputs": [
    {
     "name": "stdout",
     "output_type": "stream",
     "text": [
      "                            OLS Regression Results                            \n",
      "==============================================================================\n",
      "Dep. Variable:                    gmv   R-squared:                       0.995\n",
      "Model:                            OLS   Adj. R-squared:                  0.993\n",
      "Method:                 Least Squares   F-statistic:                     598.2\n",
      "Date:                Mon, 02 Mar 2020   Prob (F-statistic):           1.85e-27\n",
      "Time:                        21:05:44   Log-Likelihood:                 104.34\n",
      "No. Observations:                  35   AIC:                            -190.7\n",
      "Df Residuals:                      26   BIC:                            -176.7\n",
      "Df Model:                           8                                         \n",
      "Covariance Type:            nonrobust                                         \n",
      "===========================================================================================\n",
      "                              coef    std err          t      P>|t|      [0.025      0.975]\n",
      "-------------------------------------------------------------------------------------------\n",
      "const                      -0.0302      0.017     -1.779      0.087      -0.065       0.005\n",
      "units                       0.8842      0.018     49.549      0.000       0.848       0.921\n",
      "product_mrp                 0.0859      0.015      5.922      0.000       0.056       0.116\n",
      "product_procurement_sla    -0.0545      0.011     -4.795      0.000      -0.078      -0.031\n",
      "TV                         -0.0187      0.012     -1.525      0.139      -0.044       0.006\n",
      "Digital                     0.0410      0.034      1.223      0.232      -0.028       0.110\n",
      "Sponsorship                -0.0007      0.017     -0.038      0.970      -0.036       0.035\n",
      "Content Marketing           0.0037      0.037      0.100      0.921      -0.072       0.079\n",
      "NPS                         0.0435      0.022      2.014      0.054      -0.001       0.088\n",
      "==============================================================================\n",
      "Omnibus:                        0.052   Durbin-Watson:                   1.341\n",
      "Prob(Omnibus):                  0.975   Jarque-Bera (JB):                0.218\n",
      "Skew:                          -0.073   Prob(JB):                        0.897\n",
      "Kurtosis:                       2.642   Cond. No.                         32.4\n",
      "==============================================================================\n",
      "\n",
      "Warnings:\n",
      "[1] Standard Errors assume that the covariance matrix of the errors is correctly specified.\n"
     ]
    },
    {
     "name": "stderr",
     "output_type": "stream",
     "text": [
      "/Users/venramam/anaconda3/lib/python3.7/site-packages/numpy/core/fromnumeric.py:2389: FutureWarning: Method .ptp is deprecated and will be removed in a future version. Use numpy.ptp instead.\n",
      "  return ptp(axis=axis, out=out, **kwargs)\n"
     ]
    }
   ],
   "source": [
    "# Total Investment has high vif and can be dropped\n",
    "X_train_new1 = X_train_new.drop([\"Total Investment\"], axis = 1)\n",
    "\n",
    "# Rebuilding the model\n",
    "# Adding a constant variable \n",
    "import statsmodels.api as sm  \n",
    "X_train_lm = sm.add_constant(X_train_new1)\n",
    "\n",
    "lm = sm.OLS(y_train,X_train_lm).fit()   # Running the linear model\n",
    "#Let's see the summary of our linear model\n",
    "print(lm.summary())"
   ]
  },
  {
   "cell_type": "code",
   "execution_count": 125,
   "metadata": {},
   "outputs": [
    {
     "name": "stdout",
     "output_type": "stream",
     "text": [
      "                            OLS Regression Results                            \n",
      "==============================================================================\n",
      "Dep. Variable:                    gmv   R-squared:                       0.995\n",
      "Model:                            OLS   Adj. R-squared:                  0.993\n",
      "Method:                 Least Squares   F-statistic:                     709.9\n",
      "Date:                Mon, 02 Mar 2020   Prob (F-statistic):           6.63e-29\n",
      "Time:                        21:05:44   Log-Likelihood:                 104.34\n",
      "No. Observations:                  35   AIC:                            -192.7\n",
      "Df Residuals:                      27   BIC:                            -180.2\n",
      "Df Model:                           7                                         \n",
      "Covariance Type:            nonrobust                                         \n",
      "===========================================================================================\n",
      "                              coef    std err          t      P>|t|      [0.025      0.975]\n",
      "-------------------------------------------------------------------------------------------\n",
      "const                      -0.0305      0.014     -2.228      0.034      -0.059      -0.002\n",
      "units                       0.8840      0.016     54.457      0.000       0.851       0.917\n",
      "product_mrp                 0.0863      0.011      7.709      0.000       0.063       0.109\n",
      "product_procurement_sla    -0.0546      0.011     -4.980      0.000      -0.077      -0.032\n",
      "TV                         -0.0188      0.012     -1.621      0.117      -0.043       0.005\n",
      "Digital                     0.0404      0.029      1.392      0.175      -0.019       0.100\n",
      "Content Marketing           0.0040      0.035      0.113      0.911      -0.069       0.077\n",
      "NPS                         0.0439      0.018      2.489      0.019       0.008       0.080\n",
      "==============================================================================\n",
      "Omnibus:                        0.051   Durbin-Watson:                   1.335\n",
      "Prob(Omnibus):                  0.975   Jarque-Bera (JB):                0.215\n",
      "Skew:                          -0.073   Prob(JB):                        0.898\n",
      "Kurtosis:                       2.644   Cond. No.                         28.4\n",
      "==============================================================================\n",
      "\n",
      "Warnings:\n",
      "[1] Standard Errors assume that the covariance matrix of the errors is correctly specified.\n"
     ]
    }
   ],
   "source": [
    "# Sponsorship is insignificant in presence of other variables aand can be dropped\n",
    "X_train_new2 = X_train_new1.drop([\"Sponsorship\"], axis = 1)\n",
    "\n",
    "# Rebuilding the model\n",
    "# Adding a constant variable \n",
    "import statsmodels.api as sm  \n",
    "X_train_lm = sm.add_constant(X_train_new2)\n",
    "\n",
    "lm = sm.OLS(y_train,X_train_lm).fit()   # Running the linear model\n",
    "#Let's see the summary of our linear model\n",
    "print(lm.summary())"
   ]
  },
  {
   "cell_type": "code",
   "execution_count": 126,
   "metadata": {},
   "outputs": [
    {
     "name": "stdout",
     "output_type": "stream",
     "text": [
      "                            OLS Regression Results                            \n",
      "==============================================================================\n",
      "Dep. Variable:                    gmv   R-squared:                       0.995\n",
      "Model:                            OLS   Adj. R-squared:                  0.993\n",
      "Method:                 Least Squares   F-statistic:                     858.5\n",
      "Date:                Mon, 02 Mar 2020   Prob (F-statistic):           2.17e-30\n",
      "Time:                        21:05:44   Log-Likelihood:                 104.33\n",
      "No. Observations:                  35   AIC:                            -194.7\n",
      "Df Residuals:                      28   BIC:                            -183.8\n",
      "Df Model:                           6                                         \n",
      "Covariance Type:            nonrobust                                         \n",
      "===========================================================================================\n",
      "                              coef    std err          t      P>|t|      [0.025      0.975]\n",
      "-------------------------------------------------------------------------------------------\n",
      "const                      -0.0295      0.010     -2.921      0.007      -0.050      -0.009\n",
      "units                       0.8839      0.016     55.463      0.000       0.851       0.917\n",
      "product_mrp                 0.0863      0.011      7.875      0.000       0.064       0.109\n",
      "product_procurement_sla    -0.0546      0.011     -5.069      0.000      -0.077      -0.033\n",
      "TV                         -0.0191      0.011     -1.712      0.098      -0.042       0.004\n",
      "Digital                     0.0434      0.011      4.048      0.000       0.021       0.065\n",
      "NPS                         0.0424      0.011      3.895      0.001       0.020       0.065\n",
      "==============================================================================\n",
      "Omnibus:                        0.057   Durbin-Watson:                   1.338\n",
      "Prob(Omnibus):                  0.972   Jarque-Bera (JB):                0.228\n",
      "Skew:                          -0.075   Prob(JB):                        0.892\n",
      "Kurtosis:                       2.633   Cond. No.                         10.3\n",
      "==============================================================================\n",
      "\n",
      "Warnings:\n",
      "[1] Standard Errors assume that the covariance matrix of the errors is correctly specified.\n"
     ]
    }
   ],
   "source": [
    "# Content Marketing is insignificant in presence of other variables aand can be dropped\n",
    "X_train_new3 = X_train_new2.drop([\"Content Marketing\"], axis = 1)\n",
    "\n",
    "# Rebuilding the model\n",
    "# Adding a constant variable \n",
    "import statsmodels.api as sm  \n",
    "X_train_lm = sm.add_constant(X_train_new3)\n",
    "\n",
    "lm = sm.OLS(y_train,X_train_lm).fit()   # Running the linear model\n",
    "#Let's see the summary of our linear model\n",
    "print(lm.summary())"
   ]
  },
  {
   "cell_type": "code",
   "execution_count": 127,
   "metadata": {},
   "outputs": [
    {
     "name": "stdout",
     "output_type": "stream",
     "text": [
      "                            OLS Regression Results                            \n",
      "==============================================================================\n",
      "Dep. Variable:                    gmv   R-squared:                       0.994\n",
      "Model:                            OLS   Adj. R-squared:                  0.993\n",
      "Method:                 Least Squares   F-statistic:                     965.3\n",
      "Date:                Mon, 02 Mar 2020   Prob (F-statistic):           2.65e-31\n",
      "Time:                        21:05:44   Log-Likelihood:                 102.59\n",
      "No. Observations:                  35   AIC:                            -193.2\n",
      "Df Residuals:                      29   BIC:                            -183.8\n",
      "Df Model:                           5                                         \n",
      "Covariance Type:            nonrobust                                         \n",
      "===========================================================================================\n",
      "                              coef    std err          t      P>|t|      [0.025      0.975]\n",
      "-------------------------------------------------------------------------------------------\n",
      "const                      -0.0394      0.009     -4.601      0.000      -0.057      -0.022\n",
      "units                       0.8836      0.016     53.687      0.000       0.850       0.917\n",
      "product_mrp                 0.0843      0.011      7.489      0.000       0.061       0.107\n",
      "product_procurement_sla    -0.0539      0.011     -4.850      0.000      -0.077      -0.031\n",
      "Digital                     0.0418      0.011      3.789      0.001       0.019       0.064\n",
      "NPS                         0.0499      0.010      4.853      0.000       0.029       0.071\n",
      "==============================================================================\n",
      "Omnibus:                        0.190   Durbin-Watson:                   1.408\n",
      "Prob(Omnibus):                  0.909   Jarque-Bera (JB):                0.358\n",
      "Skew:                           0.139   Prob(JB):                        0.836\n",
      "Kurtosis:                       2.590   Cond. No.                         9.68\n",
      "==============================================================================\n",
      "\n",
      "Warnings:\n",
      "[1] Standard Errors assume that the covariance matrix of the errors is correctly specified.\n"
     ]
    }
   ],
   "source": [
    "# TV is insignificant in presence of other variables aand can be dropped\n",
    "X_train_new4 = X_train_new3.drop([\"TV\"], axis = 1)\n",
    "\n",
    "# Rebuilding the model\n",
    "# Adding a constant variable \n",
    "import statsmodels.api as sm  \n",
    "X_train_lm = sm.add_constant(X_train_new4)\n",
    "\n",
    "lm = sm.OLS(y_train,X_train_lm).fit()   # Running the linear model\n",
    "#Let's see the summary of our linear model\n",
    "print(lm.summary())"
   ]
  },
  {
   "cell_type": "code",
   "execution_count": 128,
   "metadata": {},
   "outputs": [
    {
     "data": {
      "text/html": [
       "<div>\n",
       "<style scoped>\n",
       "    .dataframe tbody tr th:only-of-type {\n",
       "        vertical-align: middle;\n",
       "    }\n",
       "\n",
       "    .dataframe tbody tr th {\n",
       "        vertical-align: top;\n",
       "    }\n",
       "\n",
       "    .dataframe thead th {\n",
       "        text-align: right;\n",
       "    }\n",
       "</style>\n",
       "<table border=\"1\" class=\"dataframe\">\n",
       "  <thead>\n",
       "    <tr style=\"text-align: right;\">\n",
       "      <th></th>\n",
       "      <th>Features</th>\n",
       "      <th>VIF</th>\n",
       "    </tr>\n",
       "  </thead>\n",
       "  <tbody>\n",
       "    <tr>\n",
       "      <th>2</th>\n",
       "      <td>product_procurement_sla</td>\n",
       "      <td>6.65</td>\n",
       "    </tr>\n",
       "    <tr>\n",
       "      <th>1</th>\n",
       "      <td>product_mrp</td>\n",
       "      <td>4.14</td>\n",
       "    </tr>\n",
       "    <tr>\n",
       "      <th>0</th>\n",
       "      <td>units</td>\n",
       "      <td>3.63</td>\n",
       "    </tr>\n",
       "    <tr>\n",
       "      <th>4</th>\n",
       "      <td>NPS</td>\n",
       "      <td>3.62</td>\n",
       "    </tr>\n",
       "    <tr>\n",
       "      <th>3</th>\n",
       "      <td>Digital</td>\n",
       "      <td>1.98</td>\n",
       "    </tr>\n",
       "  </tbody>\n",
       "</table>\n",
       "</div>"
      ],
      "text/plain": [
       "                  Features   VIF\n",
       "2  product_procurement_sla  6.65\n",
       "1              product_mrp  4.14\n",
       "0                    units  3.63\n",
       "4                      NPS  3.62\n",
       "3                  Digital  1.98"
      ]
     },
     "execution_count": 128,
     "metadata": {},
     "output_type": "execute_result"
    }
   ],
   "source": [
    "X_train_lm=X_train_lm.drop(['const'], axis=1)\n",
    "\n",
    "# Calculate the VIFs for the new model\n",
    "from statsmodels.stats.outliers_influence import variance_inflation_factor\n",
    "\n",
    "vif = pd.DataFrame()\n",
    "X = X_train_lm\n",
    "vif['Features'] = X.columns\n",
    "vif['VIF'] = [variance_inflation_factor(X.values, i) for i in range(X.shape[1])]\n",
    "vif['VIF'] = round(vif['VIF'], 2)\n",
    "vif = vif.sort_values(by = \"VIF\", ascending = False)\n",
    "vif"
   ]
  },
  {
   "cell_type": "markdown",
   "metadata": {},
   "source": [
    "#### evaluation on test data"
   ]
  },
  {
   "cell_type": "code",
   "execution_count": 129,
   "metadata": {},
   "outputs": [
    {
     "name": "stderr",
     "output_type": "stream",
     "text": [
      "/Users/venramam/anaconda3/lib/python3.7/site-packages/ipykernel_launcher.py:1: SettingWithCopyWarning: \n",
      "A value is trying to be set on a copy of a slice from a DataFrame.\n",
      "Try using .loc[row_indexer,col_indexer] = value instead\n",
      "\n",
      "See the caveats in the documentation: http://pandas.pydata.org/pandas-docs/stable/indexing.html#indexing-view-versus-copy\n",
      "  \"\"\"Entry point for launching an IPython kernel.\n",
      "/Users/venramam/anaconda3/lib/python3.7/site-packages/pandas/core/indexing.py:543: SettingWithCopyWarning: \n",
      "A value is trying to be set on a copy of a slice from a DataFrame.\n",
      "Try using .loc[row_indexer,col_indexer] = value instead\n",
      "\n",
      "See the caveats in the documentation: http://pandas.pydata.org/pandas-docs/stable/indexing.html#indexing-view-versus-copy\n",
      "  self.obj[item] = s\n",
      "/Users/venramam/anaconda3/lib/python3.7/site-packages/numpy/core/fromnumeric.py:2389: FutureWarning: Method .ptp is deprecated and will be removed in a future version. Use numpy.ptp instead.\n",
      "  return ptp(axis=axis, out=out, **kwargs)\n"
     ]
    },
    {
     "data": {
      "text/plain": [
       "0.9564788265869169"
      ]
     },
     "execution_count": 129,
     "metadata": {},
     "output_type": "execute_result"
    }
   ],
   "source": [
    "df_audio_test[num_vars] = scaler.transform(df_audio_test[num_vars])\n",
    "y_test = df_audio_test.pop('gmv')\n",
    "X_test = df_audio_test\n",
    "\n",
    "# Creating X_test_new dataframe by dropping variables from X_test\n",
    "X_test_new = X_test[X_train_lm.columns]\n",
    "\n",
    "# Adding a constant variable \n",
    "X_test_new = sm.add_constant(X_test_new)\n",
    "\n",
    "\n",
    "y_test_pred = lm.predict(X_test_new)\n",
    "metrics.r2_score(y_true=y_test, y_pred=y_test_pred)"
   ]
  },
  {
   "cell_type": "markdown",
   "metadata": {},
   "source": [
    "Final model has fairly high adjusted R-square value and all variables have acceptable vif and p values\n",
    "final model is having below important kpis:\n",
    "    units,product_mrp,product_procurement_sla,Digital and NPS"
   ]
  },
  {
   "cell_type": "markdown",
   "metadata": {},
   "source": [
    "### Koyck Model for Home Audio"
   ]
  },
  {
   "cell_type": "code",
   "execution_count": 130,
   "metadata": {},
   "outputs": [
    {
     "name": "stderr",
     "output_type": "stream",
     "text": [
      "/Users/venramam/anaconda3/lib/python3.7/site-packages/sklearn/preprocessing/data.py:334: DataConversionWarning: Data with input dtype int64, float64 were all converted to float64 by MinMaxScaler.\n",
      "  return self.partial_fit(X, y)\n",
      "/Users/venramam/anaconda3/lib/python3.7/site-packages/ipykernel_launcher.py:18: SettingWithCopyWarning: \n",
      "A value is trying to be set on a copy of a slice from a DataFrame.\n",
      "Try using .loc[row_indexer,col_indexer] = value instead\n",
      "\n",
      "See the caveats in the documentation: http://pandas.pydata.org/pandas-docs/stable/indexing.html#indexing-view-versus-copy\n",
      "/Users/venramam/anaconda3/lib/python3.7/site-packages/pandas/core/indexing.py:543: SettingWithCopyWarning: \n",
      "A value is trying to be set on a copy of a slice from a DataFrame.\n",
      "Try using .loc[row_indexer,col_indexer] = value instead\n",
      "\n",
      "See the caveats in the documentation: http://pandas.pydata.org/pandas-docs/stable/indexing.html#indexing-view-versus-copy\n",
      "  self.obj[item] = s\n"
     ]
    },
    {
     "name": "stdout",
     "output_type": "stream",
     "text": [
      "0.9931675165848051\n"
     ]
    },
    {
     "name": "stderr",
     "output_type": "stream",
     "text": [
      "/Users/venramam/anaconda3/lib/python3.7/site-packages/ipykernel_launcher.py:31: SettingWithCopyWarning: \n",
      "A value is trying to be set on a copy of a slice from a DataFrame.\n",
      "Try using .loc[row_indexer,col_indexer] = value instead\n",
      "\n",
      "See the caveats in the documentation: http://pandas.pydata.org/pandas-docs/stable/indexing.html#indexing-view-versus-copy\n",
      "/Users/venramam/anaconda3/lib/python3.7/site-packages/pandas/core/indexing.py:543: SettingWithCopyWarning: \n",
      "A value is trying to be set on a copy of a slice from a DataFrame.\n",
      "Try using .loc[row_indexer,col_indexer] = value instead\n",
      "\n",
      "See the caveats in the documentation: http://pandas.pydata.org/pandas-docs/stable/indexing.html#indexing-view-versus-copy\n",
      "  self.obj[item] = s\n"
     ]
    },
    {
     "name": "stdout",
     "output_type": "stream",
     "text": [
      "0.9684872349880984\n"
     ]
    },
    {
     "data": {
      "text/plain": [
       "[('constant', -0.008),\n",
       " ('product_procurement_sla', -0.01),\n",
       " ('product_mrp', 0.126),\n",
       " ('units', 1.032),\n",
       " ('NPS', 0.033),\n",
       " ('Digital', 0.034),\n",
       " ('lag gmv', 0.017)]"
      ]
     },
     "execution_count": 130,
     "metadata": {},
     "output_type": "execute_result"
    }
   ],
   "source": [
    "master_audio_koyck=master_homeAudio_df.copy()\n",
    "master_audio_koyck['lag gmv']=master_audio_koyck['gmv'].shift(1)\n",
    "\n",
    "# For 1st row lag gmv would be NAN, lets exclude this row for analysis\n",
    "master_audio_koyck=master_audio_koyck.loc[1:,:]\n",
    "\n",
    "np.random.seed(0)\n",
    "df_audio_train, df_audio_test = train_test_split(master_audio_koyck, train_size = 0.7, test_size = 0.3, random_state = 100)\n",
    "\n",
    "scaler = MinMaxScaler()\n",
    "\n",
    "num_vars = ['order_week','lag gmv', 'gmv', 'units', 's1_fact.order_payment_type', 'sla',\n",
    "       'product_mrp', 'product_procurement_sla','Total Investment', 'TV','Digital', 'Sponsorship', 'Content Marketing',\n",
    "       'Online marketing','NPS', 'Stock Index','Max Temp (°C)','Min Temp (°C)',\n",
    "       'Cool Deg Days (°C)','Total Rain (mm)',\n",
    "       'Total Snow (cm)', 'Snow on Grnd (cm)']\n",
    "\n",
    "df_audio_train[num_vars] = scaler.fit_transform(df_audio_train[num_vars])\n",
    "\n",
    "y_train = df_audio_train.pop('gmv')\n",
    "X_train = df_audio_train\n",
    "\n",
    "selected_kpi=['product_procurement_sla','product_mrp','units','NPS', 'Digital','lag gmv']\n",
    "lm = LinearRegression()\n",
    "lm.fit(X_train[selected_kpi], y_train)\n",
    "from sklearn import metrics\n",
    "# predict\n",
    "y_train_pred = lm.predict(X_train[selected_kpi])\n",
    "print(metrics.r2_score(y_true=y_train, y_pred=y_train_pred))\n",
    "\n",
    "df_audio_test[num_vars] = scaler.transform(df_audio_test[num_vars])\n",
    "y_test = df_audio_test.pop('gmv')\n",
    "X_test = df_audio_test\n",
    "\n",
    "y_test_pred = lm.predict(X_test[selected_kpi])\n",
    "print(metrics.r2_score(y_true=y_test, y_pred=y_test_pred))\n",
    "\n",
    "# model coefficients\n",
    "model_parameters = list(lm.coef_)\n",
    "model_parameters.insert(0, lm.intercept_)\n",
    "model_parameters = [round(x, 3) for x in model_parameters]\n",
    "cols = X_test[selected_kpi].columns\n",
    "cols = cols.insert(0, \"constant\")\n",
    "list(zip(cols, model_parameters))\n"
   ]
  },
  {
   "cell_type": "markdown",
   "metadata": {},
   "source": [
    "### Distributed Lag Model for Home Audio"
   ]
  },
  {
   "cell_type": "code",
   "execution_count": 131,
   "metadata": {},
   "outputs": [
    {
     "name": "stderr",
     "output_type": "stream",
     "text": [
      "/Users/venramam/anaconda3/lib/python3.7/site-packages/sklearn/preprocessing/data.py:334: DataConversionWarning: Data with input dtype int64, float64 were all converted to float64 by MinMaxScaler.\n",
      "  return self.partial_fit(X, y)\n",
      "/Users/venramam/anaconda3/lib/python3.7/site-packages/ipykernel_launcher.py:23: SettingWithCopyWarning: \n",
      "A value is trying to be set on a copy of a slice from a DataFrame.\n",
      "Try using .loc[row_indexer,col_indexer] = value instead\n",
      "\n",
      "See the caveats in the documentation: http://pandas.pydata.org/pandas-docs/stable/indexing.html#indexing-view-versus-copy\n",
      "/Users/venramam/anaconda3/lib/python3.7/site-packages/pandas/core/indexing.py:543: SettingWithCopyWarning: \n",
      "A value is trying to be set on a copy of a slice from a DataFrame.\n",
      "Try using .loc[row_indexer,col_indexer] = value instead\n",
      "\n",
      "See the caveats in the documentation: http://pandas.pydata.org/pandas-docs/stable/indexing.html#indexing-view-versus-copy\n",
      "  self.obj[item] = s\n"
     ]
    },
    {
     "name": "stdout",
     "output_type": "stream",
     "text": [
      "0.9964020662890571\n"
     ]
    },
    {
     "name": "stderr",
     "output_type": "stream",
     "text": [
      "/Users/venramam/anaconda3/lib/python3.7/site-packages/ipykernel_launcher.py:37: SettingWithCopyWarning: \n",
      "A value is trying to be set on a copy of a slice from a DataFrame.\n",
      "Try using .loc[row_indexer,col_indexer] = value instead\n",
      "\n",
      "See the caveats in the documentation: http://pandas.pydata.org/pandas-docs/stable/indexing.html#indexing-view-versus-copy\n",
      "/Users/venramam/anaconda3/lib/python3.7/site-packages/pandas/core/indexing.py:543: SettingWithCopyWarning: \n",
      "A value is trying to be set on a copy of a slice from a DataFrame.\n",
      "Try using .loc[row_indexer,col_indexer] = value instead\n",
      "\n",
      "See the caveats in the documentation: http://pandas.pydata.org/pandas-docs/stable/indexing.html#indexing-view-versus-copy\n",
      "  self.obj[item] = s\n"
     ]
    },
    {
     "name": "stdout",
     "output_type": "stream",
     "text": [
      "0.9698771103981055\n"
     ]
    },
    {
     "data": {
      "text/plain": [
       "[('constant', 0.022),\n",
       " ('lag product_procurement_sla', 0.032),\n",
       " ('product_procurement_sla', -0.028),\n",
       " ('lag product_mrp', -0.039),\n",
       " ('product_mrp', 0.117),\n",
       " ('lag units', -0.589),\n",
       " ('units', 1.04),\n",
       " ('lag NPS', 0.052),\n",
       " ('NPS', -0.074),\n",
       " ('lag Digital', 0.02),\n",
       " ('Digital', 0.002),\n",
       " ('lag gmv', 0.657)]"
      ]
     },
     "execution_count": 131,
     "metadata": {},
     "output_type": "execute_result"
    }
   ],
   "source": [
    "# adding lag for all the independent variables also- 'product_procurement_sla','product_mrp','units','NPS', 'Digital'\n",
    "\n",
    "master_audio_dlag=master_homeAudio_df.copy()\n",
    "\n",
    "master_audio_dlag['lag gmv']=master_audio_dlag['gmv'].shift(1)\n",
    "master_audio_dlag['lag product_procurement_sla']=master_audio_dlag['product_procurement_sla'].shift(1)\n",
    "master_audio_dlag['lag product_mrp']=master_audio_dlag['product_mrp'].shift(1)\n",
    "master_audio_dlag['lag units']=master_audio_dlag['units'].shift(1)\n",
    "master_audio_dlag['lag NPS']=master_audio_dlag['NPS'].shift(1)\n",
    "master_audio_dlag['lag Digital']=master_audio_dlag['Digital'].shift(1)\n",
    "\n",
    "# For 1st row lag variables would be NAN, lets exclude this row for analysis\n",
    "master_audio_dlag=master_audio_dlag.loc[1:,:]\n",
    "\n",
    "np.random.seed(0)\n",
    "df_audio_train, df_audio_test = train_test_split(master_audio_dlag, train_size = 0.7, test_size = 0.3, random_state = 100)\n",
    "\n",
    "num_vars = ['order_week','lag gmv', 'gmv', 'lag units','units', 's1_fact.order_payment_type','sla','lag product_mrp',\n",
    "            'product_mrp','lag product_procurement_sla', 'product_procurement_sla','Total Investment', 'TV','lag Digital',\n",
    "            'Digital', 'Sponsorship','Content Marketing','Online marketing','lag NPS','NPS', 'Stock Index','Max Temp (°C)',\n",
    "            'Min Temp (°C)','Cool Deg Days (°C)','Total Rain (mm)', 'Total Snow (cm)', 'Snow on Grnd (cm)']\n",
    "\n",
    "df_audio_train[num_vars] = scaler.fit_transform(df_audio_train[num_vars])\n",
    "\n",
    "y_train = df_audio_train.pop('gmv')\n",
    "X_train = df_audio_train\n",
    "\n",
    "selected_kpi=['lag product_procurement_sla','product_procurement_sla','lag product_mrp','product_mrp','lag units','units',\n",
    "              'lag NPS','NPS','lag Digital','Digital','lag gmv']\n",
    "lm = LinearRegression()\n",
    "lm.fit(X_train[selected_kpi], y_train)\n",
    "from sklearn import metrics\n",
    "# predict\n",
    "y_train_pred = lm.predict(X_train[selected_kpi])\n",
    "print(metrics.r2_score(y_true=y_train, y_pred=y_train_pred))\n",
    "\n",
    "df_audio_test[num_vars] = scaler.transform(df_audio_test[num_vars])\n",
    "y_test = df_audio_test.pop('gmv')\n",
    "X_test = df_audio_test\n",
    "\n",
    "y_test_pred = lm.predict(X_test[selected_kpi])\n",
    "print(metrics.r2_score(y_true=y_test, y_pred=y_test_pred))\n",
    "\n",
    "# model coefficients\n",
    "model_parameters = list(lm.coef_)\n",
    "model_parameters.insert(0, lm.intercept_)\n",
    "model_parameters = [round(x, 3) for x in model_parameters]\n",
    "cols = X_test[selected_kpi].columns\n",
    "cols = cols.insert(0, \"constant\")\n",
    "list(zip(cols, model_parameters))\n",
    "\n"
   ]
  },
  {
   "cell_type": "markdown",
   "metadata": {},
   "source": [
    "### Multiplicative Model for Home Audio"
   ]
  },
  {
   "cell_type": "code",
   "execution_count": 132,
   "metadata": {},
   "outputs": [
    {
     "name": "stderr",
     "output_type": "stream",
     "text": [
      "/Users/venramam/anaconda3/lib/python3.7/site-packages/ipykernel_launcher.py:3: RuntimeWarning: divide by zero encountered in log\n",
      "  This is separate from the ipykernel package so we can avoid doing imports until\n",
      "/Users/venramam/anaconda3/lib/python3.7/site-packages/ipykernel_launcher.py:3: RuntimeWarning: invalid value encountered in log\n",
      "  This is separate from the ipykernel package so we can avoid doing imports until\n"
     ]
    }
   ],
   "source": [
    "# taking log of all the dependent and independent variables\n",
    "master_homeAudio_multiplicative = master_homeAudio_df.copy()\n",
    "master_homeAudio_multiplicative = master_homeAudio_multiplicative.apply(lambda x: np.log(x) if np.issubdtype(x.dtype, np.number) else x)"
   ]
  },
  {
   "cell_type": "code",
   "execution_count": 133,
   "metadata": {
    "scrolled": false
   },
   "outputs": [
    {
     "name": "stdout",
     "output_type": "stream",
     "text": [
      "Index(['order_week', 'gmv', 'units', 's1_fact.order_payment_type', 'sla',\n",
      "       'product_mrp', 'product_procurement_sla', 'holiday_flag', 'payday_flag',\n",
      "       'Total Investment', 'TV', 'Digital', 'Sponsorship', 'Content Marketing',\n",
      "       'Online marketing', 'NPS', 'Stock Index', 'Max Temp (°C)',\n",
      "       'Min Temp (°C)', 'Cool Deg Days (°C)', 'Total Rain (mm)',\n",
      "       'Total Snow (cm)', 'Snow on Grnd (cm)'],\n",
      "      dtype='object')\n"
     ]
    },
    {
     "name": "stderr",
     "output_type": "stream",
     "text": [
      "/Users/venramam/anaconda3/lib/python3.7/site-packages/ipykernel_launcher.py:25: SettingWithCopyWarning: \n",
      "A value is trying to be set on a copy of a slice from a DataFrame.\n",
      "Try using .loc[row_indexer,col_indexer] = value instead\n",
      "\n",
      "See the caveats in the documentation: http://pandas.pydata.org/pandas-docs/stable/indexing.html#indexing-view-versus-copy\n",
      "/Users/venramam/anaconda3/lib/python3.7/site-packages/pandas/core/frame.py:3395: SettingWithCopyWarning: \n",
      "A value is trying to be set on a copy of a slice from a DataFrame\n",
      "\n",
      "See the caveats in the documentation: http://pandas.pydata.org/pandas-docs/stable/indexing.html#indexing-view-versus-copy\n",
      "  self.loc._setitem_with_indexer((slice(None), indexer), value)\n",
      "/Users/venramam/anaconda3/lib/python3.7/site-packages/pandas/core/frame.py:3367: SettingWithCopyWarning: \n",
      "A value is trying to be set on a copy of a slice from a DataFrame\n",
      "\n",
      "See the caveats in the documentation: http://pandas.pydata.org/pandas-docs/stable/indexing.html#indexing-view-versus-copy\n",
      "  self._setitem_array(key, value)\n"
     ]
    },
    {
     "name": "stdout",
     "output_type": "stream",
     "text": [
      "                            OLS Regression Results                            \n",
      "==============================================================================\n",
      "Dep. Variable:                    gmv   R-squared:                       0.999\n",
      "Model:                            OLS   Adj. R-squared:                  0.998\n",
      "Method:                 Least Squares   F-statistic:                     1615.\n",
      "Date:                Mon, 02 Mar 2020   Prob (F-statistic):           2.06e-31\n",
      "Time:                        21:05:50   Log-Likelihood:                 124.05\n",
      "No. Observations:                  35   AIC:                            -226.1\n",
      "Df Residuals:                      24   BIC:                            -209.0\n",
      "Df Model:                          10                                         \n",
      "Covariance Type:            nonrobust                                         \n",
      "=====================================================================================\n",
      "                        coef    std err          t      P>|t|      [0.025      0.975]\n",
      "-------------------------------------------------------------------------------------\n",
      "const                -0.0719      0.014     -5.280      0.000      -0.100      -0.044\n",
      "order_week            0.0444      0.010      4.501      0.000       0.024       0.065\n",
      "units                 0.9355      0.012     80.288      0.000       0.912       0.960\n",
      "product_mrp           0.0985      0.007     13.166      0.000       0.083       0.114\n",
      "Total Investment      0.0824      0.033      2.532      0.018       0.015       0.150\n",
      "TV                    0.0190      0.022      0.870      0.393      -0.026       0.064\n",
      "Digital              -0.0123      0.015     -0.843      0.407      -0.042       0.018\n",
      "Content Marketing     0.0440      0.034      1.292      0.208      -0.026       0.114\n",
      "Online marketing     -0.1529      0.044     -3.498      0.002      -0.243      -0.063\n",
      "Stock Index           0.0338      0.009      3.832      0.001       0.016       0.052\n",
      "Max Temp (°C)         0.0134      0.012      1.131      0.269      -0.011       0.038\n",
      "==============================================================================\n",
      "Omnibus:                        0.093   Durbin-Watson:                   2.079\n",
      "Prob(Omnibus):                  0.954   Jarque-Bera (JB):                0.309\n",
      "Skew:                          -0.019   Prob(JB):                        0.857\n",
      "Kurtosis:                       2.541   Cond. No.                         85.6\n",
      "==============================================================================\n",
      "\n",
      "Warnings:\n",
      "[1] Standard Errors assume that the covariance matrix of the errors is correctly specified.\n"
     ]
    },
    {
     "name": "stderr",
     "output_type": "stream",
     "text": [
      "/Users/venramam/anaconda3/lib/python3.7/site-packages/numpy/core/fromnumeric.py:2389: FutureWarning: Method .ptp is deprecated and will be removed in a future version. Use numpy.ptp instead.\n",
      "  return ptp(axis=axis, out=out, **kwargs)\n"
     ]
    }
   ],
   "source": [
    "from sklearn.model_selection import train_test_split\n",
    "\n",
    "# We specify this so that the train and test data set always have the same rows, respectively\n",
    "np.random.seed(0)\n",
    "df_cam_train, df_cam_test = train_test_split(master_homeAudio_multiplicative, train_size = 0.7, test_size = 0.3, random_state = 100)\n",
    "\n",
    "# Rescaling the features\n",
    "\n",
    "from sklearn.preprocessing import MinMaxScaler\n",
    "scaler = MinMaxScaler()\n",
    "\n",
    "\n",
    "\n",
    "# Apply scaler() to all the numeric columns except the flag variables\n",
    "print(master_cameraAccessory_multiplicative.columns)\n",
    "\n",
    "# excluding 's1_fact.order_payment_type',holiday_flag and payday_flag as there are many values as 0 in such data\n",
    "# when taking log it turns to be infinity\n",
    "num_vars = ['order_week', 'gmv', 'units', 'sla',\n",
    "       'product_mrp', 'product_procurement_sla','Total Investment', 'TV','Digital', 'Sponsorship', 'Content Marketing',\n",
    "       'Online marketing','NPS', 'Stock Index','Max Temp (°C)','Min Temp (°C)']\n",
    "#       'Cool Deg Days (°C)','Total Rain (mm)',\n",
    "#       'Total Snow (cm)', 'Snow on Grnd (cm)']\n",
    "\n",
    "df_cam_train[num_vars] = scaler.fit_transform(df_cam_train[num_vars])\n",
    "\n",
    "\n",
    "### Base Linear Model using RFE\n",
    "## Replacing the inf values with mean values of the columns\n",
    "y_train = df_cam_train.pop('gmv')\n",
    "df_cam_train = df_cam_train.replace([np.inf, -np.inf], np.nan)\n",
    "df_cam_train.fillna(df_cam_train.mean(), inplace=True)\n",
    "X_train = df_cam_train\n",
    "\n",
    "\n",
    "# Importing RFE and LinearRegression\n",
    "from sklearn.feature_selection import RFE\n",
    "from sklearn.linear_model import LinearRegression\n",
    "\n",
    "# Running RFE with the output number of the variable equal to 10\n",
    "lm = LinearRegression()\n",
    "lm.fit(X_train, y_train)\n",
    "\n",
    "rfe = RFE(lm, 10)             # running RFE\n",
    "rfe = rfe.fit(X_train, y_train)\n",
    "\n",
    "list(zip(X_train.columns,rfe.support_,rfe.ranking_))\n",
    "\n",
    "col = X_train.columns[rfe.support_]\n",
    "col\n",
    "\n",
    "X_train.columns[~rfe.support_]\n",
    "\n",
    "#### Building model using statsmodel, for the detailed statistics\n",
    "\n",
    "# Creating X_test dataframe with RFE selected variables\n",
    "X_train_rfe = X_train[col]\n",
    "\n",
    "# Adding a constant variable \n",
    "import statsmodels.api as sm  \n",
    "X_train_rfe = sm.add_constant(X_train_rfe)\n",
    "\n",
    "lm = sm.OLS(y_train,X_train_rfe).fit()  \n",
    "\n",
    "#Let's see the summary of our linear model\n",
    "print(lm.summary())"
   ]
  },
  {
   "cell_type": "code",
   "execution_count": 134,
   "metadata": {},
   "outputs": [
    {
     "name": "stdout",
     "output_type": "stream",
     "text": [
      "                            OLS Regression Results                            \n",
      "==============================================================================\n",
      "Dep. Variable:                    gmv   R-squared:                       0.998\n",
      "Model:                            OLS   Adj. R-squared:                  0.998\n",
      "Method:                 Least Squares   F-statistic:                     2398.\n",
      "Date:                Mon, 02 Mar 2020   Prob (F-statistic):           5.14e-36\n",
      "Time:                        21:05:50   Log-Likelihood:                 122.67\n",
      "No. Observations:                  35   AIC:                            -229.3\n",
      "Df Residuals:                      27   BIC:                            -216.9\n",
      "Df Model:                           7                                         \n",
      "Covariance Type:            nonrobust                                         \n",
      "====================================================================================\n",
      "                       coef    std err          t      P>|t|      [0.025      0.975]\n",
      "------------------------------------------------------------------------------------\n",
      "const               -0.0734      0.010     -7.249      0.000      -0.094      -0.053\n",
      "order_week           0.0462      0.010      4.830      0.000       0.027       0.066\n",
      "units                0.9421      0.010     90.963      0.000       0.921       0.963\n",
      "product_mrp          0.0965      0.006     15.058      0.000       0.083       0.110\n",
      "Total Investment     0.0885      0.016      5.666      0.000       0.056       0.121\n",
      "Online marketing    -0.1065      0.016     -6.585      0.000      -0.140      -0.073\n",
      "Stock Index          0.0268      0.005      5.262      0.000       0.016       0.037\n",
      "Max Temp (°C)        0.0120      0.009      1.274      0.214      -0.007       0.031\n",
      "==============================================================================\n",
      "Omnibus:                        0.277   Durbin-Watson:                   2.114\n",
      "Prob(Omnibus):                  0.871   Jarque-Bera (JB):                0.438\n",
      "Skew:                           0.166   Prob(JB):                        0.803\n",
      "Kurtosis:                       2.564   Cond. No.                         32.1\n",
      "==============================================================================\n",
      "\n",
      "Warnings:\n",
      "[1] Standard Errors assume that the covariance matrix of the errors is correctly specified.\n"
     ]
    }
   ],
   "source": [
    "X_train_rfe = X_train_rfe.drop([\"Digital\", \"TV\", \"Content Marketing\"], axis = 1)\n",
    "X_train_lm = sm.add_constant(X_train_rfe)\n",
    "lm = sm.OLS(y_train,X_train_lm).fit() \n",
    "print(lm.summary())"
   ]
  },
  {
   "cell_type": "code",
   "execution_count": 135,
   "metadata": {
    "scrolled": true
   },
   "outputs": [
    {
     "name": "stdout",
     "output_type": "stream",
     "text": [
      "                            OLS Regression Results                            \n",
      "==============================================================================\n",
      "Dep. Variable:                    gmv   R-squared:                       0.998\n",
      "Model:                            OLS   Adj. R-squared:                  0.998\n",
      "Method:                 Least Squares   F-statistic:                     2737.\n",
      "Date:                Mon, 02 Mar 2020   Prob (F-statistic):           2.05e-37\n",
      "Time:                        21:05:50   Log-Likelihood:                 121.65\n",
      "No. Observations:                  35   AIC:                            -229.3\n",
      "Df Residuals:                      28   BIC:                            -218.4\n",
      "Df Model:                           6                                         \n",
      "Covariance Type:            nonrobust                                         \n",
      "====================================================================================\n",
      "                       coef    std err          t      P>|t|      [0.025      0.975]\n",
      "------------------------------------------------------------------------------------\n",
      "const               -0.0637      0.007     -9.426      0.000      -0.078      -0.050\n",
      "order_week           0.0490      0.009      5.219      0.000       0.030       0.068\n",
      "units                0.9437      0.010     90.718      0.000       0.922       0.965\n",
      "product_mrp          0.0947      0.006     14.989      0.000       0.082       0.108\n",
      "Total Investment     0.0990      0.013      7.356      0.000       0.071       0.127\n",
      "Online marketing    -0.1189      0.013     -9.110      0.000      -0.146      -0.092\n",
      "Stock Index          0.0298      0.005      6.514      0.000       0.020       0.039\n",
      "==============================================================================\n",
      "Omnibus:                        0.834   Durbin-Watson:                   2.041\n",
      "Prob(Omnibus):                  0.659   Jarque-Bera (JB):                0.801\n",
      "Skew:                           0.127   Prob(JB):                        0.670\n",
      "Kurtosis:                       2.304   Cond. No.                         23.3\n",
      "==============================================================================\n",
      "\n",
      "Warnings:\n",
      "[1] Standard Errors assume that the covariance matrix of the errors is correctly specified.\n"
     ]
    }
   ],
   "source": [
    "X_train_rfe = X_train_rfe.drop([\"Max Temp (°C)\"], axis = 1)\n",
    "X_train_lm = sm.add_constant(X_train_rfe)\n",
    "lm = sm.OLS(y_train,X_train_lm).fit() \n",
    "print(lm.summary())"
   ]
  },
  {
   "cell_type": "markdown",
   "metadata": {},
   "source": [
    "##### Multiplicative Model gives perfect model for Home Audio"
   ]
  },
  {
   "cell_type": "markdown",
   "metadata": {},
   "source": [
    "## Gaming Accessory"
   ]
  },
  {
   "cell_type": "markdown",
   "metadata": {},
   "source": [
    "### Base Linear Model for Gaming Accessory"
   ]
  },
  {
   "cell_type": "code",
   "execution_count": 136,
   "metadata": {},
   "outputs": [
    {
     "name": "stderr",
     "output_type": "stream",
     "text": [
      "/Users/venramam/anaconda3/lib/python3.7/site-packages/sklearn/preprocessing/data.py:334: DataConversionWarning: Data with input dtype int64, float64 were all converted to float64 by MinMaxScaler.\n",
      "  return self.partial_fit(X, y)\n",
      "/Users/venramam/anaconda3/lib/python3.7/site-packages/ipykernel_launcher.py:21: SettingWithCopyWarning: \n",
      "A value is trying to be set on a copy of a slice from a DataFrame.\n",
      "Try using .loc[row_indexer,col_indexer] = value instead\n",
      "\n",
      "See the caveats in the documentation: http://pandas.pydata.org/pandas-docs/stable/indexing.html#indexing-view-versus-copy\n",
      "/Users/venramam/anaconda3/lib/python3.7/site-packages/pandas/core/indexing.py:543: SettingWithCopyWarning: \n",
      "A value is trying to be set on a copy of a slice from a DataFrame.\n",
      "Try using .loc[row_indexer,col_indexer] = value instead\n",
      "\n",
      "See the caveats in the documentation: http://pandas.pydata.org/pandas-docs/stable/indexing.html#indexing-view-versus-copy\n",
      "  self.obj[item] = s\n"
     ]
    },
    {
     "name": "stdout",
     "output_type": "stream",
     "text": [
      "[('order_week', False, 10), ('units', True, 1), ('s1_fact.order_payment_type', False, 13), ('sla', False, 9), ('product_mrp', True, 1), ('product_procurement_sla', False, 7), ('holiday_flag', False, 12), ('payday_flag', False, 8), ('Total Investment', True, 1), ('TV', False, 4), ('Digital', True, 1), ('Sponsorship', True, 1), ('Content Marketing', True, 1), ('Online marketing', True, 1), ('NPS', False, 3), ('Stock Index', True, 1), ('Max Temp (°C)', True, 1), ('Min Temp (°C)', True, 1), ('Cool Deg Days (°C)', False, 2), ('Total Rain (mm)', False, 11), ('Total Snow (cm)', False, 5), ('Snow on Grnd (cm)', False, 6)]\n",
      "Index(['units', 'product_mrp', 'Total Investment', 'Digital', 'Sponsorship',\n",
      "       'Content Marketing', 'Online marketing', 'Stock Index', 'Max Temp (°C)',\n",
      "       'Min Temp (°C)'],\n",
      "      dtype='object')\n",
      "                            OLS Regression Results                            \n",
      "==============================================================================\n",
      "Dep. Variable:                    gmv   R-squared:                       0.973\n",
      "Model:                            OLS   Adj. R-squared:                  0.963\n",
      "Method:                 Least Squares   F-statistic:                     95.10\n",
      "Date:                Mon, 02 Mar 2020   Prob (F-statistic):           7.23e-18\n",
      "Time:                        21:05:51   Log-Likelihood:                 74.332\n",
      "No. Observations:                  37   AIC:                            -126.7\n",
      "Df Residuals:                      26   BIC:                            -108.9\n",
      "Df Model:                          10                                         \n",
      "Covariance Type:            nonrobust                                         \n",
      "=====================================================================================\n",
      "                        coef    std err          t      P>|t|      [0.025      0.975]\n",
      "-------------------------------------------------------------------------------------\n",
      "const                -0.1194      0.055     -2.187      0.038      -0.232      -0.007\n",
      "units                 1.0354      0.045     22.844      0.000       0.942       1.129\n",
      "product_mrp           0.2422      0.041      5.934      0.000       0.158       0.326\n",
      "Total Investment      0.7212      0.226      3.196      0.004       0.257       1.185\n",
      "Digital              -0.4432      0.140     -3.165      0.004      -0.731      -0.155\n",
      "Sponsorship          -0.1369      0.099     -1.381      0.179      -0.341       0.067\n",
      "Content Marketing     0.0672      0.148      0.455      0.653      -0.236       0.371\n",
      "Online marketing     -0.2912      0.109     -2.670      0.013      -0.515      -0.067\n",
      "Stock Index           0.1165      0.037      3.148      0.004       0.040       0.193\n",
      "Max Temp (°C)        -0.1406      0.070     -2.022      0.054      -0.284       0.002\n",
      "Min Temp (°C)         0.1369      0.074      1.840      0.077      -0.016       0.290\n",
      "==============================================================================\n",
      "Omnibus:                        1.310   Durbin-Watson:                   2.216\n",
      "Prob(Omnibus):                  0.520   Jarque-Bera (JB):                1.198\n",
      "Skew:                          -0.290   Prob(JB):                        0.549\n",
      "Kurtosis:                       2.335   Cond. No.                         76.6\n",
      "==============================================================================\n",
      "\n",
      "Warnings:\n",
      "[1] Standard Errors assume that the covariance matrix of the errors is correctly specified.\n"
     ]
    },
    {
     "name": "stderr",
     "output_type": "stream",
     "text": [
      "/Users/venramam/anaconda3/lib/python3.7/site-packages/numpy/core/fromnumeric.py:2389: FutureWarning: Method .ptp is deprecated and will be removed in a future version. Use numpy.ptp instead.\n",
      "  return ptp(axis=axis, out=out, **kwargs)\n"
     ]
    }
   ],
   "source": [
    "from sklearn.model_selection import train_test_split\n",
    "\n",
    "# We specify this so that the train and test data set always have the same rows, respectively\n",
    "np.random.seed(0)\n",
    "df_gaming_train, df_gaming_test = train_test_split(master_gamingAccessory_df, train_size = 0.7, test_size = 0.3, random_state = 100)\n",
    "\n",
    "# Rescaling the features\n",
    "\n",
    "from sklearn.preprocessing import MinMaxScaler\n",
    "scaler = MinMaxScaler()\n",
    "\n",
    "# Apply scaler() to all the numeric columns except the flag variables\n",
    "\n",
    "\n",
    "num_vars = ['order_week', 'gmv', 'units', 's1_fact.order_payment_type', 'sla',\n",
    "       'product_mrp', 'product_procurement_sla','Total Investment', 'TV','Digital', 'Sponsorship', 'Content Marketing',\n",
    "       'Online marketing','NPS', 'Stock Index','Max Temp (°C)','Min Temp (°C)',\n",
    "       'Cool Deg Days (°C)','Total Rain (mm)',\n",
    "       'Total Snow (cm)', 'Snow on Grnd (cm)']\n",
    "\n",
    "df_gaming_train[num_vars] = scaler.fit_transform(df_gaming_train[num_vars])\n",
    "\n",
    "\n",
    "### Base Linear Model using RFE\n",
    "\n",
    "y_train = df_gaming_train.pop('gmv')\n",
    "X_train = df_gaming_train\n",
    "\n",
    "# Importing RFE and LinearRegression\n",
    "from sklearn.feature_selection import RFE\n",
    "from sklearn.linear_model import LinearRegression\n",
    "\n",
    "# Running RFE with the output number of the variable equal to 10\n",
    "lm = LinearRegression()\n",
    "lm.fit(X_train, y_train)\n",
    "\n",
    "rfe = RFE(lm, 10)             # running RFE\n",
    "rfe = rfe.fit(X_train, y_train)\n",
    "\n",
    "print(list(zip(X_train.columns,rfe.support_,rfe.ranking_)))\n",
    "\n",
    "col = X_train.columns[rfe.support_]\n",
    "print(col)\n",
    "\n",
    "X_train.columns[~rfe.support_]\n",
    "\n",
    "#### Building model using statsmodel, for the detailed statistics\n",
    "\n",
    "# Creating X_train dataframe with RFE selected variables\n",
    "X_train_rfe = X_train[col]\n",
    "\n",
    "# Adding a constant variable \n",
    "import statsmodels.api as sm  \n",
    "X_train_rfe = sm.add_constant(X_train_rfe)\n",
    "\n",
    "lm = sm.OLS(y_train,X_train_rfe).fit() \n",
    "\n",
    "#Let's see the summary of our linear model\n",
    "print(lm.summary())"
   ]
  },
  {
   "cell_type": "code",
   "execution_count": 137,
   "metadata": {},
   "outputs": [
    {
     "name": "stdout",
     "output_type": "stream",
     "text": [
      "                            OLS Regression Results                            \n",
      "==============================================================================\n",
      "Dep. Variable:                    gmv   R-squared:                       0.973\n",
      "Model:                            OLS   Adj. R-squared:                  0.964\n",
      "Method:                 Least Squares   F-statistic:                     108.8\n",
      "Date:                Mon, 02 Mar 2020   Prob (F-statistic):           7.38e-19\n",
      "Time:                        21:05:51   Log-Likelihood:                 74.186\n",
      "No. Observations:                  37   AIC:                            -128.4\n",
      "Df Residuals:                      27   BIC:                            -112.3\n",
      "Df Model:                           9                                         \n",
      "Covariance Type:            nonrobust                                         \n",
      "====================================================================================\n",
      "                       coef    std err          t      P>|t|      [0.025      0.975]\n",
      "------------------------------------------------------------------------------------\n",
      "const               -0.1359      0.040     -3.378      0.002      -0.218      -0.053\n",
      "units                1.0344      0.045     23.192      0.000       0.943       1.126\n",
      "product_mrp          0.2366      0.038      6.175      0.000       0.158       0.315\n",
      "Total Investment     0.7467      0.215      3.466      0.002       0.305       1.189\n",
      "Digital             -0.3917      0.081     -4.825      0.000      -0.558      -0.225\n",
      "Sponsorship         -0.1600      0.084     -1.906      0.067      -0.332       0.012\n",
      "Online marketing    -0.2653      0.092     -2.893      0.007      -0.453      -0.077\n",
      "Stock Index          0.1121      0.035      3.184      0.004       0.040       0.184\n",
      "Max Temp (°C)       -0.1386      0.068     -2.027      0.053      -0.279       0.002\n",
      "Min Temp (°C)        0.1511      0.067      2.268      0.032       0.014       0.288\n",
      "==============================================================================\n",
      "Omnibus:                        1.294   Durbin-Watson:                   2.193\n",
      "Prob(Omnibus):                  0.524   Jarque-Bera (JB):                1.216\n",
      "Skew:                          -0.309   Prob(JB):                        0.544\n",
      "Kurtosis:                       2.363   Cond. No.                         75.7\n",
      "==============================================================================\n",
      "\n",
      "Warnings:\n",
      "[1] Standard Errors assume that the covariance matrix of the errors is correctly specified.\n"
     ]
    }
   ],
   "source": [
    "# Content Marketing has very high p value lets drop it\n",
    "X_train_new=X_train_rfe.drop(['Content Marketing'], axis=1)\n",
    "\n",
    "# Rebuilding the model\n",
    "# Adding a constant variable \n",
    "import statsmodels.api as sm  \n",
    "X_train_lm = sm.add_constant(X_train_new)\n",
    "\n",
    "lm = sm.OLS(y_train,X_train_lm).fit()   # Running the linear model\n",
    "#Let's see the summary of our linear model\n",
    "print(lm.summary())\n"
   ]
  },
  {
   "cell_type": "code",
   "execution_count": 138,
   "metadata": {},
   "outputs": [
    {
     "name": "stdout",
     "output_type": "stream",
     "text": [
      "                            OLS Regression Results                            \n",
      "==============================================================================\n",
      "Dep. Variable:                    gmv   R-squared:                       0.970\n",
      "Model:                            OLS   Adj. R-squared:                  0.961\n",
      "Method:                 Least Squares   F-statistic:                     111.5\n",
      "Date:                Mon, 02 Mar 2020   Prob (F-statistic):           3.64e-19\n",
      "Time:                        21:05:51   Log-Likelihood:                 71.851\n",
      "No. Observations:                  37   AIC:                            -125.7\n",
      "Df Residuals:                      28   BIC:                            -111.2\n",
      "Df Model:                           8                                         \n",
      "Covariance Type:            nonrobust                                         \n",
      "====================================================================================\n",
      "                       coef    std err          t      P>|t|      [0.025      0.975]\n",
      "------------------------------------------------------------------------------------\n",
      "const               -0.1112      0.040     -2.791      0.009      -0.193      -0.030\n",
      "units                1.0262      0.046     22.101      0.000       0.931       1.121\n",
      "product_mrp          0.2410      0.040      6.025      0.000       0.159       0.323\n",
      "Total Investment     0.4051      0.125      3.242      0.003       0.149       0.661\n",
      "Digital             -0.3028      0.069     -4.358      0.000      -0.445      -0.160\n",
      "Online marketing    -0.1654      0.079     -2.102      0.045      -0.327      -0.004\n",
      "Stock Index          0.0819      0.033      2.491      0.019       0.015       0.149\n",
      "Max Temp (°C)       -0.1201      0.071     -1.697      0.101      -0.265       0.025\n",
      "Min Temp (°C)        0.1216      0.068      1.795      0.083      -0.017       0.260\n",
      "==============================================================================\n",
      "Omnibus:                        0.832   Durbin-Watson:                   2.029\n",
      "Prob(Omnibus):                  0.660   Jarque-Bera (JB):                0.772\n",
      "Skew:                          -0.039   Prob(JB):                        0.680\n",
      "Kurtosis:                       2.296   Cond. No.                         45.1\n",
      "==============================================================================\n",
      "\n",
      "Warnings:\n",
      "[1] Standard Errors assume that the covariance matrix of the errors is correctly specified.\n"
     ]
    }
   ],
   "source": [
    "# Sponsorship has also high p value lets drop it\n",
    "X_train_new1=X_train_new.drop(['Sponsorship'], axis=1)\n",
    "\n",
    "# Rebuilding the model\n",
    "# Adding a constant variable \n",
    "import statsmodels.api as sm  \n",
    "X_train_lm = sm.add_constant(X_train_new1)\n",
    "\n",
    "lm = sm.OLS(y_train,X_train_lm).fit()   # Running the linear model\n",
    "#Let's see the summary of our linear model\n",
    "print(lm.summary())"
   ]
  },
  {
   "cell_type": "code",
   "execution_count": 139,
   "metadata": {},
   "outputs": [
    {
     "name": "stdout",
     "output_type": "stream",
     "text": [
      "                            OLS Regression Results                            \n",
      "==============================================================================\n",
      "Dep. Variable:                    gmv   R-squared:                       0.966\n",
      "Model:                            OLS   Adj. R-squared:                  0.958\n",
      "Method:                 Least Squares   F-statistic:                     119.3\n",
      "Date:                Mon, 02 Mar 2020   Prob (F-statistic):           1.24e-19\n",
      "Time:                        21:05:51   Log-Likelihood:                 70.041\n",
      "No. Observations:                  37   AIC:                            -124.1\n",
      "Df Residuals:                      29   BIC:                            -111.2\n",
      "Df Model:                           7                                         \n",
      "Covariance Type:            nonrobust                                         \n",
      "====================================================================================\n",
      "                       coef    std err          t      P>|t|      [0.025      0.975]\n",
      "------------------------------------------------------------------------------------\n",
      "const               -0.1082      0.041     -2.634      0.013      -0.192      -0.024\n",
      "units                1.0252      0.048     21.399      0.000       0.927       1.123\n",
      "product_mrp          0.2165      0.039      5.624      0.000       0.138       0.295\n",
      "Total Investment     0.3772      0.128      2.951      0.006       0.116       0.639\n",
      "Digital             -0.2879      0.071     -4.047      0.000      -0.433      -0.142\n",
      "Online marketing    -0.1342      0.079     -1.700      0.100      -0.296       0.027\n",
      "Stock Index          0.0685      0.033      2.079      0.047       0.001       0.136\n",
      "Min Temp (°C)        0.0301      0.042      0.711      0.483      -0.056       0.117\n",
      "==============================================================================\n",
      "Omnibus:                        1.035   Durbin-Watson:                   2.235\n",
      "Prob(Omnibus):                  0.596   Jarque-Bera (JB):                0.652\n",
      "Skew:                           0.325   Prob(JB):                        0.722\n",
      "Kurtosis:                       2.986   Cond. No.                         42.8\n",
      "==============================================================================\n",
      "\n",
      "Warnings:\n",
      "[1] Standard Errors assume that the covariance matrix of the errors is correctly specified.\n"
     ]
    }
   ],
   "source": [
    "# Max Temp (°C) has high p value lets drop it\n",
    "X_train_new2=X_train_new1.drop(['Max Temp (°C)'], axis=1)\n",
    "\n",
    "# Rebuilding the model\n",
    "# Adding a constant variable \n",
    "import statsmodels.api as sm  \n",
    "X_train_lm = sm.add_constant(X_train_new2)\n",
    "\n",
    "lm = sm.OLS(y_train,X_train_lm).fit()   # Running the linear model\n",
    "#Let's see the summary of our linear model\n",
    "print(lm.summary())"
   ]
  },
  {
   "cell_type": "code",
   "execution_count": 140,
   "metadata": {},
   "outputs": [
    {
     "name": "stdout",
     "output_type": "stream",
     "text": [
      "                            OLS Regression Results                            \n",
      "==============================================================================\n",
      "Dep. Variable:                    gmv   R-squared:                       0.966\n",
      "Model:                            OLS   Adj. R-squared:                  0.959\n",
      "Method:                 Least Squares   F-statistic:                     141.4\n",
      "Date:                Mon, 02 Mar 2020   Prob (F-statistic):           1.27e-20\n",
      "Time:                        21:05:51   Log-Likelihood:                 69.721\n",
      "No. Observations:                  37   AIC:                            -125.4\n",
      "Df Residuals:                      30   BIC:                            -114.2\n",
      "Df Model:                           6                                         \n",
      "Covariance Type:            nonrobust                                         \n",
      "====================================================================================\n",
      "                       coef    std err          t      P>|t|      [0.025      0.975]\n",
      "------------------------------------------------------------------------------------\n",
      "const               -0.0905      0.032     -2.788      0.009      -0.157      -0.024\n",
      "units                1.0274      0.047     21.672      0.000       0.931       1.124\n",
      "product_mrp          0.2166      0.038      5.671      0.000       0.139       0.295\n",
      "Total Investment     0.4380      0.094      4.650      0.000       0.246       0.630\n",
      "Digital             -0.3127      0.062     -5.083      0.000      -0.438      -0.187\n",
      "Online marketing    -0.1795      0.046     -3.876      0.001      -0.274      -0.085\n",
      "Stock Index          0.0815      0.027      3.010      0.005       0.026       0.137\n",
      "==============================================================================\n",
      "Omnibus:                        0.918   Durbin-Watson:                   2.360\n",
      "Prob(Omnibus):                  0.632   Jarque-Bera (JB):                0.620\n",
      "Skew:                           0.315   Prob(JB):                        0.733\n",
      "Kurtosis:                       2.931   Cond. No.                         29.1\n",
      "==============================================================================\n",
      "\n",
      "Warnings:\n",
      "[1] Standard Errors assume that the covariance matrix of the errors is correctly specified.\n"
     ]
    }
   ],
   "source": [
    "# Min Temp (°C) has high p value lets drop it\n",
    "X_train_new3=X_train_new2.drop(['Min Temp (°C)'], axis=1)\n",
    "\n",
    "# Rebuilding the model\n",
    "# Adding a constant variable \n",
    "import statsmodels.api as sm  \n",
    "X_train_lm = sm.add_constant(X_train_new3)\n",
    "\n",
    "lm = sm.OLS(y_train,X_train_lm).fit()   # Running the linear model\n",
    "#Let's see the summary of our linear model\n",
    "print(lm.summary())"
   ]
  },
  {
   "cell_type": "code",
   "execution_count": 141,
   "metadata": {},
   "outputs": [
    {
     "data": {
      "text/html": [
       "<div>\n",
       "<style scoped>\n",
       "    .dataframe tbody tr th:only-of-type {\n",
       "        vertical-align: middle;\n",
       "    }\n",
       "\n",
       "    .dataframe tbody tr th {\n",
       "        vertical-align: top;\n",
       "    }\n",
       "\n",
       "    .dataframe thead th {\n",
       "        text-align: right;\n",
       "    }\n",
       "</style>\n",
       "<table border=\"1\" class=\"dataframe\">\n",
       "  <thead>\n",
       "    <tr style=\"text-align: right;\">\n",
       "      <th></th>\n",
       "      <th>Features</th>\n",
       "      <th>VIF</th>\n",
       "    </tr>\n",
       "  </thead>\n",
       "  <tbody>\n",
       "    <tr>\n",
       "      <th>2</th>\n",
       "      <td>Total Investment</td>\n",
       "      <td>47.58</td>\n",
       "    </tr>\n",
       "    <tr>\n",
       "      <th>4</th>\n",
       "      <td>Online marketing</td>\n",
       "      <td>26.42</td>\n",
       "    </tr>\n",
       "    <tr>\n",
       "      <th>1</th>\n",
       "      <td>product_mrp</td>\n",
       "      <td>9.99</td>\n",
       "    </tr>\n",
       "    <tr>\n",
       "      <th>3</th>\n",
       "      <td>Digital</td>\n",
       "      <td>9.83</td>\n",
       "    </tr>\n",
       "    <tr>\n",
       "      <th>0</th>\n",
       "      <td>units</td>\n",
       "      <td>8.21</td>\n",
       "    </tr>\n",
       "    <tr>\n",
       "      <th>5</th>\n",
       "      <td>Stock Index</td>\n",
       "      <td>6.61</td>\n",
       "    </tr>\n",
       "  </tbody>\n",
       "</table>\n",
       "</div>"
      ],
      "text/plain": [
       "           Features    VIF\n",
       "2  Total Investment  47.58\n",
       "4  Online marketing  26.42\n",
       "1       product_mrp   9.99\n",
       "3           Digital   9.83\n",
       "0             units   8.21\n",
       "5       Stock Index   6.61"
      ]
     },
     "execution_count": 141,
     "metadata": {},
     "output_type": "execute_result"
    }
   ],
   "source": [
    "# Now all the kpis have low p value so all are important, lets check vif\n",
    "X_train_lm=X_train_lm.drop(['const'], axis=1)\n",
    "\n",
    "# Calculate the VIFs for the new model\n",
    "from statsmodels.stats.outliers_influence import variance_inflation_factor\n",
    "\n",
    "vif = pd.DataFrame()\n",
    "X = X_train_lm\n",
    "vif['Features'] = X.columns\n",
    "vif['VIF'] = [variance_inflation_factor(X.values, i) for i in range(X.shape[1])]\n",
    "vif['VIF'] = round(vif['VIF'], 2)\n",
    "vif = vif.sort_values(by = \"VIF\", ascending = False)\n",
    "vif"
   ]
  },
  {
   "cell_type": "code",
   "execution_count": 142,
   "metadata": {},
   "outputs": [
    {
     "name": "stdout",
     "output_type": "stream",
     "text": [
      "                            OLS Regression Results                            \n",
      "==============================================================================\n",
      "Dep. Variable:                    gmv   R-squared:                       0.941\n",
      "Model:                            OLS   Adj. R-squared:                  0.932\n",
      "Method:                 Least Squares   F-statistic:                     99.32\n",
      "Date:                Mon, 02 Mar 2020   Prob (F-statistic):           3.94e-18\n",
      "Time:                        21:05:51   Log-Likelihood:                 59.678\n",
      "No. Observations:                  37   AIC:                            -107.4\n",
      "Df Residuals:                      31   BIC:                            -97.69\n",
      "Df Model:                           5                                         \n",
      "Covariance Type:            nonrobust                                         \n",
      "====================================================================================\n",
      "                       coef    std err          t      P>|t|      [0.025      0.975]\n",
      "------------------------------------------------------------------------------------\n",
      "const               -0.0580      0.041     -1.418      0.166      -0.141       0.025\n",
      "units                1.0562      0.061     17.413      0.000       0.933       1.180\n",
      "product_mrp          0.2560      0.048      5.328      0.000       0.158       0.354\n",
      "Digital             -0.0537      0.034     -1.592      0.121      -0.123       0.015\n",
      "Online marketing    -0.0011      0.033     -0.032      0.975      -0.069       0.067\n",
      "Stock Index         -0.0009      0.026     -0.036      0.972      -0.055       0.053\n",
      "==============================================================================\n",
      "Omnibus:                        1.214   Durbin-Watson:                   2.435\n",
      "Prob(Omnibus):                  0.545   Jarque-Bera (JB):                1.208\n",
      "Skew:                           0.359   Prob(JB):                        0.546\n",
      "Kurtosis:                       2.481   Cond. No.                         11.7\n",
      "==============================================================================\n",
      "\n",
      "Warnings:\n",
      "[1] Standard Errors assume that the covariance matrix of the errors is correctly specified.\n"
     ]
    },
    {
     "name": "stderr",
     "output_type": "stream",
     "text": [
      "/Users/venramam/anaconda3/lib/python3.7/site-packages/numpy/core/fromnumeric.py:2389: FutureWarning: Method .ptp is deprecated and will be removed in a future version. Use numpy.ptp instead.\n",
      "  return ptp(axis=axis, out=out, **kwargs)\n"
     ]
    }
   ],
   "source": [
    "# Total investment has high vif, lets drop it\n",
    "X_train_new4=X_train_lm.drop(['Total Investment'], axis=1)\n",
    "\n",
    "# Rebuilding the model\n",
    "# Adding a constant variable \n",
    "import statsmodels.api as sm  \n",
    "X_train_lm = sm.add_constant(X_train_new4)\n",
    "\n",
    "lm = sm.OLS(y_train,X_train_lm).fit()   # Running the linear model\n",
    "#Let's see the summary of our linear model\n",
    "print(lm.summary())"
   ]
  },
  {
   "cell_type": "code",
   "execution_count": 143,
   "metadata": {},
   "outputs": [
    {
     "name": "stdout",
     "output_type": "stream",
     "text": [
      "                            OLS Regression Results                            \n",
      "==============================================================================\n",
      "Dep. Variable:                    gmv   R-squared:                       0.941\n",
      "Model:                            OLS   Adj. R-squared:                  0.934\n",
      "Method:                 Least Squares   F-statistic:                     128.1\n",
      "Date:                Mon, 02 Mar 2020   Prob (F-statistic):           3.24e-19\n",
      "Time:                        21:05:51   Log-Likelihood:                 59.678\n",
      "No. Observations:                  37   AIC:                            -109.4\n",
      "Df Residuals:                      32   BIC:                            -101.3\n",
      "Df Model:                           4                                         \n",
      "Covariance Type:            nonrobust                                         \n",
      "===============================================================================\n",
      "                  coef    std err          t      P>|t|      [0.025      0.975]\n",
      "-------------------------------------------------------------------------------\n",
      "const          -0.0583      0.039     -1.486      0.147      -0.138       0.022\n",
      "units           1.0553      0.052     20.442      0.000       0.950       1.160\n",
      "product_mrp     0.2558      0.047      5.443      0.000       0.160       0.352\n",
      "Digital        -0.0541      0.032     -1.713      0.096      -0.118       0.010\n",
      "Stock Index    -0.0008      0.025     -0.030      0.976      -0.052       0.051\n",
      "==============================================================================\n",
      "Omnibus:                        1.225   Durbin-Watson:                   2.436\n",
      "Prob(Omnibus):                  0.542   Jarque-Bera (JB):                1.217\n",
      "Skew:                           0.362   Prob(JB):                        0.544\n",
      "Kurtosis:                       2.484   Cond. No.                         9.73\n",
      "==============================================================================\n",
      "\n",
      "Warnings:\n",
      "[1] Standard Errors assume that the covariance matrix of the errors is correctly specified.\n"
     ]
    }
   ],
   "source": [
    "# Online marketing has high p value lets drop it\n",
    "X_train_new5=X_train_new4.drop(['Online marketing'], axis=1)\n",
    "\n",
    "# Rebuilding the model\n",
    "# Adding a constant variable \n",
    "import statsmodels.api as sm  \n",
    "X_train_lm = sm.add_constant(X_train_new5)\n",
    "\n",
    "lm = sm.OLS(y_train,X_train_lm).fit()   # Running the linear model\n",
    "#Let's see the summary of our linear model\n",
    "print(lm.summary())"
   ]
  },
  {
   "cell_type": "code",
   "execution_count": 144,
   "metadata": {},
   "outputs": [
    {
     "name": "stdout",
     "output_type": "stream",
     "text": [
      "                            OLS Regression Results                            \n",
      "==============================================================================\n",
      "Dep. Variable:                    gmv   R-squared:                       0.941\n",
      "Model:                            OLS   Adj. R-squared:                  0.936\n",
      "Method:                 Least Squares   F-statistic:                     176.2\n",
      "Date:                Mon, 02 Mar 2020   Prob (F-statistic):           2.23e-20\n",
      "Time:                        21:05:51   Log-Likelihood:                 59.677\n",
      "No. Observations:                  37   AIC:                            -111.4\n",
      "Df Residuals:                      33   BIC:                            -104.9\n",
      "Df Model:                           3                                         \n",
      "Covariance Type:            nonrobust                                         \n",
      "===============================================================================\n",
      "                  coef    std err          t      P>|t|      [0.025      0.975]\n",
      "-------------------------------------------------------------------------------\n",
      "const          -0.0588      0.035     -1.664      0.106      -0.131       0.013\n",
      "units           1.0555      0.050     21.078      0.000       0.954       1.157\n",
      "product_mrp     0.2557      0.046      5.540      0.000       0.162       0.350\n",
      "Digital        -0.0542      0.031     -1.775      0.085      -0.116       0.008\n",
      "==============================================================================\n",
      "Omnibus:                        1.215   Durbin-Watson:                   2.433\n",
      "Prob(Omnibus):                  0.545   Jarque-Bera (JB):                1.209\n",
      "Skew:                           0.360   Prob(JB):                        0.546\n",
      "Kurtosis:                       2.484   Cond. No.                         8.59\n",
      "==============================================================================\n",
      "\n",
      "Warnings:\n",
      "[1] Standard Errors assume that the covariance matrix of the errors is correctly specified.\n"
     ]
    }
   ],
   "source": [
    "# Online marketing has high p value lets drop it\n",
    "X_train_new6=X_train_new5.drop(['Stock Index'], axis=1)\n",
    "\n",
    "# Rebuilding the model\n",
    "# Adding a constant variable \n",
    "import statsmodels.api as sm  \n",
    "X_train_lm = sm.add_constant(X_train_new6)\n",
    "\n",
    "lm = sm.OLS(y_train,X_train_lm).fit()   # Running the linear model\n",
    "#Let's see the summary of our linear model\n",
    "print(lm.summary())"
   ]
  },
  {
   "cell_type": "code",
   "execution_count": 145,
   "metadata": {},
   "outputs": [
    {
     "name": "stdout",
     "output_type": "stream",
     "text": [
      "                            OLS Regression Results                            \n",
      "==============================================================================\n",
      "Dep. Variable:                    gmv   R-squared:                       0.936\n",
      "Model:                            OLS   Adj. R-squared:                  0.932\n",
      "Method:                 Least Squares   F-statistic:                     247.1\n",
      "Date:                Mon, 02 Mar 2020   Prob (F-statistic):           5.59e-21\n",
      "Time:                        21:05:51   Log-Likelihood:                 57.991\n",
      "No. Observations:                  37   AIC:                            -110.0\n",
      "Df Residuals:                      34   BIC:                            -105.1\n",
      "Df Model:                           2                                         \n",
      "Covariance Type:            nonrobust                                         \n",
      "===============================================================================\n",
      "                  coef    std err          t      P>|t|      [0.025      0.975]\n",
      "-------------------------------------------------------------------------------\n",
      "const          -0.0771      0.035     -2.216      0.033      -0.148      -0.006\n",
      "units           1.0385      0.051     20.492      0.000       0.935       1.141\n",
      "product_mrp     0.2776      0.046      6.051      0.000       0.184       0.371\n",
      "==============================================================================\n",
      "Omnibus:                        1.908   Durbin-Watson:                   2.485\n",
      "Prob(Omnibus):                  0.385   Jarque-Bera (JB):                1.513\n",
      "Skew:                           0.491   Prob(JB):                        0.469\n",
      "Kurtosis:                       2.875   Cond. No.                         8.17\n",
      "==============================================================================\n",
      "\n",
      "Warnings:\n",
      "[1] Standard Errors assume that the covariance matrix of the errors is correctly specified.\n"
     ]
    }
   ],
   "source": [
    "# Digital has high p value lets drop it\n",
    "X_train_new7=X_train_new6.drop(['Digital'], axis=1)\n",
    "\n",
    "# Rebuilding the model\n",
    "# Adding a constant variable \n",
    "import statsmodels.api as sm  \n",
    "X_train_lm = sm.add_constant(X_train_new7)\n",
    "\n",
    "lm = sm.OLS(y_train,X_train_lm).fit()   # Running the linear model\n",
    "#Let's see the summary of our linear model\n",
    "print(lm.summary())"
   ]
  },
  {
   "cell_type": "code",
   "execution_count": 146,
   "metadata": {},
   "outputs": [
    {
     "name": "stderr",
     "output_type": "stream",
     "text": [
      "/Users/venramam/anaconda3/lib/python3.7/site-packages/ipykernel_launcher.py:4: SettingWithCopyWarning: \n",
      "A value is trying to be set on a copy of a slice from a DataFrame.\n",
      "Try using .loc[row_indexer,col_indexer] = value instead\n",
      "\n",
      "See the caveats in the documentation: http://pandas.pydata.org/pandas-docs/stable/indexing.html#indexing-view-versus-copy\n",
      "  after removing the cwd from sys.path.\n",
      "/Users/venramam/anaconda3/lib/python3.7/site-packages/pandas/core/indexing.py:543: SettingWithCopyWarning: \n",
      "A value is trying to be set on a copy of a slice from a DataFrame.\n",
      "Try using .loc[row_indexer,col_indexer] = value instead\n",
      "\n",
      "See the caveats in the documentation: http://pandas.pydata.org/pandas-docs/stable/indexing.html#indexing-view-versus-copy\n",
      "  self.obj[item] = s\n"
     ]
    }
   ],
   "source": [
    "# we are left with only 2 kpis units and product_mrp\n",
    "# lets check prediction on test data\n",
    "\n",
    "df_gaming_test[num_vars] = scaler.transform(df_gaming_test[num_vars])\n",
    "y_test = df_gaming_test.pop('gmv')\n",
    "X_test = df_gaming_test"
   ]
  },
  {
   "cell_type": "code",
   "execution_count": 147,
   "metadata": {},
   "outputs": [
    {
     "name": "stderr",
     "output_type": "stream",
     "text": [
      "/Users/venramam/anaconda3/lib/python3.7/site-packages/numpy/core/fromnumeric.py:2389: FutureWarning: Method .ptp is deprecated and will be removed in a future version. Use numpy.ptp instead.\n",
      "  return ptp(axis=axis, out=out, **kwargs)\n"
     ]
    },
    {
     "data": {
      "text/plain": [
       "0.7078551718169936"
      ]
     },
     "execution_count": 147,
     "metadata": {},
     "output_type": "execute_result"
    }
   ],
   "source": [
    "# Creating X_test_new dataframe by dropping variables from X_test\n",
    "X_test_new = X_test[X_train_new7.columns]\n",
    "\n",
    "# Adding a constant variable \n",
    "X_test_new = sm.add_constant(X_test_new)\n",
    "\n",
    "\n",
    "y_test_pred = lm.predict(X_test_new)\n",
    "metrics.r2_score(y_true=y_test, y_pred=y_test_pred)"
   ]
  },
  {
   "cell_type": "markdown",
   "metadata": {},
   "source": [
    "model is overfitting as adjusted R-square for train and test data is very different."
   ]
  },
  {
   "cell_type": "markdown",
   "metadata": {},
   "source": [
    "### Koyck Model for Gaming Accessory"
   ]
  },
  {
   "cell_type": "code",
   "execution_count": 148,
   "metadata": {},
   "outputs": [
    {
     "name": "stderr",
     "output_type": "stream",
     "text": [
      "/Users/venramam/anaconda3/lib/python3.7/site-packages/sklearn/preprocessing/data.py:334: DataConversionWarning: Data with input dtype int64, float64 were all converted to float64 by MinMaxScaler.\n",
      "  return self.partial_fit(X, y)\n",
      "/Users/venramam/anaconda3/lib/python3.7/site-packages/ipykernel_launcher.py:18: SettingWithCopyWarning: \n",
      "A value is trying to be set on a copy of a slice from a DataFrame.\n",
      "Try using .loc[row_indexer,col_indexer] = value instead\n",
      "\n",
      "See the caveats in the documentation: http://pandas.pydata.org/pandas-docs/stable/indexing.html#indexing-view-versus-copy\n",
      "/Users/venramam/anaconda3/lib/python3.7/site-packages/pandas/core/indexing.py:543: SettingWithCopyWarning: \n",
      "A value is trying to be set on a copy of a slice from a DataFrame.\n",
      "Try using .loc[row_indexer,col_indexer] = value instead\n",
      "\n",
      "See the caveats in the documentation: http://pandas.pydata.org/pandas-docs/stable/indexing.html#indexing-view-versus-copy\n",
      "  self.obj[item] = s\n"
     ]
    },
    {
     "name": "stdout",
     "output_type": "stream",
     "text": [
      "0.9256373253198724\n"
     ]
    },
    {
     "name": "stderr",
     "output_type": "stream",
     "text": [
      "/Users/venramam/anaconda3/lib/python3.7/site-packages/ipykernel_launcher.py:31: SettingWithCopyWarning: \n",
      "A value is trying to be set on a copy of a slice from a DataFrame.\n",
      "Try using .loc[row_indexer,col_indexer] = value instead\n",
      "\n",
      "See the caveats in the documentation: http://pandas.pydata.org/pandas-docs/stable/indexing.html#indexing-view-versus-copy\n",
      "/Users/venramam/anaconda3/lib/python3.7/site-packages/pandas/core/indexing.py:543: SettingWithCopyWarning: \n",
      "A value is trying to be set on a copy of a slice from a DataFrame.\n",
      "Try using .loc[row_indexer,col_indexer] = value instead\n",
      "\n",
      "See the caveats in the documentation: http://pandas.pydata.org/pandas-docs/stable/indexing.html#indexing-view-versus-copy\n",
      "  self.obj[item] = s\n"
     ]
    },
    {
     "name": "stdout",
     "output_type": "stream",
     "text": [
      "0.8344651231043998\n"
     ]
    },
    {
     "data": {
      "text/plain": [
       "[('constant', -0.06),\n",
       " ('product_mrp', 0.173),\n",
       " ('units', 1.157),\n",
       " ('lag gmv', 0.084)]"
      ]
     },
     "execution_count": 148,
     "metadata": {},
     "output_type": "execute_result"
    }
   ],
   "source": [
    "master_gaming_koyck=master_gamingAccessory_df.copy()\n",
    "master_gaming_koyck['lag gmv']=master_gaming_koyck['gmv'].shift(1)\n",
    "\n",
    "# For 1st row lag gmv would be NAN, lets exclude this row for analysis\n",
    "master_gaming_koyck=master_gaming_koyck.loc[1:,:]\n",
    "\n",
    "np.random.seed(0)\n",
    "df_gaming_train, df_gaming_test = train_test_split(master_gaming_koyck, train_size = 0.7, test_size = 0.3, random_state = 100)\n",
    "\n",
    "scaler = MinMaxScaler()\n",
    "\n",
    "num_vars = ['order_week','lag gmv', 'gmv', 'units', 's1_fact.order_payment_type', 'sla',\n",
    "       'product_mrp', 'product_procurement_sla','Total Investment', 'TV','Digital', 'Sponsorship', 'Content Marketing',\n",
    "       'Online marketing','NPS', 'Stock Index','Max Temp (°C)','Min Temp (°C)',\n",
    "       'Cool Deg Days (°C)','Total Rain (mm)',\n",
    "       'Total Snow (cm)', 'Snow on Grnd (cm)']\n",
    "\n",
    "df_gaming_train[num_vars] = scaler.fit_transform(df_gaming_train[num_vars])\n",
    "\n",
    "y_train = df_gaming_train.pop('gmv')\n",
    "X_train = df_gaming_train\n",
    "\n",
    "selected_kpi=['product_mrp','units','lag gmv']\n",
    "lm = LinearRegression()\n",
    "lm.fit(X_train[selected_kpi], y_train)\n",
    "from sklearn import metrics\n",
    "# predict\n",
    "y_train_pred = lm.predict(X_train[selected_kpi])\n",
    "print(metrics.r2_score(y_true=y_train, y_pred=y_train_pred))\n",
    "\n",
    "df_gaming_test[num_vars] = scaler.transform(df_gaming_test[num_vars])\n",
    "y_test = df_gaming_test.pop('gmv')\n",
    "X_test = df_gaming_test\n",
    "\n",
    "y_test_pred = lm.predict(X_test[selected_kpi])\n",
    "print(metrics.r2_score(y_true=y_test, y_pred=y_test_pred))\n",
    "\n",
    "# model coefficients\n",
    "model_parameters = list(lm.coef_)\n",
    "model_parameters.insert(0, lm.intercept_)\n",
    "model_parameters = [round(x, 3) for x in model_parameters]\n",
    "cols = X_test[selected_kpi].columns\n",
    "cols = cols.insert(0, \"constant\")\n",
    "list(zip(cols, model_parameters))\n"
   ]
  },
  {
   "cell_type": "markdown",
   "metadata": {},
   "source": [
    "Koyck model is performing better than basic linear model\n"
   ]
  },
  {
   "cell_type": "markdown",
   "metadata": {},
   "source": [
    "### Distributed Lag Model for Gaming Accessory"
   ]
  },
  {
   "cell_type": "code",
   "execution_count": 149,
   "metadata": {},
   "outputs": [
    {
     "name": "stderr",
     "output_type": "stream",
     "text": [
      "/Users/venramam/anaconda3/lib/python3.7/site-packages/sklearn/preprocessing/data.py:334: DataConversionWarning: Data with input dtype int64, float64 were all converted to float64 by MinMaxScaler.\n",
      "  return self.partial_fit(X, y)\n",
      "/Users/venramam/anaconda3/lib/python3.7/site-packages/ipykernel_launcher.py:20: SettingWithCopyWarning: \n",
      "A value is trying to be set on a copy of a slice from a DataFrame.\n",
      "Try using .loc[row_indexer,col_indexer] = value instead\n",
      "\n",
      "See the caveats in the documentation: http://pandas.pydata.org/pandas-docs/stable/indexing.html#indexing-view-versus-copy\n",
      "/Users/venramam/anaconda3/lib/python3.7/site-packages/pandas/core/indexing.py:543: SettingWithCopyWarning: \n",
      "A value is trying to be set on a copy of a slice from a DataFrame.\n",
      "Try using .loc[row_indexer,col_indexer] = value instead\n",
      "\n",
      "See the caveats in the documentation: http://pandas.pydata.org/pandas-docs/stable/indexing.html#indexing-view-versus-copy\n",
      "  self.obj[item] = s\n"
     ]
    },
    {
     "name": "stdout",
     "output_type": "stream",
     "text": [
      "0.9489813803057792\n"
     ]
    },
    {
     "name": "stderr",
     "output_type": "stream",
     "text": [
      "/Users/venramam/anaconda3/lib/python3.7/site-packages/ipykernel_launcher.py:33: SettingWithCopyWarning: \n",
      "A value is trying to be set on a copy of a slice from a DataFrame.\n",
      "Try using .loc[row_indexer,col_indexer] = value instead\n",
      "\n",
      "See the caveats in the documentation: http://pandas.pydata.org/pandas-docs/stable/indexing.html#indexing-view-versus-copy\n",
      "/Users/venramam/anaconda3/lib/python3.7/site-packages/pandas/core/indexing.py:543: SettingWithCopyWarning: \n",
      "A value is trying to be set on a copy of a slice from a DataFrame.\n",
      "Try using .loc[row_indexer,col_indexer] = value instead\n",
      "\n",
      "See the caveats in the documentation: http://pandas.pydata.org/pandas-docs/stable/indexing.html#indexing-view-versus-copy\n",
      "  self.obj[item] = s\n"
     ]
    },
    {
     "name": "stdout",
     "output_type": "stream",
     "text": [
      "0.2513887208002782\n"
     ]
    },
    {
     "data": {
      "text/plain": [
       "[('constant', 0.026),\n",
       " ('lag product_mrp', -0.316),\n",
       " ('product_mrp', 0.303),\n",
       " ('lag units', -0.536),\n",
       " ('units', 1.195),\n",
       " ('lag gmv', 0.568)]"
      ]
     },
     "execution_count": 149,
     "metadata": {},
     "output_type": "execute_result"
    }
   ],
   "source": [
    "# adding lag for all the independent variables also- 'units','product_mrp'\n",
    "\n",
    "master_gaming_dlag=master_gamingAccessory_df.copy()\n",
    "\n",
    "master_gaming_dlag['lag gmv']=master_gaming_dlag['gmv'].shift(1)\n",
    "master_gaming_dlag['lag product_mrp']=master_gaming_dlag['product_mrp'].shift(1)\n",
    "master_gaming_dlag['lag units']=master_gaming_dlag['units'].shift(1)\n",
    "\n",
    "# For 1st row lag variables would be NAN, lets exclude this row for analysis\n",
    "master_gaming_dlag=master_gaming_dlag.loc[1:,:]\n",
    "\n",
    "np.random.seed(0)\n",
    "df_gaming_train, df_gaming_test = train_test_split(master_gaming_dlag, train_size = 0.7, test_size = 0.3, random_state = 100)\n",
    "\n",
    "num_vars = ['order_week','lag gmv', 'gmv', 'lag units','units', 's1_fact.order_payment_type','sla','lag product_mrp',\n",
    "            'product_mrp', 'product_procurement_sla','Total Investment', 'TV',\n",
    "            'Digital', 'Sponsorship','Content Marketing','Online marketing','NPS', 'Stock Index','Max Temp (°C)',\n",
    "            'Min Temp (°C)','Cool Deg Days (°C)','Total Rain (mm)', 'Total Snow (cm)', 'Snow on Grnd (cm)']\n",
    "\n",
    "df_gaming_train[num_vars] = scaler.fit_transform(df_gaming_train[num_vars])\n",
    "\n",
    "y_train = df_gaming_train.pop('gmv')\n",
    "X_train = df_gaming_train\n",
    "\n",
    "selected_kpi=['lag product_mrp','product_mrp','lag units','units','lag gmv']\n",
    "lm = LinearRegression()\n",
    "lm.fit(X_train[selected_kpi], y_train)\n",
    "from sklearn import metrics\n",
    "# predict\n",
    "y_train_pred = lm.predict(X_train[selected_kpi])\n",
    "print(metrics.r2_score(y_true=y_train, y_pred=y_train_pred))\n",
    "\n",
    "df_gaming_test[num_vars] = scaler.transform(df_gaming_test[num_vars])\n",
    "y_test = df_gaming_test.pop('gmv')\n",
    "X_test = df_gaming_test\n",
    "\n",
    "y_test_pred = lm.predict(X_test[selected_kpi])\n",
    "print(metrics.r2_score(y_true=y_test, y_pred=y_test_pred))\n",
    "\n",
    "# model coefficients\n",
    "model_parameters = list(lm.coef_)\n",
    "model_parameters.insert(0, lm.intercept_)\n",
    "model_parameters = [round(x, 3) for x in model_parameters]\n",
    "cols = X_test[selected_kpi].columns\n",
    "cols = cols.insert(0, \"constant\")\n",
    "list(zip(cols, model_parameters))\n",
    "\n"
   ]
  },
  {
   "cell_type": "markdown",
   "metadata": {},
   "source": [
    "distributed lag model is performing very poorly "
   ]
  },
  {
   "cell_type": "markdown",
   "metadata": {},
   "source": [
    "### Multiplicative Model for Gaming Accessory"
   ]
  },
  {
   "cell_type": "code",
   "execution_count": 150,
   "metadata": {},
   "outputs": [
    {
     "name": "stderr",
     "output_type": "stream",
     "text": [
      "/Users/venramam/anaconda3/lib/python3.7/site-packages/ipykernel_launcher.py:3: RuntimeWarning: divide by zero encountered in log\n",
      "  This is separate from the ipykernel package so we can avoid doing imports until\n",
      "/Users/venramam/anaconda3/lib/python3.7/site-packages/ipykernel_launcher.py:3: RuntimeWarning: invalid value encountered in log\n",
      "  This is separate from the ipykernel package so we can avoid doing imports until\n"
     ]
    }
   ],
   "source": [
    "# taking log of all the dependent and independent variables\n",
    "master_gamingAccessory_multiplicative = master_gamingAccessory_df.copy()\n",
    "master_gamingAccessory_multiplicative = master_gamingAccessory_multiplicative.apply(lambda x: np.log(x) if np.issubdtype(x.dtype, np.number) else x)"
   ]
  },
  {
   "cell_type": "code",
   "execution_count": 151,
   "metadata": {
    "scrolled": true
   },
   "outputs": [
    {
     "name": "stdout",
     "output_type": "stream",
     "text": [
      "Index(['order_week', 'gmv', 'units', 's1_fact.order_payment_type', 'sla',\n",
      "       'product_mrp', 'product_procurement_sla', 'holiday_flag', 'payday_flag',\n",
      "       'Total Investment', 'TV', 'Digital', 'Sponsorship', 'Content Marketing',\n",
      "       'Online marketing', 'NPS', 'Stock Index', 'Max Temp (°C)',\n",
      "       'Min Temp (°C)', 'Cool Deg Days (°C)', 'Total Rain (mm)',\n",
      "       'Total Snow (cm)', 'Snow on Grnd (cm)'],\n",
      "      dtype='object')\n"
     ]
    },
    {
     "name": "stderr",
     "output_type": "stream",
     "text": [
      "/Users/venramam/anaconda3/lib/python3.7/site-packages/ipykernel_launcher.py:25: SettingWithCopyWarning: \n",
      "A value is trying to be set on a copy of a slice from a DataFrame.\n",
      "Try using .loc[row_indexer,col_indexer] = value instead\n",
      "\n",
      "See the caveats in the documentation: http://pandas.pydata.org/pandas-docs/stable/indexing.html#indexing-view-versus-copy\n",
      "/Users/venramam/anaconda3/lib/python3.7/site-packages/pandas/core/frame.py:3395: SettingWithCopyWarning: \n",
      "A value is trying to be set on a copy of a slice from a DataFrame\n",
      "\n",
      "See the caveats in the documentation: http://pandas.pydata.org/pandas-docs/stable/indexing.html#indexing-view-versus-copy\n",
      "  self.loc._setitem_with_indexer((slice(None), indexer), value)\n",
      "/Users/venramam/anaconda3/lib/python3.7/site-packages/pandas/core/frame.py:3367: SettingWithCopyWarning: \n",
      "A value is trying to be set on a copy of a slice from a DataFrame\n",
      "\n",
      "See the caveats in the documentation: http://pandas.pydata.org/pandas-docs/stable/indexing.html#indexing-view-versus-copy\n",
      "  self._setitem_array(key, value)\n",
      "/Users/venramam/anaconda3/lib/python3.7/site-packages/numpy/core/fromnumeric.py:2389: FutureWarning: Method .ptp is deprecated and will be removed in a future version. Use numpy.ptp instead.\n",
      "  return ptp(axis=axis, out=out, **kwargs)\n"
     ]
    },
    {
     "name": "stdout",
     "output_type": "stream",
     "text": [
      "                            OLS Regression Results                            \n",
      "==============================================================================\n",
      "Dep. Variable:                    gmv   R-squared:                       0.999\n",
      "Model:                            OLS   Adj. R-squared:                  0.999\n",
      "Method:                 Least Squares   F-statistic:                     3541.\n",
      "Date:                Mon, 02 Mar 2020   Prob (F-statistic):           4.24e-38\n",
      "Time:                        21:05:56   Log-Likelihood:                 142.03\n",
      "No. Observations:                  37   AIC:                            -262.1\n",
      "Df Residuals:                      26   BIC:                            -244.3\n",
      "Df Model:                          10                                         \n",
      "Covariance Type:            nonrobust                                         \n",
      "=====================================================================================\n",
      "                        coef    std err          t      P>|t|      [0.025      0.975]\n",
      "-------------------------------------------------------------------------------------\n",
      "const                -0.0108      0.009     -1.207      0.238      -0.029       0.008\n",
      "order_week           -0.0190      0.006     -3.264      0.003      -0.031      -0.007\n",
      "units                 0.8950      0.014     62.388      0.000       0.866       0.924\n",
      "product_mrp           0.1410      0.010     14.173      0.000       0.121       0.161\n",
      "TV                    0.0991      0.031      3.241      0.003       0.036       0.162\n",
      "Digital              -0.0212      0.010     -2.064      0.049      -0.042   -8.82e-05\n",
      "Sponsorship           0.0120      0.008      1.493      0.147      -0.005       0.028\n",
      "Content Marketing     0.0392      0.041      0.955      0.348      -0.045       0.123\n",
      "Online marketing     -0.0974      0.063     -1.535      0.137      -0.228       0.033\n",
      "Stock Index           0.0137      0.006      2.339      0.027       0.002       0.026\n",
      "Min Temp (°C)         0.0142      0.007      2.021      0.054      -0.000       0.029\n",
      "==============================================================================\n",
      "Omnibus:                        1.233   Durbin-Watson:                   1.970\n",
      "Prob(Omnibus):                  0.540   Jarque-Bera (JB):                0.906\n",
      "Skew:                          -0.380   Prob(JB):                        0.636\n",
      "Kurtosis:                       2.906   Cond. No.                         198.\n",
      "==============================================================================\n",
      "\n",
      "Warnings:\n",
      "[1] Standard Errors assume that the covariance matrix of the errors is correctly specified.\n"
     ]
    }
   ],
   "source": [
    "from sklearn.model_selection import train_test_split\n",
    "\n",
    "# We specify this so that the train and test data set always have the same rows, respectively\n",
    "np.random.seed(0)\n",
    "df_cam_train, df_cam_test = train_test_split(master_gamingAccessory_multiplicative, train_size = 0.7, test_size = 0.3, random_state = 100)\n",
    "\n",
    "# Rescaling the features\n",
    "\n",
    "from sklearn.preprocessing import MinMaxScaler\n",
    "scaler = MinMaxScaler()\n",
    "\n",
    "\n",
    "\n",
    "# Apply scaler() to all the numeric columns except the flag variables\n",
    "print(master_cameraAccessory_multiplicative.columns)\n",
    "\n",
    "# excluding 's1_fact.order_payment_type',holiday_flag and payday_flag as there are many values as 0 in such data\n",
    "# when taking log it turns to be infinity\n",
    "num_vars = ['order_week', 'gmv', 'units', 'sla',\n",
    "       'product_mrp', 'product_procurement_sla','Total Investment', 'TV','Digital', 'Sponsorship', 'Content Marketing',\n",
    "       'Online marketing','NPS', 'Stock Index','Max Temp (°C)','Min Temp (°C)']\n",
    "#       'Cool Deg Days (°C)','Total Rain (mm)',\n",
    "#       'Total Snow (cm)', 'Snow on Grnd (cm)']\n",
    "\n",
    "df_cam_train[num_vars] = scaler.fit_transform(df_cam_train[num_vars])\n",
    "\n",
    "\n",
    "### Base Linear Model using RFE\n",
    "## Replacing the inf values with mean values of the columns\n",
    "y_train = df_cam_train.pop('gmv')\n",
    "df_cam_train = df_cam_train.replace([np.inf, -np.inf], np.nan)\n",
    "df_cam_train.fillna(df_cam_train.mean(), inplace=True)\n",
    "X_train = df_cam_train\n",
    "\n",
    "\n",
    "# Importing RFE and LinearRegression\n",
    "from sklearn.feature_selection import RFE\n",
    "from sklearn.linear_model import LinearRegression\n",
    "\n",
    "# Running RFE with the output number of the variable equal to 10\n",
    "lm = LinearRegression()\n",
    "lm.fit(X_train, y_train)\n",
    "\n",
    "rfe = RFE(lm, 10)             # running RFE\n",
    "rfe = rfe.fit(X_train, y_train)\n",
    "\n",
    "list(zip(X_train.columns,rfe.support_,rfe.ranking_))\n",
    "\n",
    "col = X_train.columns[rfe.support_]\n",
    "col\n",
    "\n",
    "X_train.columns[~rfe.support_]\n",
    "\n",
    "#### Building model using statsmodel, for the detailed statistics\n",
    "\n",
    "# Creating X_test dataframe with RFE selected variables\n",
    "X_train_rfe = X_train[col]\n",
    "\n",
    "# Adding a constant variable \n",
    "import statsmodels.api as sm  \n",
    "X_train_rfe = sm.add_constant(X_train_rfe)\n",
    "\n",
    "lm = sm.OLS(y_train,X_train_rfe).fit()  \n",
    "\n",
    "#Let's see the summary of our linear model\n",
    "print(lm.summary())"
   ]
  },
  {
   "cell_type": "code",
   "execution_count": 152,
   "metadata": {},
   "outputs": [
    {
     "name": "stdout",
     "output_type": "stream",
     "text": [
      "                            OLS Regression Results                            \n",
      "==============================================================================\n",
      "Dep. Variable:                    gmv   R-squared:                       0.999\n",
      "Model:                            OLS   Adj. R-squared:                  0.999\n",
      "Method:                 Least Squares   F-statistic:                     3947.\n",
      "Date:                Mon, 02 Mar 2020   Prob (F-statistic):           1.02e-39\n",
      "Time:                        21:05:56   Log-Likelihood:                 141.39\n",
      "No. Observations:                  37   AIC:                            -262.8\n",
      "Df Residuals:                      27   BIC:                            -246.7\n",
      "Df Model:                           9                                         \n",
      "Covariance Type:            nonrobust                                         \n",
      "====================================================================================\n",
      "                       coef    std err          t      P>|t|      [0.025      0.975]\n",
      "------------------------------------------------------------------------------------\n",
      "const               -0.0127      0.009     -1.452      0.158      -0.031       0.005\n",
      "order_week          -0.0207      0.006     -3.732      0.001      -0.032      -0.009\n",
      "units                0.8940      0.014     62.585      0.000       0.865       0.923\n",
      "product_mrp          0.1405      0.010     14.165      0.000       0.120       0.161\n",
      "TV                   0.0754      0.018      4.230      0.000       0.039       0.112\n",
      "Digital             -0.0135      0.006     -2.117      0.044      -0.027      -0.000\n",
      "Sponsorship          0.0111      0.008      1.395      0.174      -0.005       0.027\n",
      "Online marketing    -0.0389      0.016     -2.361      0.026      -0.073      -0.005\n",
      "Stock Index          0.0092      0.003      2.652      0.013       0.002       0.016\n",
      "Min Temp (°C)        0.0180      0.006      3.126      0.004       0.006       0.030\n",
      "==============================================================================\n",
      "Omnibus:                        2.178   Durbin-Watson:                   2.124\n",
      "Prob(Omnibus):                  0.337   Jarque-Bera (JB):                2.017\n",
      "Skew:                          -0.502   Prob(JB):                        0.365\n",
      "Kurtosis:                       2.451   Cond. No.                         53.4\n",
      "==============================================================================\n",
      "\n",
      "Warnings:\n",
      "[1] Standard Errors assume that the covariance matrix of the errors is correctly specified.\n"
     ]
    }
   ],
   "source": [
    "X_train_rfe = X_train_rfe.drop([\"Content Marketing\"], axis = 1)\n",
    "X_train_lm = sm.add_constant(X_train_rfe)\n",
    "lm = sm.OLS(y_train,X_train_lm).fit() \n",
    "print(lm.summary())"
   ]
  },
  {
   "cell_type": "code",
   "execution_count": 153,
   "metadata": {},
   "outputs": [
    {
     "name": "stdout",
     "output_type": "stream",
     "text": [
      "                            OLS Regression Results                            \n",
      "==============================================================================\n",
      "Dep. Variable:                    gmv   R-squared:                       0.999\n",
      "Model:                            OLS   Adj. R-squared:                  0.999\n",
      "Method:                 Least Squares   F-statistic:                     4295.\n",
      "Date:                Mon, 02 Mar 2020   Prob (F-statistic):           3.82e-41\n",
      "Time:                        21:05:56   Log-Likelihood:                 140.10\n",
      "No. Observations:                  37   AIC:                            -262.2\n",
      "Df Residuals:                      28   BIC:                            -247.7\n",
      "Df Model:                           8                                         \n",
      "Covariance Type:            nonrobust                                         \n",
      "====================================================================================\n",
      "                       coef    std err          t      P>|t|      [0.025      0.975]\n",
      "------------------------------------------------------------------------------------\n",
      "const               -0.0165      0.008     -1.949      0.061      -0.034       0.001\n",
      "order_week          -0.0208      0.006     -3.681      0.001      -0.032      -0.009\n",
      "units                0.8912      0.014     61.964      0.000       0.862       0.921\n",
      "product_mrp          0.1449      0.010     15.150      0.000       0.125       0.164\n",
      "TV                   0.0783      0.018      4.350      0.000       0.041       0.115\n",
      "Digital             -0.0079      0.005     -1.568      0.128      -0.018       0.002\n",
      "Online marketing    -0.0329      0.016     -2.035      0.051      -0.066       0.000\n",
      "Stock Index          0.0092      0.004      2.591      0.015       0.002       0.016\n",
      "Min Temp (°C)        0.0190      0.006      3.286      0.003       0.007       0.031\n",
      "==============================================================================\n",
      "Omnibus:                        2.104   Durbin-Watson:                   2.322\n",
      "Prob(Omnibus):                  0.349   Jarque-Bera (JB):                1.928\n",
      "Skew:                          -0.526   Prob(JB):                        0.381\n",
      "Kurtosis:                       2.618   Cond. No.                         50.9\n",
      "==============================================================================\n",
      "\n",
      "Warnings:\n",
      "[1] Standard Errors assume that the covariance matrix of the errors is correctly specified.\n"
     ]
    }
   ],
   "source": [
    "X_train_rfe = X_train_rfe.drop([\"Sponsorship\"], axis = 1)\n",
    "X_train_lm = sm.add_constant(X_train_rfe)\n",
    "lm = sm.OLS(y_train,X_train_lm).fit() \n",
    "print(lm.summary())"
   ]
  },
  {
   "cell_type": "code",
   "execution_count": 154,
   "metadata": {},
   "outputs": [
    {
     "name": "stdout",
     "output_type": "stream",
     "text": [
      "                            OLS Regression Results                            \n",
      "==============================================================================\n",
      "Dep. Variable:                    gmv   R-squared:                       0.999\n",
      "Model:                            OLS   Adj. R-squared:                  0.999\n",
      "Method:                 Least Squares   F-statistic:                     4673.\n",
      "Date:                Mon, 02 Mar 2020   Prob (F-statistic):           1.74e-42\n",
      "Time:                        21:05:56   Log-Likelihood:                 138.54\n",
      "No. Observations:                  37   AIC:                            -261.1\n",
      "Df Residuals:                      29   BIC:                            -248.2\n",
      "Df Model:                           7                                         \n",
      "Covariance Type:            nonrobust                                         \n",
      "====================================================================================\n",
      "                       coef    std err          t      P>|t|      [0.025      0.975]\n",
      "------------------------------------------------------------------------------------\n",
      "const               -0.0188      0.009     -2.197      0.036      -0.036      -0.001\n",
      "order_week          -0.0170      0.005     -3.250      0.003      -0.028      -0.006\n",
      "units                0.8913      0.015     60.470      0.000       0.861       0.921\n",
      "product_mrp          0.1473      0.010     15.240      0.000       0.128       0.167\n",
      "TV                   0.0695      0.018      3.965      0.000       0.034       0.105\n",
      "Online marketing    -0.0291      0.016     -1.779      0.086      -0.063       0.004\n",
      "Stock Index          0.0075      0.003      2.164      0.039       0.000       0.015\n",
      "Min Temp (°C)        0.0189      0.006      3.188      0.003       0.007       0.031\n",
      "==============================================================================\n",
      "Omnibus:                        1.958   Durbin-Watson:                   2.266\n",
      "Prob(Omnibus):                  0.376   Jarque-Bera (JB):                1.504\n",
      "Skew:                          -0.492   Prob(JB):                        0.471\n",
      "Kurtosis:                       2.919   Cond. No.                         48.5\n",
      "==============================================================================\n",
      "\n",
      "Warnings:\n",
      "[1] Standard Errors assume that the covariance matrix of the errors is correctly specified.\n"
     ]
    }
   ],
   "source": [
    "X_train_rfe = X_train_rfe.drop([\"Digital\"], axis = 1)\n",
    "X_train_lm = sm.add_constant(X_train_rfe)\n",
    "lm = sm.OLS(y_train,X_train_lm).fit() \n",
    "print(lm.summary())"
   ]
  },
  {
   "cell_type": "code",
   "execution_count": 155,
   "metadata": {},
   "outputs": [
    {
     "name": "stdout",
     "output_type": "stream",
     "text": [
      "                            OLS Regression Results                            \n",
      "==============================================================================\n",
      "Dep. Variable:                    gmv   R-squared:                       0.999\n",
      "Model:                            OLS   Adj. R-squared:                  0.999\n",
      "Method:                 Least Squares   F-statistic:                     5084.\n",
      "Date:                Mon, 02 Mar 2020   Prob (F-statistic):           1.04e-43\n",
      "Time:                        21:05:56   Log-Likelihood:                 136.63\n",
      "No. Observations:                  37   AIC:                            -259.3\n",
      "Df Residuals:                      30   BIC:                            -248.0\n",
      "Df Model:                           6                                         \n",
      "Covariance Type:            nonrobust                                         \n",
      "=================================================================================\n",
      "                    coef    std err          t      P>|t|      [0.025      0.975]\n",
      "---------------------------------------------------------------------------------\n",
      "const            -0.0176      0.009     -2.002      0.054      -0.036       0.000\n",
      "order_week       -0.0210      0.005     -4.304      0.000      -0.031      -0.011\n",
      "units             0.8829      0.014     61.072      0.000       0.853       0.912\n",
      "product_mrp       0.1518      0.010     15.713      0.000       0.132       0.172\n",
      "TV                0.0449      0.011      4.015      0.000       0.022       0.068\n",
      "Stock Index       0.0067      0.004      1.902      0.067      -0.000       0.014\n",
      "Min Temp (°C)     0.0191      0.006      3.106      0.004       0.007       0.032\n",
      "==============================================================================\n",
      "Omnibus:                        1.108   Durbin-Watson:                   2.338\n",
      "Prob(Omnibus):                  0.575   Jarque-Bera (JB):                0.918\n",
      "Skew:                          -0.373   Prob(JB):                        0.632\n",
      "Kurtosis:                       2.801   Cond. No.                         36.1\n",
      "==============================================================================\n",
      "\n",
      "Warnings:\n",
      "[1] Standard Errors assume that the covariance matrix of the errors is correctly specified.\n"
     ]
    }
   ],
   "source": [
    "X_train_rfe = X_train_rfe.drop([\"Online marketing\"], axis = 1)\n",
    "X_train_lm = sm.add_constant(X_train_rfe)\n",
    "lm = sm.OLS(y_train,X_train_lm).fit() \n",
    "print(lm.summary())"
   ]
  },
  {
   "cell_type": "markdown",
   "metadata": {},
   "source": [
    "## Conclusion"
   ]
  },
  {
   "cell_type": "markdown",
   "metadata": {},
   "source": [
    "### With Four models build for each Sub categories, we decided to use the following models for each Sub Category"
   ]
  },
  {
   "cell_type": "markdown",
   "metadata": {},
   "source": [
    "#### Camera Accessory - Distributed Lag Model\n",
    "#### Home Audio - Distributed Lag Model\n",
    "#### Gaming Accessory - Koyak Model"
   ]
  },
  {
   "cell_type": "markdown",
   "metadata": {},
   "source": [
    "##### Eventhough the Multiplicative Model gives perfect model with R-Squared value and Adjusted R-Squared Value, the data had lot of infinity values, when log is taken, which is corrected to the mean value of the columns.  Thats the reason, the Multiplicative Model has not been chosen as the preferred model for the sub categories."
   ]
  },
  {
   "cell_type": "code",
   "execution_count": null,
   "metadata": {},
   "outputs": [],
   "source": [
    "    "
   ]
  }
 ],
 "metadata": {
  "kernelspec": {
   "display_name": "Python 3",
   "language": "python",
   "name": "python3"
  },
  "language_info": {
   "codemirror_mode": {
    "name": "ipython",
    "version": 3
   },
   "file_extension": ".py",
   "mimetype": "text/x-python",
   "name": "python",
   "nbconvert_exporter": "python",
   "pygments_lexer": "ipython3",
   "version": "3.7.3"
  }
 },
 "nbformat": 4,
 "nbformat_minor": 2
}
